{
  "cells": [
    {
      "cell_type": "code",
      "execution_count": 2,
      "metadata": {
        "id": "yWT0cwZR7xLc",
        "outputId": "2c6861e5-8950-4cdc-82c7-ea7e25cc38a0",
        "colab": {
          "base_uri": "https://localhost:8080/"
        }
      },
      "outputs": [
        {
          "output_type": "stream",
          "name": "stdout",
          "text": [
            "Collecting git+https://github.com/denis-spe/exttorch.git\n",
            "  Cloning https://github.com/denis-spe/exttorch.git to /tmp/pip-req-build-8yk0qnur\n",
            "  Running command git clone --filter=blob:none --quiet https://github.com/denis-spe/exttorch.git /tmp/pip-req-build-8yk0qnur\n",
            "  Resolved https://github.com/denis-spe/exttorch.git to commit 43afd2efff4742954c0ff3a395ee743d8a22f639\n",
            "  Installing build dependencies ... \u001b[?25l\u001b[?25hdone\n",
            "  Getting requirements to build wheel ... \u001b[?25l\u001b[?25hdone\n",
            "  Preparing metadata (pyproject.toml) ... \u001b[?25l\u001b[?25hdone\n",
            "Building wheels for collected packages: exttorch\n",
            "  Building wheel for exttorch (pyproject.toml) ... \u001b[?25l\u001b[?25hdone\n",
            "  Created wheel for exttorch: filename=exttorch-0.0.1-py3-none-any.whl size=14209 sha256=f6c40db8dc0b88055de31b8ffb9f00ec206297d860c00932f5ad23383b93bded\n",
            "  Stored in directory: /tmp/pip-ephem-wheel-cache-mtobhh0x/wheels/f5/02/a6/495ec4cdcef6d3da7eb7972076b23caf500318f58c2bb4afd8\n",
            "Successfully built exttorch\n",
            "Installing collected packages: exttorch\n",
            "Successfully installed exttorch-0.0.1\n"
          ]
        }
      ],
      "source": [
        "%pip install git+https://github.com/denis-spe/exttorch.git"
      ]
    },
    {
      "cell_type": "markdown",
      "source": [
        "**Iris**"
      ],
      "metadata": {
        "id": "rcgz9yl--N5d"
      }
    },
    {
      "cell_type": "code",
      "source": [
        "import torch\n",
        "from torch import nn\n",
        "from torch.optim import Adam, SGD\n",
        "from sklearn.datasets import load_iris\n",
        "from exttorch.model import Sequential\n",
        "from exttorch.metrics import Precision, Recall"
      ],
      "metadata": {
        "id": "x9EienUE8Wlc"
      },
      "execution_count": 14,
      "outputs": []
    },
    {
      "cell_type": "code",
      "source": [
        "x, y = load_iris(return_X_y=True)\n",
        "print(x.shape, y.shape)"
      ],
      "metadata": {
        "id": "v4BDflPy8wjA",
        "outputId": "d872d4d7-a995-4411-b741-080cd1756322",
        "colab": {
          "base_uri": "https://localhost:8080/"
        }
      },
      "execution_count": 4,
      "outputs": [
        {
          "output_type": "stream",
          "name": "stdout",
          "text": [
            "(150, 4) (150,)\n"
          ]
        }
      ]
    },
    {
      "cell_type": "code",
      "source": [
        "set(y)"
      ],
      "metadata": {
        "id": "zNcalY089TM2",
        "outputId": "0453f2ee-7d96-495b-b011-0f349f228578",
        "colab": {
          "base_uri": "https://localhost:8080/"
        }
      },
      "execution_count": 7,
      "outputs": [
        {
          "output_type": "execute_result",
          "data": {
            "text/plain": [
              "{0, 1, 2}"
            ]
          },
          "metadata": {},
          "execution_count": 7
        }
      ]
    },
    {
      "cell_type": "code",
      "source": [
        "iris_model = Sequential([\n",
        "    nn.Linear(4, 16),\n",
        "    nn.ReLU(),\n",
        "    nn.Linear(16, 16),\n",
        "    nn.ReLU(),\n",
        "    nn.Linear(16, 3)\n",
        "])\n",
        "\n",
        "iris_model.compile(\n",
        "    optimizer=Adam(iris_model.parameters()),\n",
        "    loss=nn.CrossEntropyLoss(),\n",
        "    metrics=['accuracy',\n",
        "            #  Precision(average=\"weighted\"),\n",
        "             Recall(average=\"weighted\", zero_division=True)]\n",
        "    )\n",
        "\n",
        "iris_model.fit(x, y, epochs=10, batch_size=32, validation_data=(x, y))"
      ],
      "metadata": {
        "id": "rmIddsrr_UQo",
        "outputId": "77dac4ac-121e-482b-d1c3-cba081dbeab4",
        "colab": {
          "base_uri": "https://localhost:8080/"
        }
      },
      "execution_count": 20,
      "outputs": [
        {
          "output_type": "stream",
          "name": "stdout",
          "text": [
            "Epoch 1/10\n",
            "150/150 [==============================] - 1s 8ms/step - loss: 1.1266 - accuracy: 0.2800 - Recall: 0.2800 - val_loss: 1.1496 - val_accuracy: 0.3333 - val_Recall: 0.3333\n",
            "Epoch 2/10\n",
            "150/150 [==============================] - 1s 6ms/step - loss: 1.0136 - accuracy: 0.3533 - Recall: 0.3533 - val_loss: 1.0184 - val_accuracy: 0.3333 - val_Recall: 0.3333\n",
            "Epoch 3/10\n",
            "150/150 [==============================] - 1s 6ms/step - loss: 0.8869 - accuracy: 0.5600 - Recall: 0.5600 - val_loss: 0.8612 - val_accuracy: 0.3333 - val_Recall: 0.3333\n",
            "Epoch 4/10\n",
            "150/150 [==============================] - 1s 6ms/step - loss: 0.6894 - accuracy: 0.7733 - Recall: 0.7733 - val_loss: 1.0617 - val_accuracy: 0.5933 - val_Recall: 0.5933\n",
            "Epoch 5/10\n",
            "150/150 [==============================] - 1s 6ms/step - loss: 0.4711 - accuracy: 0.8800 - Recall: 0.8800 - val_loss: 1.0556 - val_accuracy: 0.5467 - val_Recall: 0.5467\n",
            "Epoch 6/10\n",
            "150/150 [==============================] - 1s 6ms/step - loss: 0.3720 - accuracy: 0.9267 - Recall: 0.9267 - val_loss: 0.9853 - val_accuracy: 0.6467 - val_Recall: 0.6467\n",
            "Epoch 7/10\n",
            "150/150 [==============================] - 1s 7ms/step - loss: 0.2713 - accuracy: 0.9400 - Recall: 0.9400 - val_loss: 0.8757 - val_accuracy: 0.6667 - val_Recall: 0.6667\n",
            "Epoch 8/10\n",
            "150/150 [==============================] - 1s 9ms/step - loss: 0.2031 - accuracy: 0.9400 - Recall: 0.9400 - val_loss: 0.7776 - val_accuracy: 0.6800 - val_Recall: 0.6800\n",
            "Epoch 9/10\n",
            "150/150 [==============================] - 1s 9ms/step - loss: 0.1645 - accuracy: 0.9400 - Recall: 0.9400 - val_loss: 0.6957 - val_accuracy: 0.6800 - val_Recall: 0.6800\n",
            "Epoch 10/10\n",
            "150/150 [==============================] - 1s 6ms/step - loss: 0.1422 - accuracy: 0.9333 - Recall: 0.9333 - val_loss: 0.6401 - val_accuracy: 0.6933 - val_Recall: 0.6933\n"
          ]
        },
        {
          "output_type": "execute_result",
          "data": {
            "text/plain": [
              "<exttorch.history.History at 0x7defb273e260>"
            ]
          },
          "metadata": {},
          "execution_count": 20
        }
      ]
    }
  ],
  "metadata": {
    "kernelspec": {
      "display_name": "torch",
      "language": "python",
      "name": "python3"
    },
    "language_info": {
      "codemirror_mode": {
        "name": "ipython",
        "version": 3
      },
      "file_extension": ".py",
      "mimetype": "text/x-python",
      "name": "python",
      "nbconvert_exporter": "python",
      "pygments_lexer": "ipython3",
      "version": "3.12.4"
    },
    "colab": {
      "provenance": []
    }
  },
  "nbformat": 4,
  "nbformat_minor": 0
}