{
  "cells": [
    {
      "cell_type": "code",
      "execution_count": 1,
      "metadata": {
        "colab": {
          "base_uri": "https://localhost:8080/"
        },
        "id": "yWT0cwZR7xLc",
        "outputId": "5d472905-597e-4c50-9135-3bf0d6b777b4"
      },
      "outputs": [
        {
          "name": "stdout",
          "output_type": "stream",
          "text": [
            "Collecting git+https://github.com/denis-spe/exttorch.git\n",
            "  Cloning https://github.com/denis-spe/exttorch.git to /tmp/pip-req-build-i55ot8og\n",
            "  Running command git clone --filter=blob:none --quiet https://github.com/denis-spe/exttorch.git /tmp/pip-req-build-i55ot8og\n",
            "  Resolved https://github.com/denis-spe/exttorch.git to commit 1112cf195f1908029863e59251b320f73691e17b\n",
            "  Installing build dependencies ... \u001b[?25l\u001b[?25hdone\n",
            "  Getting requirements to build wheel ... \u001b[?25l\u001b[?25hdone\n",
            "  Preparing metadata (pyproject.toml) ... \u001b[?25l\u001b[?25hdone\n",
            "Building wheels for collected packages: exttorch\n",
            "  Building wheel for exttorch (pyproject.toml) ... \u001b[?25l\u001b[?25hdone\n",
            "  Created wheel for exttorch: filename=exttorch-0.0.1-py3-none-any.whl size=14210 sha256=12acbe1606b5ff9c007e035234b24f208b65e2241a23c3bfb2e5f5acd121f619\n",
            "  Stored in directory: /tmp/pip-ephem-wheel-cache-axsa4o47/wheels/f5/02/a6/495ec4cdcef6d3da7eb7972076b23caf500318f58c2bb4afd8\n",
            "Successfully built exttorch\n",
            "Installing collected packages: exttorch\n",
            "Successfully installed exttorch-0.0.1\n"
          ]
        }
      ],
      "source": [
        "%pip install git+https://github.com/denis-spe/exttorch.git"
      ]
    },
    {
      "cell_type": "markdown",
      "metadata": {
        "id": "rcgz9yl--N5d"
      },
      "source": [
        "**Iris**"
      ]
    },
    {
      "cell_type": "code",
      "execution_count": 11,
      "metadata": {
        "id": "x9EienUE8Wlc"
      },
      "outputs": [],
      "source": [
        "import torch\n",
        "from torch import nn\n",
        "from torch.optim import Adam, SGD\n",
        "from sklearn.datasets import load_iris, load_wine\n",
        "from exttorch.models import Sequential\n",
        "from exttorch.metrics import Precision, Recall"
      ]
    },
    {
      "cell_type": "code",
      "execution_count": 3,
      "metadata": {
        "colab": {
          "base_uri": "https://localhost:8080/"
        },
        "id": "v4BDflPy8wjA",
        "outputId": "85de8b82-cd13-43c0-9c16-dc8a4b463cd6"
      },
      "outputs": [
        {
          "name": "stdout",
          "output_type": "stream",
          "text": [
            "(150, 4) (150,)\n"
          ]
        }
      ],
      "source": [
        "x, y = load_iris(return_X_y=True)\n",
        "print(x.shape, y.shape)"
      ]
    },
    {
      "cell_type": "code",
      "execution_count": 4,
      "metadata": {
        "colab": {
          "base_uri": "https://localhost:8080/"
        },
        "id": "zNcalY089TM2",
        "outputId": "7b2c01d2-9d90-4ea0-821d-c301653662c9"
      },
      "outputs": [
        {
          "data": {
            "text/plain": [
              "{0, 1, 2}"
            ]
          },
          "execution_count": 4,
          "metadata": {},
          "output_type": "execute_result"
        }
      ],
      "source": [
        "set(y)"
      ]
    },
    {
      "cell_type": "code",
      "execution_count": 10,
      "metadata": {
        "colab": {
          "base_uri": "https://localhost:8080/"
        },
        "id": "rmIddsrr_UQo",
        "outputId": "fa672232-7845-4759-dd93-82857ea6d1c1"
      },
      "outputs": [
        {
          "name": "stdout",
          "output_type": "stream",
          "text": [
            "Epoch 1/10\n",
            "105/105 [==============================] - 0s 2ms/step - loss: 1.0652 - accuracy: 0.3524 - Precision: 0.5548 - Recall: 0.3524 - val_loss: 0.9545 - val_accuracy: 0.5778 - val_Precision: 0.8544 - val_Recall: 0.5778\n",
            "Epoch 2/10\n",
            "105/105 [==============================] - 0s 2ms/step - loss: 0.9003 - accuracy: 0.6286 - Precision: 0.6282 - Recall: 0.6286 - val_loss: 0.7421 - val_accuracy: 0.7778 - val_Precision: 0.8544 - val_Recall: 0.7778\n",
            "Epoch 3/10\n",
            "105/105 [==============================] - 0s 2ms/step - loss: 0.7314 - accuracy: 0.7429 - Precision: 0.7697 - Recall: 0.7429 - val_loss: 0.6351 - val_accuracy: 0.6222 - val_Precision: 0.8168 - val_Recall: 0.6222\n",
            "Epoch 4/10\n",
            "105/105 [==============================] - 0s 2ms/step - loss: 0.5644 - accuracy: 0.7333 - Precision: 0.7851 - Recall: 0.7333 - val_loss: 0.5250 - val_accuracy: 0.6000 - val_Precision: 0.8571 - val_Recall: 0.6000\n",
            "Epoch 5/10\n",
            "105/105 [==============================] - 0s 2ms/step - loss: 0.4932 - accuracy: 0.8381 - Precision: 0.8417 - Recall: 0.8381 - val_loss: 0.4265 - val_accuracy: 0.6889 - val_Precision: 0.8444 - val_Recall: 0.6889\n",
            "Epoch 6/10\n",
            "105/105 [==============================] - 0s 2ms/step - loss: 0.4165 - accuracy: 0.8952 - Precision: 0.9119 - Recall: 0.8952 - val_loss: 0.3900 - val_accuracy: 0.8667 - val_Precision: 0.9030 - val_Recall: 0.8667\n",
            "Epoch 7/10\n",
            "105/105 [==============================] - 0s 2ms/step - loss: 0.3525 - accuracy: 0.8762 - Precision: 0.9090 - Recall: 0.8762 - val_loss: 0.3188 - val_accuracy: 0.9556 - val_Precision: 0.9611 - val_Recall: 0.9556\n",
            "Epoch 8/10\n",
            "105/105 [==============================] - 0s 2ms/step - loss: 0.3335 - accuracy: 0.9238 - Precision: 0.9249 - Recall: 0.9238 - val_loss: 0.2605 - val_accuracy: 1.0000 - val_Precision: 1.0000 - val_Recall: 1.0000\n",
            "Epoch 9/10\n",
            "105/105 [==============================] - 0s 2ms/step - loss: 0.2778 - accuracy: 0.9810 - Precision: 0.9820 - Recall: 0.9810 - val_loss: 0.2781 - val_accuracy: 0.9333 - val_Precision: 0.9342 - val_Recall: 0.9333\n",
            "Epoch 10/10\n",
            "105/105 [==============================] - 0s 2ms/step - loss: 0.2757 - accuracy: 0.9524 - Precision: 0.9526 - Recall: 0.9524 - val_loss: 0.2161 - val_accuracy: 0.9556 - val_Precision: 0.9608 - val_Recall: 0.9556\n"
          ]
        },
        {
          "data": {
            "text/plain": [
              "<exttorch.history.History at 0x7f72314b7df0>"
            ]
          },
          "execution_count": 10,
          "metadata": {},
          "output_type": "execute_result"
        }
      ],
      "source": [
        "iris_model = Sequential([\n",
        "    nn.Linear(4, 16),\n",
        "    nn.ReLU(),\n",
        "    nn.Linear(16, 16),\n",
        "    nn.ReLU(),\n",
        "    nn.Linear(16, 3)\n",
        "])\n",
        "\n",
        "iris_model.compile(\n",
        "    optimizer=Adam(iris_model.parameters()),\n",
        "    loss=nn.CrossEntropyLoss(),\n",
        "    metrics=['accuracy',\n",
        "             Precision(average=\"weighted\", zero_division=True),\n",
        "             Recall(average=\"weighted\", zero_division=True)]\n",
        "    )\n",
        "\n",
        "iris_model.fit(x, y, epochs=10, validation_split=0.30)"
      ]
    },
    {
      "cell_type": "markdown",
      "metadata": {
        "id": "xACzq7f0tVFI"
      },
      "source": [
        "## **Wine Dataset**"
      ]
    },
    {
      "cell_type": "code",
      "execution_count": 13,
      "metadata": {
        "colab": {
          "base_uri": "https://localhost:8080/"
        },
        "id": "IYp1BqUytTkU",
        "outputId": "d1bb7fcd-ba17-4ab8-9185-3856fa2afd29"
      },
      "outputs": [
        {
          "data": {
            "text/plain": [
              "((178, 13), (178,))"
            ]
          },
          "execution_count": 13,
          "metadata": {},
          "output_type": "execute_result"
        }
      ],
      "source": [
        "w_x, w_y = load_wine(return_X_y=True)\n",
        "w_x.shape, w_y.shape"
      ]
    },
    {
      "cell_type": "code",
      "execution_count": 15,
      "metadata": {
        "colab": {
          "base_uri": "https://localhost:8080/"
        },
        "id": "nrkYyIBtt6eT",
        "outputId": "9401e3f5-516b-447a-df7e-2c621b9f1c31"
      },
      "outputs": [
        {
          "data": {
            "text/plain": [
              "{0, 1, 2}"
            ]
          },
          "execution_count": 15,
          "metadata": {},
          "output_type": "execute_result"
        }
      ],
      "source": [
        "set(w_y)"
      ]
    },
    {
      "cell_type": "code",
      "execution_count": 21,
      "metadata": {
        "colab": {
          "base_uri": "https://localhost:8080/"
        },
        "id": "kUe24PgcuMO7",
        "outputId": "050870e2-1f84-4ba7-f305-674650e0e59f"
      },
      "outputs": [
        {
          "name": "stdout",
          "output_type": "stream",
          "text": [
            "Epoch 1/10\n",
            "134/134 [==============================] - 1s 10ms/step - loss: 27.9092 - accuracy: 0.3881 - Precision: 0.3856 - Recall: 0.3881 - val_loss: 1.0363 - val_accuracy: 0.5000 - val_Precision: 0.7558 - val_Recall: 0.5000\n",
            "Epoch 2/10\n",
            "134/134 [==============================] - 1s 7ms/step - loss: 1.1419 - accuracy: 0.4552 - Precision: 0.4871 - Recall: 0.4552 - val_loss: 1.0600 - val_accuracy: 0.3409 - val_Precision: 0.7753 - val_Recall: 0.3409\n",
            "Epoch 3/10\n",
            "134/134 [==============================] - 1s 7ms/step - loss: 1.1263 - accuracy: 0.4254 - Precision: 0.7556 - Recall: 0.4254 - val_loss: 1.0091 - val_accuracy: 0.3182 - val_Precision: 0.7831 - val_Recall: 0.3182\n",
            "Epoch 4/10\n",
            "134/134 [==============================] - 1s 7ms/step - loss: 0.9811 - accuracy: 0.4179 - Precision: 0.7567 - Recall: 0.4179 - val_loss: 1.0319 - val_accuracy: 0.3409 - val_Precision: 0.7753 - val_Recall: 0.3409\n",
            "Epoch 5/10\n",
            "134/134 [==============================] - 1s 7ms/step - loss: 1.0098 - accuracy: 0.4776 - Precision: 0.6335 - Recall: 0.4776 - val_loss: 1.0036 - val_accuracy: 0.6364 - val_Precision: 0.7769 - val_Recall: 0.6364\n",
            "Epoch 6/10\n",
            "134/134 [==============================] - 1s 7ms/step - loss: 0.8900 - accuracy: 0.6493 - Precision: 0.6213 - Recall: 0.6493 - val_loss: 0.6503 - val_accuracy: 0.6364 - val_Precision: 0.6122 - val_Recall: 0.6364\n",
            "Epoch 7/10\n",
            "134/134 [==============================] - 1s 6ms/step - loss: 0.7156 - accuracy: 0.5522 - Precision: 0.6905 - Recall: 0.5522 - val_loss: 0.7896 - val_accuracy: 0.6591 - val_Precision: 0.7599 - val_Recall: 0.6591\n",
            "Epoch 8/10\n",
            "134/134 [==============================] - 1s 7ms/step - loss: 0.9495 - accuracy: 0.6045 - Precision: 0.5569 - Recall: 0.6045 - val_loss: 0.9318 - val_accuracy: 0.5000 - val_Precision: 0.6932 - val_Recall: 0.5000\n",
            "Epoch 9/10\n",
            "134/134 [==============================] - 1s 6ms/step - loss: 0.8686 - accuracy: 0.6343 - Precision: 0.7353 - Recall: 0.6343 - val_loss: 0.9041 - val_accuracy: 0.6364 - val_Precision: 0.7379 - val_Recall: 0.6364\n",
            "Epoch 10/10\n",
            "134/134 [==============================] - 1s 7ms/step - loss: 0.7823 - accuracy: 0.6045 - Precision: 0.7488 - Recall: 0.6045 - val_loss: 0.8201 - val_accuracy: 0.7727 - val_Precision: 0.8166 - val_Recall: 0.7727\n"
          ]
        },
        {
          "data": {
            "text/plain": [
              "<exttorch.history.History at 0x7f71cf221270>"
            ]
          },
          "execution_count": 21,
          "metadata": {},
          "output_type": "execute_result"
        }
      ],
      "source": [
        "wine_model = Sequential([\n",
        "    nn.Linear(13, 512),\n",
        "    nn.ReLU(),\n",
        "    nn.Linear(512, 512),\n",
        "    nn.ReLU(),\n",
        "    nn.Linear(512, 3)\n",
        "])\n",
        "\n",
        "wine_model.compile(\n",
        "    optimizer=Adam(wine_model.parameters()),\n",
        "    loss=nn.CrossEntropyLoss(),\n",
        "    metrics=['accuracy',\n",
        "             Precision(average=\"weighted\", zero_division=True),\n",
        "             Recall(average=\"weighted\", zero_division=True)]\n",
        "    )\n",
        "\n",
        "wine_model.fit(w_x, w_y, epochs=10, validation_split=0.25)"
      ]
    }
  ],
  "metadata": {
    "colab": {
      "provenance": []
    },
    "kernelspec": {
      "display_name": "torch",
      "language": "python",
      "name": "python3"
    },
    "language_info": {
      "codemirror_mode": {
        "name": "ipython",
        "version": 3
      },
      "file_extension": ".py",
      "mimetype": "text/x-python",
      "name": "python",
      "nbconvert_exporter": "python",
      "pygments_lexer": "ipython3",
      "version": "3.12.4"
    }
  },
  "nbformat": 4,
  "nbformat_minor": 0
}
