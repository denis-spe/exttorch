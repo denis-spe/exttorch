{
  "cells": [
    {
      "cell_type": "code",
      "execution_count": 2,
      "metadata": {
        "colab": {
          "base_uri": "https://localhost:8080/"
        },
        "id": "yWT0cwZR7xLc",
        "outputId": "76c1cb3d-a66c-4e21-9a67-ecac2bff6536"
      },
      "outputs": [],
      "source": [
        "try:\n",
        "    from google.colab import drive\n",
        "    %pip install git+https://github.com/denis-spe/exttorch.git\n",
        "# !pip install torch~=2.1.0 torch_xla[tpu]~=2.1.0 -f https://storage.googleapis.com/libtpu-releases/index.html\n",
        "except ImportError:\n",
        "    import sys\n",
        "    sys.path.append('/Volumes/Storage/DS/DL/exttorch/src/')"
      ]
    },
    {
      "cell_type": "markdown",
      "metadata": {
        "id": "rcgz9yl--N5d"
      },
      "source": [
        "**Iris**"
      ]
    },
    {
      "cell_type": "code",
      "execution_count": 3,
      "metadata": {
        "id": "x9EienUE8Wlc"
      },
      "outputs": [],
      "source": [
        "import torch\n",
        "from torch import nn\n",
        "from exttorch.optimizers import Adam, SGD\n",
        "from exttorch.losses import CrossEntropyLoss, MSELoss\n",
        "from sklearn.datasets import load_iris, load_wine\n",
        "from exttorch.models import Sequential\n",
        "from exttorch.metrics import Precision, Recall"
      ]
    },
    {
      "cell_type": "code",
      "execution_count": 4,
      "metadata": {
        "colab": {
          "base_uri": "https://localhost:8080/"
        },
        "id": "v4BDflPy8wjA",
        "outputId": "f5d8adc7-26f4-495c-ff0a-f1c0a8b11af0"
      },
      "outputs": [
        {
          "name": "stdout",
          "output_type": "stream",
          "text": [
            "(150, 4) (150,)\n"
          ]
        }
      ],
      "source": [
        "x, y = load_iris(return_X_y=True)\n",
        "print(x.shape, y.shape)"
      ]
    },
    {
      "cell_type": "code",
      "execution_count": 5,
      "metadata": {
        "colab": {
          "base_uri": "https://localhost:8080/"
        },
        "id": "zNcalY089TM2",
        "outputId": "8d519969-4342-433a-9e0f-00067b639317"
      },
      "outputs": [
        {
          "data": {
            "text/plain": [
              "{0, 1, 2}"
            ]
          },
          "execution_count": 5,
          "metadata": {},
          "output_type": "execute_result"
        }
      ],
      "source": [
        "set(y)"
      ]
    },
    {
      "cell_type": "code",
      "execution_count": 6,
      "metadata": {
        "colab": {
          "base_uri": "https://localhost:8080/",
          "height": 446
        },
        "id": "rmIddsrr_UQo",
        "outputId": "668392b6-1bdc-4a38-cc64-212025cd5fef"
      },
      "outputs": [
        {
          "data": {
            "text/html": [
              "<pre>Epoch 7/10\n",
              "4/105 <span style='color: red;'>✖</span> <span style='color: darkgray;'>━</span><span style='color: darkgray;'>━</span><span style='color: darkgray;'>━</span><span style='color: darkgray;'>━</span><span style='color: darkgray;'>━</span><span style='color: darkgray;'>━</span><span style='color: darkgray;'>━</span><span style='color: darkgray;'>━</span><span style='color: darkgray;'>━</span><span style='color: darkgray;'>━</span><span style='color: darkgray;'>━</span><span style='color: darkgray;'>━</span><span style='color: darkgray;'>━</span><span style='color: darkgray;'>━</span><span style='color: darkgray;'>━</span><span style='color: darkgray;'>━</span><span style='color: darkgray;'>━</span><span style='color: darkgray;'>━</span><span style='color: darkgray;'>━</span><span style='color: darkgray;'>━</span>  - loss: 0.4142 - accuracy: 0.9375</pre>"
            ],
            "text/plain": [
              "<IPython.core.display.HTML object>"
            ]
          },
          "metadata": {},
          "output_type": "display_data"
        },
        {
          "ename": "KeyboardInterrupt",
          "evalue": "",
          "output_type": "error",
          "traceback": [
            "\u001b[0;31m---------------------------------------------------------------------------\u001b[0m",
            "\u001b[0;31mKeyboardInterrupt\u001b[0m                         Traceback (most recent call last)",
            "Cell \u001b[0;32mIn[6], line 17\u001b[0m\n\u001b[1;32m      1\u001b[0m iris_model \u001b[38;5;241m=\u001b[39m Sequential([\n\u001b[1;32m      2\u001b[0m     nn\u001b[38;5;241m.\u001b[39mLinear(\u001b[38;5;241m4\u001b[39m, \u001b[38;5;241m16\u001b[39m),\n\u001b[1;32m      3\u001b[0m     nn\u001b[38;5;241m.\u001b[39mReLU(),\n\u001b[0;32m   (...)\u001b[0m\n\u001b[1;32m      6\u001b[0m     nn\u001b[38;5;241m.\u001b[39mLinear(\u001b[38;5;241m16\u001b[39m, \u001b[38;5;241m3\u001b[39m)\n\u001b[1;32m      7\u001b[0m ])\n\u001b[1;32m      9\u001b[0m iris_model\u001b[38;5;241m.\u001b[39mcompile(\n\u001b[1;32m     10\u001b[0m     optimizer\u001b[38;5;241m=\u001b[39mAdam(),\n\u001b[1;32m     11\u001b[0m     loss\u001b[38;5;241m=\u001b[39mCrossEntropyLoss(),\n\u001b[0;32m   (...)\u001b[0m\n\u001b[1;32m     14\u001b[0m             \u001b[38;5;66;03m# Recall(average=\"weighted\")]\u001b[39;00m\n\u001b[1;32m     15\u001b[0m     )\n\u001b[0;32m---> 17\u001b[0m history \u001b[38;5;241m=\u001b[39m \u001b[43miris_model\u001b[49m\u001b[38;5;241;43m.\u001b[39;49m\u001b[43mfit\u001b[49m\u001b[43m(\u001b[49m\u001b[43mx\u001b[49m\u001b[43m,\u001b[49m\u001b[43m \u001b[49m\u001b[43my\u001b[49m\u001b[43m,\u001b[49m\u001b[43m \u001b[49m\u001b[43mepochs\u001b[49m\u001b[38;5;241;43m=\u001b[39;49m\u001b[38;5;241;43m10\u001b[39;49m\u001b[43m,\u001b[49m\u001b[43m \u001b[49m\u001b[43mvalidation_split\u001b[49m\u001b[38;5;241;43m=\u001b[39;49m\u001b[38;5;241;43m0.30\u001b[39;49m\u001b[43m)\u001b[49m\n",
            "File \u001b[0;32m/Volumes/Storage/DS/DL/exttorch/src/exttorch/models.py:522\u001b[0m, in \u001b[0;36mSequential.fit\u001b[0;34m(self, X, y, epochs, random_seed, shuffle, batch_size, val_batch_size, validation_split, validation_data, verbose, callbacks, nprocs, progressbar_width, progressbar_dff_color, progressbar_style, progressbar_show_check_mark, progressbar_color, progressbar_empty_color, **dataloader_kwargs)\u001b[0m\n\u001b[1;32m    519\u001b[0m         \u001b[38;5;28mself\u001b[39m\u001b[38;5;241m.\u001b[39m__handle_callbacks(\u001b[38;5;124m\"\u001b[39m\u001b[38;5;124mon_train_end\u001b[39m\u001b[38;5;124m\"\u001b[39m, logs\u001b[38;5;241m=\u001b[39mhistory\u001b[38;5;241m.\u001b[39mhistory)\n\u001b[1;32m    521\u001b[0m \u001b[38;5;28;01mwith\u001b[39;00m \u001b[38;5;28mself\u001b[39m\u001b[38;5;241m.\u001b[39m__progressbar:\n\u001b[0;32m--> 522\u001b[0m     \u001b[43mtraining\u001b[49m\u001b[43m(\u001b[49m\u001b[43m)\u001b[49m\n\u001b[1;32m    524\u001b[0m \u001b[38;5;66;03m# Set the show validation metrics to False\u001b[39;00m\n\u001b[1;32m    525\u001b[0m \u001b[38;5;28mself\u001b[39m\u001b[38;5;241m.\u001b[39m__progressbar\u001b[38;5;241m.\u001b[39mshow_val_metrics \u001b[38;5;241m=\u001b[39m \u001b[38;5;28;01mFalse\u001b[39;00m\n",
            "File \u001b[0;32m/Volumes/Storage/DS/DL/exttorch/src/exttorch/models.py:321\u001b[0m, in \u001b[0;36mSequential.fit.<locals>.training\u001b[0;34m()\u001b[0m\n\u001b[1;32m    318\u001b[0m \u001b[38;5;28mself\u001b[39m\u001b[38;5;241m.\u001b[39m__progressbar\u001b[38;5;241m.\u001b[39madd_epoch \u001b[38;5;241m=\u001b[39m epoch\n\u001b[1;32m    320\u001b[0m \u001b[38;5;66;03m# Train the train sample\u001b[39;00m\n\u001b[0;32m--> 321\u001b[0m train_metric \u001b[38;5;241m=\u001b[39m \u001b[38;5;28;43mself\u001b[39;49m\u001b[38;5;241;43m.\u001b[39;49m\u001b[43m__train\u001b[49m\u001b[43m(\u001b[49m\n\u001b[1;32m    322\u001b[0m \u001b[43m    \u001b[49m\u001b[43mtrain_sample\u001b[49m\u001b[43m,\u001b[49m\n\u001b[1;32m    323\u001b[0m \u001b[43m    \u001b[49m\u001b[43my\u001b[49m\u001b[38;5;241;43m=\u001b[39;49m\u001b[38;5;28;43;01mNone\u001b[39;49;00m\u001b[43m,\u001b[49m\n\u001b[1;32m    324\u001b[0m \u001b[43m    \u001b[49m\u001b[43mbatch_size\u001b[49m\u001b[38;5;241;43m=\u001b[39;49m\u001b[43mbatch_size\u001b[49m\u001b[43m,\u001b[49m\n\u001b[1;32m    325\u001b[0m \u001b[43m    \u001b[49m\u001b[43mshuffle\u001b[49m\u001b[38;5;241;43m=\u001b[39;49m\u001b[43mshuffle\u001b[49m\u001b[43m,\u001b[49m\n\u001b[1;32m    326\u001b[0m \u001b[43m    \u001b[49m\u001b[43mrandom_seed\u001b[49m\u001b[38;5;241;43m=\u001b[39;49m\u001b[43mrandom_seed\u001b[49m\u001b[43m,\u001b[49m\n\u001b[1;32m    327\u001b[0m \u001b[43m    \u001b[49m\u001b[43mverbose\u001b[49m\u001b[38;5;241;43m=\u001b[39;49m\u001b[43mverbose\u001b[49m\u001b[43m,\u001b[49m\n\u001b[1;32m    328\u001b[0m \u001b[43m    \u001b[49m\u001b[43mnprocs\u001b[49m\u001b[38;5;241;43m=\u001b[39;49m\u001b[43mnprocs\u001b[49m\u001b[43m,\u001b[49m\n\u001b[1;32m    329\u001b[0m \u001b[43m    \u001b[49m\u001b[43mshow_val_metrics\u001b[49m\u001b[38;5;241;43m=\u001b[39;49m\u001b[38;5;28;43;01mTrue\u001b[39;49;00m\u001b[43m,\u001b[49m\n\u001b[1;32m    330\u001b[0m \u001b[43m    \u001b[49m\u001b[38;5;241;43m*\u001b[39;49m\u001b[38;5;241;43m*\u001b[39;49m\u001b[43mdataloader_kwargs\u001b[49m\u001b[43m,\u001b[49m\n\u001b[1;32m    331\u001b[0m \u001b[43m\u001b[49m\u001b[43m)\u001b[49m\n\u001b[1;32m    333\u001b[0m \u001b[38;5;66;03m# Add the train metric to the history\u001b[39;00m\n\u001b[1;32m    334\u001b[0m history\u001b[38;5;241m.\u001b[39madd_history(train_metric)\n",
            "File \u001b[0;32m/Volumes/Storage/DS/DL/exttorch/src/exttorch/models.py:735\u001b[0m, in \u001b[0;36mSequential.__train\u001b[0;34m(self, X, y, batch_size, shuffle, random_seed, verbose, nprocs, show_val_metrics, warmup_steps, **kwargs)\u001b[0m\n\u001b[1;32m    727\u001b[0m \u001b[38;5;28mself\u001b[39m\u001b[38;5;241m.\u001b[39m__metrics_handler(\n\u001b[1;32m    728\u001b[0m     metric_storage,\n\u001b[1;32m    729\u001b[0m     predict,\n\u001b[1;32m    730\u001b[0m     label,\n\u001b[1;32m    731\u001b[0m     loss,\n\u001b[1;32m    732\u001b[0m )\n\u001b[1;32m    734\u001b[0m \u001b[38;5;66;03m# Update the progress bar\u001b[39;00m\n\u001b[0;32m--> 735\u001b[0m \u001b[38;5;28;43mself\u001b[39;49m\u001b[38;5;241;43m.\u001b[39;49m\u001b[43m__progressbar\u001b[49m\u001b[38;5;241;43m.\u001b[39;49m\u001b[43mupdate\u001b[49m\u001b[43m(\u001b[49m\u001b[43midx\u001b[49m\u001b[43m \u001b[49m\u001b[38;5;241;43m+\u001b[39;49m\u001b[43m \u001b[49m\u001b[38;5;241;43m1\u001b[39;49m\u001b[43m,\u001b[49m\u001b[43m \u001b[49m\u001b[43mmetric_storage\u001b[49m\u001b[38;5;241;43m.\u001b[39;49m\u001b[43mmeasurements\u001b[49m\u001b[38;5;241;43m.\u001b[39;49m\u001b[43mitems\u001b[49m\u001b[43m(\u001b[49m\u001b[43m)\u001b[49m\u001b[43m)\u001b[49m\n\u001b[1;32m    737\u001b[0m \u001b[38;5;66;03m# Compute the gradient\u001b[39;00m\n\u001b[1;32m    738\u001b[0m loss\u001b[38;5;241m.\u001b[39mbackward()\n",
            "File \u001b[0;32m/Volumes/Storage/DS/DL/exttorch/src/exttorch/utils.py:406\u001b[0m, in \u001b[0;36mProgressBar.update\u001b[0;34m(self, current, metric)\u001b[0m\n\u001b[1;32m    404\u001b[0m \u001b[38;5;28;01mif\u001b[39;00m _is_notebook():\n\u001b[1;32m    405\u001b[0m     clear_output(wait\u001b[38;5;241m=\u001b[39m\u001b[38;5;28;01mTrue\u001b[39;00m)\n\u001b[0;32m--> 406\u001b[0m     \u001b[43mdisplay\u001b[49m\u001b[43m(\u001b[49m\u001b[43mHTML\u001b[49m\u001b[43m(\u001b[49m\u001b[38;5;124;43mf\u001b[39;49m\u001b[38;5;124;43m\"\u001b[39;49m\u001b[38;5;124;43m<pre>\u001b[39;49m\u001b[38;5;132;43;01m{\u001b[39;49;00m\u001b[43mprogress\u001b[49m\u001b[38;5;132;43;01m}\u001b[39;49;00m\u001b[38;5;124;43m</pre>\u001b[39;49m\u001b[38;5;124;43m\"\u001b[39;49m\u001b[43m)\u001b[49m\u001b[43m)\u001b[49m\n\u001b[1;32m    407\u001b[0m     \u001b[38;5;28;01mif\u001b[39;00m current \u001b[38;5;241m==\u001b[39m \u001b[38;5;28mself\u001b[39m\u001b[38;5;241m.\u001b[39mtotal \u001b[38;5;129;01mand\u001b[39;00m \u001b[38;5;129;01mnot\u001b[39;00m \u001b[38;5;28mself\u001b[39m\u001b[38;5;241m.\u001b[39mshow_val_metrics:\n\u001b[1;32m    408\u001b[0m         \u001b[38;5;28mself\u001b[39m\u001b[38;5;241m.\u001b[39mnew_epoch()\n",
            "File \u001b[0;32m/opt/anaconda3/envs/ds/lib/python3.10/site-packages/IPython/core/display_functions.py:305\u001b[0m, in \u001b[0;36mdisplay\u001b[0;34m(include, exclude, metadata, transient, display_id, raw, clear, *objs, **kwargs)\u001b[0m\n\u001b[1;32m    302\u001b[0m         \u001b[38;5;28;01mif\u001b[39;00m metadata:\n\u001b[1;32m    303\u001b[0m             \u001b[38;5;66;03m# kwarg-specified metadata gets precedence\u001b[39;00m\n\u001b[1;32m    304\u001b[0m             _merge(md_dict, metadata)\n\u001b[0;32m--> 305\u001b[0m         \u001b[43mpublish_display_data\u001b[49m\u001b[43m(\u001b[49m\u001b[43mdata\u001b[49m\u001b[38;5;241;43m=\u001b[39;49m\u001b[43mformat_dict\u001b[49m\u001b[43m,\u001b[49m\u001b[43m \u001b[49m\u001b[43mmetadata\u001b[49m\u001b[38;5;241;43m=\u001b[39;49m\u001b[43mmd_dict\u001b[49m\u001b[43m,\u001b[49m\u001b[43m \u001b[49m\u001b[38;5;241;43m*\u001b[39;49m\u001b[38;5;241;43m*\u001b[39;49m\u001b[43mkwargs\u001b[49m\u001b[43m)\u001b[49m\n\u001b[1;32m    306\u001b[0m \u001b[38;5;28;01mif\u001b[39;00m display_id:\n\u001b[1;32m    307\u001b[0m     \u001b[38;5;28;01mreturn\u001b[39;00m DisplayHandle(display_id)\n",
            "File \u001b[0;32m/opt/anaconda3/envs/ds/lib/python3.10/site-packages/IPython/core/display_functions.py:93\u001b[0m, in \u001b[0;36mpublish_display_data\u001b[0;34m(data, metadata, source, transient, **kwargs)\u001b[0m\n\u001b[1;32m     90\u001b[0m \u001b[38;5;28;01mif\u001b[39;00m transient:\n\u001b[1;32m     91\u001b[0m     kwargs[\u001b[38;5;124m'\u001b[39m\u001b[38;5;124mtransient\u001b[39m\u001b[38;5;124m'\u001b[39m] \u001b[38;5;241m=\u001b[39m transient\n\u001b[0;32m---> 93\u001b[0m \u001b[43mdisplay_pub\u001b[49m\u001b[38;5;241;43m.\u001b[39;49m\u001b[43mpublish\u001b[49m\u001b[43m(\u001b[49m\n\u001b[1;32m     94\u001b[0m \u001b[43m    \u001b[49m\u001b[43mdata\u001b[49m\u001b[38;5;241;43m=\u001b[39;49m\u001b[43mdata\u001b[49m\u001b[43m,\u001b[49m\n\u001b[1;32m     95\u001b[0m \u001b[43m    \u001b[49m\u001b[43mmetadata\u001b[49m\u001b[38;5;241;43m=\u001b[39;49m\u001b[43mmetadata\u001b[49m\u001b[43m,\u001b[49m\n\u001b[1;32m     96\u001b[0m \u001b[43m    \u001b[49m\u001b[38;5;241;43m*\u001b[39;49m\u001b[38;5;241;43m*\u001b[39;49m\u001b[43mkwargs\u001b[49m\n\u001b[1;32m     97\u001b[0m \u001b[43m\u001b[49m\u001b[43m)\u001b[49m\n",
            "File \u001b[0;32m/opt/anaconda3/envs/ds/lib/python3.10/site-packages/ipykernel/zmqshell.py:130\u001b[0m, in \u001b[0;36mZMQDisplayPublisher.publish\u001b[0;34m(self, data, metadata, transient, update)\u001b[0m\n\u001b[1;32m    127\u001b[0m     \u001b[38;5;28;01mif\u001b[39;00m msg \u001b[38;5;129;01mis\u001b[39;00m \u001b[38;5;28;01mNone\u001b[39;00m:\n\u001b[1;32m    128\u001b[0m         \u001b[38;5;28;01mreturn\u001b[39;00m  \u001b[38;5;66;03m# type:ignore[unreachable]\u001b[39;00m\n\u001b[0;32m--> 130\u001b[0m \u001b[38;5;28;43mself\u001b[39;49m\u001b[38;5;241;43m.\u001b[39;49m\u001b[43msession\u001b[49m\u001b[38;5;241;43m.\u001b[39;49m\u001b[43msend\u001b[49m\u001b[43m(\u001b[49m\n\u001b[1;32m    131\u001b[0m \u001b[43m    \u001b[49m\u001b[38;5;28;43mself\u001b[39;49m\u001b[38;5;241;43m.\u001b[39;49m\u001b[43mpub_socket\u001b[49m\u001b[43m,\u001b[49m\n\u001b[1;32m    132\u001b[0m \u001b[43m    \u001b[49m\u001b[43mmsg\u001b[49m\u001b[43m,\u001b[49m\n\u001b[1;32m    133\u001b[0m \u001b[43m    \u001b[49m\u001b[43mident\u001b[49m\u001b[38;5;241;43m=\u001b[39;49m\u001b[38;5;28;43mself\u001b[39;49m\u001b[38;5;241;43m.\u001b[39;49m\u001b[43mtopic\u001b[49m\u001b[43m,\u001b[49m\n\u001b[1;32m    134\u001b[0m \u001b[43m\u001b[49m\u001b[43m)\u001b[49m\n",
            "File \u001b[0;32m/opt/anaconda3/envs/ds/lib/python3.10/site-packages/jupyter_client/session.py:852\u001b[0m, in \u001b[0;36mSession.send\u001b[0;34m(self, stream, msg_or_type, content, parent, ident, buffers, track, header, metadata)\u001b[0m\n\u001b[1;32m    850\u001b[0m \u001b[38;5;28;01mif\u001b[39;00m \u001b[38;5;28mself\u001b[39m\u001b[38;5;241m.\u001b[39madapt_version:\n\u001b[1;32m    851\u001b[0m     msg \u001b[38;5;241m=\u001b[39m adapt(msg, \u001b[38;5;28mself\u001b[39m\u001b[38;5;241m.\u001b[39madapt_version)\n\u001b[0;32m--> 852\u001b[0m to_send \u001b[38;5;241m=\u001b[39m \u001b[38;5;28;43mself\u001b[39;49m\u001b[38;5;241;43m.\u001b[39;49m\u001b[43mserialize\u001b[49m\u001b[43m(\u001b[49m\u001b[43mmsg\u001b[49m\u001b[43m,\u001b[49m\u001b[43m \u001b[49m\u001b[43mident\u001b[49m\u001b[43m)\u001b[49m\n\u001b[1;32m    853\u001b[0m to_send\u001b[38;5;241m.\u001b[39mextend(buffers)\n\u001b[1;32m    854\u001b[0m longest \u001b[38;5;241m=\u001b[39m \u001b[38;5;28mmax\u001b[39m([\u001b[38;5;28mlen\u001b[39m(s) \u001b[38;5;28;01mfor\u001b[39;00m s \u001b[38;5;129;01min\u001b[39;00m to_send])\n",
            "File \u001b[0;32m/opt/anaconda3/envs/ds/lib/python3.10/site-packages/jupyter_client/session.py:747\u001b[0m, in \u001b[0;36mSession.serialize\u001b[0;34m(self, msg, ident)\u001b[0m\n\u001b[1;32m    744\u001b[0m     to_send\u001b[38;5;241m.\u001b[39mappend(ident)\n\u001b[1;32m    745\u001b[0m to_send\u001b[38;5;241m.\u001b[39mappend(DELIM)\n\u001b[0;32m--> 747\u001b[0m signature \u001b[38;5;241m=\u001b[39m \u001b[38;5;28;43mself\u001b[39;49m\u001b[38;5;241;43m.\u001b[39;49m\u001b[43msign\u001b[49m\u001b[43m(\u001b[49m\u001b[43mreal_message\u001b[49m\u001b[43m)\u001b[49m\n\u001b[1;32m    748\u001b[0m to_send\u001b[38;5;241m.\u001b[39mappend(signature)\n\u001b[1;32m    750\u001b[0m to_send\u001b[38;5;241m.\u001b[39mextend(real_message)\n",
            "File \u001b[0;32m/opt/anaconda3/envs/ds/lib/python3.10/site-packages/jupyter_client/session.py:687\u001b[0m, in \u001b[0;36mSession.sign\u001b[0;34m(self, msg_list)\u001b[0m\n\u001b[1;32m    685\u001b[0m h \u001b[38;5;241m=\u001b[39m \u001b[38;5;28mself\u001b[39m\u001b[38;5;241m.\u001b[39mauth\u001b[38;5;241m.\u001b[39mcopy()\n\u001b[1;32m    686\u001b[0m \u001b[38;5;28;01mfor\u001b[39;00m m \u001b[38;5;129;01min\u001b[39;00m msg_list:\n\u001b[0;32m--> 687\u001b[0m     \u001b[43mh\u001b[49m\u001b[38;5;241;43m.\u001b[39;49m\u001b[43mupdate\u001b[49m\u001b[43m(\u001b[49m\u001b[43mm\u001b[49m\u001b[43m)\u001b[49m\n\u001b[1;32m    688\u001b[0m \u001b[38;5;28;01mreturn\u001b[39;00m h\u001b[38;5;241m.\u001b[39mhexdigest()\u001b[38;5;241m.\u001b[39mencode()\n",
            "File \u001b[0;32m/opt/anaconda3/envs/ds/lib/python3.10/hmac.py:120\u001b[0m, in \u001b[0;36mHMAC.update\u001b[0;34m(self, msg)\u001b[0m\n\u001b[1;32m    118\u001b[0m \u001b[38;5;250m\u001b[39m\u001b[38;5;124;03m\"\"\"Feed data from msg into this hashing object.\"\"\"\u001b[39;00m\n\u001b[1;32m    119\u001b[0m inst \u001b[38;5;241m=\u001b[39m \u001b[38;5;28mself\u001b[39m\u001b[38;5;241m.\u001b[39m_hmac \u001b[38;5;129;01mor\u001b[39;00m \u001b[38;5;28mself\u001b[39m\u001b[38;5;241m.\u001b[39m_inner\n\u001b[0;32m--> 120\u001b[0m \u001b[43minst\u001b[49m\u001b[38;5;241;43m.\u001b[39;49m\u001b[43mupdate\u001b[49m\u001b[43m(\u001b[49m\u001b[43mmsg\u001b[49m\u001b[43m)\u001b[49m\n",
            "\u001b[0;31mKeyboardInterrupt\u001b[0m: "
          ]
        }
      ],
      "source": [
        "iris_model = Sequential([\n",
        "    nn.Linear(4, 16),\n",
        "    nn.ReLU(),\n",
        "    nn.Linear(16, 16),\n",
        "    nn.ReLU(),\n",
        "    nn.Linear(16, 3)\n",
        "])\n",
        "\n",
        "iris_model.compile(\n",
        "    optimizer=Adam(),\n",
        "    loss=CrossEntropyLoss(),\n",
        "    metrics=['accuracy']\n",
        "            # Precision(average=\"weighted\"),\n",
        "            # Recall(average=\"weighted\")]\n",
        "    )\n",
        "\n",
        "history = iris_model.fit(x, y, epochs=10, validation_split=0.30)"
      ]
    },
    {
      "cell_type": "code",
      "execution_count": null,
      "metadata": {
        "colab": {
          "base_uri": "https://localhost:8080/"
        },
        "id": "GQC6UOaSsBVA",
        "outputId": "9ff8c100-8721-4620-a29b-559a323aad05"
      },
      "outputs": [
        {
          "data": {
            "text/plain": [
              "{'accuracy': [0.3335,\n",
              "  0.3421,\n",
              "  0.3421,\n",
              "  0.3406,\n",
              "  0.3588,\n",
              "  0.3582,\n",
              "  0.358,\n",
              "  0.358,\n",
              "  0.3573,\n",
              "  0.3572],\n",
              " 'val_accuracy': [0.2776,\n",
              "  0.2776,\n",
              "  0.2865,\n",
              "  0.3797,\n",
              "  0.3909,\n",
              "  0.3952,\n",
              "  0.3958,\n",
              "  0.3958,\n",
              "  0.3958,\n",
              "  0.3958],\n",
              " 'loss': [1.0634,\n",
              "  0.845,\n",
              "  0.6207,\n",
              "  0.4888,\n",
              "  0.4145,\n",
              "  0.3621,\n",
              "  0.3196,\n",
              "  0.2828,\n",
              "  0.2521,\n",
              "  0.2254],\n",
              " 'val_loss': [0.9272,\n",
              "  0.7325,\n",
              "  0.5982,\n",
              "  0.5006,\n",
              "  0.422,\n",
              "  0.3606,\n",
              "  0.3098,\n",
              "  0.2668,\n",
              "  0.2317,\n",
              "  0.2029]}"
            ]
          },
          "execution_count": 6,
          "metadata": {},
          "output_type": "execute_result"
        }
      ],
      "source": [
        "history.history"
      ]
    },
    {
      "cell_type": "markdown",
      "metadata": {
        "id": "xACzq7f0tVFI"
      },
      "source": [
        "## **Wine Dataset**"
      ]
    },
    {
      "cell_type": "code",
      "execution_count": 7,
      "metadata": {
        "colab": {
          "base_uri": "https://localhost:8080/"
        },
        "id": "IYp1BqUytTkU",
        "outputId": "add4a832-cacb-4e9b-ac05-6574227194ab"
      },
      "outputs": [
        {
          "data": {
            "text/plain": [
              "((178, 13), (178,))"
            ]
          },
          "execution_count": 7,
          "metadata": {},
          "output_type": "execute_result"
        }
      ],
      "source": [
        "w_x, w_y = load_wine(return_X_y=True)\n",
        "w_x.shape, w_y.shape"
      ]
    },
    {
      "cell_type": "code",
      "execution_count": 8,
      "metadata": {
        "colab": {
          "base_uri": "https://localhost:8080/"
        },
        "id": "nrkYyIBtt6eT",
        "outputId": "620f668f-eb10-4236-be2b-93b1b26514c1"
      },
      "outputs": [
        {
          "data": {
            "text/plain": [
              "{0, 1, 2}"
            ]
          },
          "execution_count": 8,
          "metadata": {},
          "output_type": "execute_result"
        }
      ],
      "source": [
        "set(w_y)"
      ]
    },
    {
      "cell_type": "code",
      "execution_count": 9,
      "metadata": {
        "colab": {
          "base_uri": "https://localhost:8080/",
          "height": 356
        },
        "id": "kUe24PgcuMO7",
        "outputId": "24288b89-83b9-4efa-9e36-0e8c6f823de9"
      },
      "outputs": [
        {
          "name": "stdout",
          "output_type": "stream",
          "text": [
            "\n",
            "Epoch 1/10\n",
            "134/134 \u001b[92m✔️\u001b[0m \u001b[92m━\u001b[0m\u001b[92m━\u001b[0m\u001b[92m━\u001b[0m\u001b[92m━\u001b[0m\u001b[92m━\u001b[0m\u001b[92m━\u001b[0m\u001b[92m━\u001b[0m\u001b[92m━\u001b[0m\u001b[92m━\u001b[0m\u001b[92m━\u001b[0m\u001b[92m━\u001b[0m\u001b[92m━\u001b[0m\u001b[92m━\u001b[0m\u001b[92m━\u001b[0m\u001b[92m━\u001b[0m\u001b[92m━\u001b[0m\u001b[92m━\u001b[0m\u001b[92m━\u001b[0m\u001b[92m━\u001b[0m\u001b[92m━\u001b[0m 14s 200ms/step  - loss: 34.3560 - accuracy: 0.3553 - val_loss: 3.2153 - val_accuracy: 0.1971\n",
            "Epoch 2/10\n",
            "134/134 \u001b[92m✔️\u001b[0m \u001b[92m━\u001b[0m\u001b[92m━\u001b[0m\u001b[92m━\u001b[0m\u001b[92m━\u001b[0m\u001b[92m━\u001b[0m\u001b[92m━\u001b[0m\u001b[92m━\u001b[0m\u001b[92m━\u001b[0m\u001b[92m━\u001b[0m\u001b[92m━\u001b[0m\u001b[92m━\u001b[0m\u001b[92m━\u001b[0m\u001b[92m━\u001b[0m\u001b[92m━\u001b[0m\u001b[92m━\u001b[0m\u001b[92m━\u001b[0m\u001b[92m━\u001b[0m\u001b[92m━\u001b[0m\u001b[92m━\u001b[0m\u001b[92m━\u001b[0m 2s 114ms/step  - loss: 1.9630 - accuracy: 0.3667 - val_loss: 0.6352 - val_accuracy: 0.3543\n",
            "Epoch 3/10\n",
            "134/134 \u001b[92m✔️\u001b[0m \u001b[92m━\u001b[0m\u001b[92m━\u001b[0m\u001b[92m━\u001b[0m\u001b[92m━\u001b[0m\u001b[92m━\u001b[0m\u001b[92m━\u001b[0m\u001b[92m━\u001b[0m\u001b[92m━\u001b[0m\u001b[92m━\u001b[0m\u001b[92m━\u001b[0m\u001b[92m━\u001b[0m\u001b[92m━\u001b[0m\u001b[92m━\u001b[0m\u001b[92m━\u001b[0m\u001b[92m━\u001b[0m\u001b[92m━\u001b[0m\u001b[92m━\u001b[0m\u001b[92m━\u001b[0m\u001b[92m━\u001b[0m\u001b[92m━\u001b[0m 3s 139ms/step  - loss: 0.9942 - accuracy: 0.3583 - val_loss: 0.6102 - val_accuracy: 0.5170\n",
            "Epoch 4/10\n",
            "134/134 \u001b[92m✔️\u001b[0m \u001b[92m━\u001b[0m\u001b[92m━\u001b[0m\u001b[92m━\u001b[0m\u001b[92m━\u001b[0m\u001b[92m━\u001b[0m\u001b[92m━\u001b[0m\u001b[92m━\u001b[0m\u001b[92m━\u001b[0m\u001b[92m━\u001b[0m\u001b[92m━\u001b[0m\u001b[92m━\u001b[0m\u001b[92m━\u001b[0m\u001b[92m━\u001b[0m\u001b[92m━\u001b[0m\u001b[92m━\u001b[0m\u001b[92m━\u001b[0m\u001b[92m━\u001b[0m\u001b[92m━\u001b[0m\u001b[92m━\u001b[0m\u001b[92m━\u001b[0m 3s 216ms/step  - loss: 0.8130 - accuracy: 0.3391 - val_loss: 0.8717 - val_accuracy: 0.4458\n",
            "Epoch 5/10\n",
            "134/134 \u001b[92m✔️\u001b[0m \u001b[92m━\u001b[0m\u001b[92m━\u001b[0m\u001b[92m━\u001b[0m\u001b[92m━\u001b[0m\u001b[92m━\u001b[0m\u001b[92m━\u001b[0m\u001b[92m━\u001b[0m\u001b[92m━\u001b[0m\u001b[92m━\u001b[0m\u001b[92m━\u001b[0m\u001b[92m━\u001b[0m\u001b[92m━\u001b[0m\u001b[92m━\u001b[0m\u001b[92m━\u001b[0m\u001b[92m━\u001b[0m\u001b[92m━\u001b[0m\u001b[92m━\u001b[0m\u001b[92m━\u001b[0m\u001b[92m━\u001b[0m\u001b[92m━\u001b[0m 3s 213ms/step  - loss: 0.7394 - accuracy: 0.3537 - val_loss: 0.7870 - val_accuracy: 0.4458\n",
            "Epoch 6/10\n",
            "134/134 \u001b[92m✔️\u001b[0m \u001b[92m━\u001b[0m\u001b[92m━\u001b[0m\u001b[92m━\u001b[0m\u001b[92m━\u001b[0m\u001b[92m━\u001b[0m\u001b[92m━\u001b[0m\u001b[92m━\u001b[0m\u001b[92m━\u001b[0m\u001b[92m━\u001b[0m\u001b[92m━\u001b[0m\u001b[92m━\u001b[0m\u001b[92m━\u001b[0m\u001b[92m━\u001b[0m\u001b[92m━\u001b[0m\u001b[92m━\u001b[0m\u001b[92m━\u001b[0m\u001b[92m━\u001b[0m\u001b[92m━\u001b[0m\u001b[92m━\u001b[0m\u001b[92m━\u001b[0m 3s 215ms/step  - loss: 0.7461 - accuracy: 0.3501 - val_loss: 0.6955 - val_accuracy: 0.5119\n",
            "Epoch 7/10\n",
            "134/134 \u001b[92m✔️\u001b[0m \u001b[92m━\u001b[0m\u001b[92m━\u001b[0m\u001b[92m━\u001b[0m\u001b[92m━\u001b[0m\u001b[92m━\u001b[0m\u001b[92m━\u001b[0m\u001b[92m━\u001b[0m\u001b[92m━\u001b[0m\u001b[92m━\u001b[0m\u001b[92m━\u001b[0m\u001b[92m━\u001b[0m\u001b[92m━\u001b[0m\u001b[92m━\u001b[0m\u001b[92m━\u001b[0m\u001b[92m━\u001b[0m\u001b[92m━\u001b[0m\u001b[92m━\u001b[0m\u001b[92m━\u001b[0m\u001b[92m━\u001b[0m\u001b[92m━\u001b[0m 5s 209ms/step  - loss: 0.7531 - accuracy: 0.3523 - val_loss: 0.7101 - val_accuracy: 0.4489\n",
            "Epoch 8/10\n",
            "134/134 \u001b[92m✔️\u001b[0m \u001b[92m━\u001b[0m\u001b[92m━\u001b[0m\u001b[92m━\u001b[0m\u001b[92m━\u001b[0m\u001b[92m━\u001b[0m\u001b[92m━\u001b[0m\u001b[92m━\u001b[0m\u001b[92m━\u001b[0m\u001b[92m━\u001b[0m\u001b[92m━\u001b[0m\u001b[92m━\u001b[0m\u001b[92m━\u001b[0m\u001b[92m━\u001b[0m\u001b[92m━\u001b[0m\u001b[92m━\u001b[0m\u001b[92m━\u001b[0m\u001b[92m━\u001b[0m\u001b[92m━\u001b[0m\u001b[92m━\u001b[0m\u001b[92m━\u001b[0m 6s 214ms/step  - loss: 0.7261 - accuracy: 0.3517 - val_loss: 0.7616 - val_accuracy: 0.4469\n",
            "Epoch 9/10\n",
            "134/134 \u001b[92m✔️\u001b[0m \u001b[92m━\u001b[0m\u001b[92m━\u001b[0m\u001b[92m━\u001b[0m\u001b[92m━\u001b[0m\u001b[92m━\u001b[0m\u001b[92m━\u001b[0m\u001b[92m━\u001b[0m\u001b[92m━\u001b[0m\u001b[92m━\u001b[0m\u001b[92m━\u001b[0m\u001b[92m━\u001b[0m\u001b[92m━\u001b[0m\u001b[92m━\u001b[0m\u001b[92m━\u001b[0m\u001b[92m━\u001b[0m\u001b[92m━\u001b[0m\u001b[92m━\u001b[0m\u001b[92m━\u001b[0m\u001b[92m━\u001b[0m\u001b[92m━\u001b[0m 6s 252ms/step  - loss: 0.7455 - accuracy: 0.3567 - val_loss: 0.7019 - val_accuracy: 0.5111\n",
            "Epoch 10/10\n",
            "134/134 \u001b[92m✔️\u001b[0m \u001b[92m━\u001b[0m\u001b[92m━\u001b[0m\u001b[92m━\u001b[0m\u001b[92m━\u001b[0m\u001b[92m━\u001b[0m\u001b[92m━\u001b[0m\u001b[92m━\u001b[0m\u001b[92m━\u001b[0m\u001b[92m━\u001b[0m\u001b[92m━\u001b[0m\u001b[92m━\u001b[0m\u001b[92m━\u001b[0m\u001b[92m━\u001b[0m\u001b[92m━\u001b[0m\u001b[92m━\u001b[0m\u001b[92m━\u001b[0m\u001b[92m━\u001b[0m\u001b[92m━\u001b[0m\u001b[92m━\u001b[0m\u001b[92m━\u001b[0m 5s 226ms/step  - loss: 0.6980 - accuracy: 0.3531 - val_loss: 0.6900 - val_accuracy: 0.5596\n"
          ]
        },
        {
          "data": {
            "text/plain": [
              "<exttorch.history.History at 0x2e0219510>"
            ]
          },
          "execution_count": 9,
          "metadata": {},
          "output_type": "execute_result"
        }
      ],
      "source": [
        "wine_model = Sequential([\n",
        "    nn.Linear(13, 512),\n",
        "    nn.ReLU(),\n",
        "    nn.Linear(512, 512),\n",
        "    nn.ReLU(),\n",
        "    nn.Linear(512, 3)\n",
        "])\n",
        "\n",
        "wine_model.compile(\n",
        "    optimizer=Adam(),\n",
        "    loss=CrossEntropyLoss(),\n",
        "    metrics=['accuracy']\n",
        "    )\n",
        "\n",
        "wine_model.fit(w_x, w_y, epochs=10, validation_split=0.25)"
      ]
    },
    {
      "cell_type": "code",
      "execution_count": 16,
      "metadata": {},
      "outputs": [
        {
          "name": "stdout",
          "output_type": "stream",
          "text": [
            "178/178 \u001b[92m✔️\u001b[0m \u001b[92m━\u001b[0m\u001b[92m━\u001b[0m\u001b[92m━\u001b[0m\u001b[92m━\u001b[0m\u001b[92m━\u001b[0m\u001b[92m━\u001b[0m\u001b[92m━\u001b[0m\u001b[92m━\u001b[0m\u001b[92m━\u001b[0m\u001b[92m━\u001b[0m\u001b[92m━\u001b[0m\u001b[92m━\u001b[0m\u001b[92m━\u001b[0m\u001b[92m━\u001b[0m\u001b[92m━\u001b[0m\u001b[92m━\u001b[0m\u001b[92m━\u001b[0m\u001b[92m━\u001b[0m\u001b[92m━\u001b[0m\u001b[92m━\u001b[0m 1s 4ms/step  - val_loss: 0.7415 - val_accuracy: 0.5653\n"
          ]
        },
        {
          "data": {
            "text/plain": [
              "{'val_loss': 0.7415, 'val_accuracy': 0.5653}"
            ]
          },
          "execution_count": 16,
          "metadata": {},
          "output_type": "execute_result"
        }
      ],
      "source": [
        "wine_model.evaluate(w_x, w_y)"
      ]
    },
    {
      "cell_type": "code",
      "execution_count": 17,
      "metadata": {},
      "outputs": [
        {
          "ename": "ImportError",
          "evalue": "cannot import name 'SinglePredictionsFormat' from 'exttorch._data_handle' (/Volumes/Storage/DS/DL/exttorch/src/exttorch/_data_handle.py)",
          "output_type": "error",
          "traceback": [
            "\u001b[0;31m---------------------------------------------------------------------------\u001b[0m",
            "\u001b[0;31mImportError\u001b[0m                               Traceback (most recent call last)",
            "Cell \u001b[0;32mIn[17], line 1\u001b[0m\n\u001b[0;32m----> 1\u001b[0m \u001b[43mwine_model\u001b[49m\u001b[38;5;241;43m.\u001b[39;49m\u001b[43mpredict\u001b[49m\u001b[43m(\u001b[49m\u001b[43mw_x\u001b[49m\u001b[43m[\u001b[49m\u001b[43m:\u001b[49m\u001b[38;5;241;43m5\u001b[39;49m\u001b[43m]\u001b[49m\u001b[43m)\u001b[49m\n",
            "File \u001b[0;32m/Volumes/Storage/DS/DL/exttorch/src/exttorch/models.py:524\u001b[0m, in \u001b[0;36mSequential.predict\u001b[0;34m(self, X)\u001b[0m\n\u001b[1;32m    523\u001b[0m \u001b[38;5;28;01mdef\u001b[39;00m\u001b[38;5;250m \u001b[39m\u001b[38;5;21mpredict\u001b[39m(\u001b[38;5;28mself\u001b[39m, X):\n\u001b[0;32m--> 524\u001b[0m     \u001b[38;5;28;01mfrom\u001b[39;00m\u001b[38;5;250m \u001b[39m\u001b[38;5;21;01m.\u001b[39;00m\u001b[38;5;21;01m_data_handle\u001b[39;00m\u001b[38;5;250m \u001b[39m\u001b[38;5;28;01mimport\u001b[39;00m SinglePredictionsFormat\n\u001b[1;32m    526\u001b[0m     \u001b[38;5;66;03m# Get the probabilities of x\u001b[39;00m\n\u001b[1;32m    527\u001b[0m     proba \u001b[38;5;241m=\u001b[39m \u001b[38;5;28mself\u001b[39m\u001b[38;5;241m.\u001b[39mpredict_proba(X)\n",
            "\u001b[0;31mImportError\u001b[0m: cannot import name 'SinglePredictionsFormat' from 'exttorch._data_handle' (/Volumes/Storage/DS/DL/exttorch/src/exttorch/_data_handle.py)"
          ]
        }
      ],
      "source": [
        "wine_model.predict(w_x[:5])"
      ]
    }
  ],
  "metadata": {
    "colab": {
      "provenance": []
    },
    "kernelspec": {
      "display_name": "ds",
      "language": "python",
      "name": "python3"
    },
    "language_info": {
      "codemirror_mode": {
        "name": "ipython",
        "version": 3
      },
      "file_extension": ".py",
      "mimetype": "text/x-python",
      "name": "python",
      "nbconvert_exporter": "python",
      "pygments_lexer": "ipython3",
      "version": "3.10.16"
    }
  },
  "nbformat": 4,
  "nbformat_minor": 0
}
