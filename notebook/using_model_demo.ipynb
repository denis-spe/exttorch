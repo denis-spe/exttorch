{
  "cells": [
    {
      "cell_type": "code",
      "execution_count": 1,
      "metadata": {
        "colab": {
          "base_uri": "https://localhost:8080/"
        },
        "id": "yWT0cwZR7xLc",
        "outputId": "76c1cb3d-a66c-4e21-9a67-ecac2bff6536"
      },
      "outputs": [],
      "source": [
        "try:\n",
        "    from google.colab import drive\n",
        "    %pip install git+https://github.com/denis-spe/exttorch.git\n",
        "# !pip install torch~=2.1.0 torch_xla[tpu]~=2.1.0 -f https://storage.googleapis.com/libtpu-releases/index.html\n",
        "except ImportError:\n",
        "    import sys\n",
        "    sys.path.append('/Volumes/Storage/DS/DL/exttorch/src/')"
      ]
    },
    {
      "cell_type": "markdown",
      "metadata": {
        "id": "rcgz9yl--N5d"
      },
      "source": [
        "**Iris**"
      ]
    },
    {
      "cell_type": "code",
      "execution_count": 2,
      "metadata": {
        "id": "x9EienUE8Wlc"
      },
      "outputs": [],
      "source": [
        "import torch\n",
        "from torch import nn\n",
        "from exttorch.optimizers import Adam, SGD\n",
        "from exttorch.losses import CrossEntropyLoss, MSELoss\n",
        "from sklearn.datasets import load_iris, load_wine\n",
        "from exttorch.models import Sequential\n",
        "from exttorch.metrics import Precision, Recall"
      ]
    },
    {
      "cell_type": "code",
      "execution_count": 3,
      "metadata": {
        "colab": {
          "base_uri": "https://localhost:8080/"
        },
        "id": "v4BDflPy8wjA",
        "outputId": "f5d8adc7-26f4-495c-ff0a-f1c0a8b11af0"
      },
      "outputs": [
        {
          "name": "stdout",
          "output_type": "stream",
          "text": [
            "(150, 4) (150,)\n"
          ]
        }
      ],
      "source": [
        "x, y = load_iris(return_X_y=True)\n",
        "print(x.shape, y.shape)"
      ]
    },
    {
      "cell_type": "code",
      "execution_count": 4,
      "metadata": {
        "colab": {
          "base_uri": "https://localhost:8080/"
        },
        "id": "zNcalY089TM2",
        "outputId": "8d519969-4342-433a-9e0f-00067b639317"
      },
      "outputs": [
        {
          "data": {
            "text/plain": [
              "{0, 1, 2}"
            ]
          },
          "execution_count": 4,
          "metadata": {},
          "output_type": "execute_result"
        }
      ],
      "source": [
        "set(y)"
      ]
    },
    {
      "cell_type": "code",
      "execution_count": 5,
      "metadata": {
        "colab": {
          "base_uri": "https://localhost:8080/",
          "height": 446
        },
        "id": "rmIddsrr_UQo",
        "outputId": "668392b6-1bdc-4a38-cc64-212025cd5fef"
      },
      "outputs": [
        {
          "name": "stdout",
          "output_type": "stream",
          "text": [
            "\n",
            "Epoch 1/10\n",
            "105/105 \u001b[92m✔️\u001b[0m \u001b[92m━\u001b[0m\u001b[92m━\u001b[0m\u001b[92m━\u001b[0m\u001b[92m━\u001b[0m\u001b[92m━\u001b[0m\u001b[92m━\u001b[0m\u001b[92m━\u001b[0m\u001b[92m━\u001b[0m\u001b[92m━\u001b[0m\u001b[92m━\u001b[0m\u001b[92m━\u001b[0m\u001b[92m━\u001b[0m\u001b[92m━\u001b[0m\u001b[92m━\u001b[0m\u001b[92m━\u001b[0m\u001b[92m━\u001b[0m\u001b[92m━\u001b[0m\u001b[92m━\u001b[0m\u001b[92m━\u001b[0m\u001b[92m━\u001b[0m 15s 295ms/step  - loss: 1.0634 - accuracy: 0.3335 - val_loss: 0.9272 - val_accuracy: 0.2776\n",
            "Epoch 2/10\n",
            "105/105 \u001b[92m✔️\u001b[0m \u001b[92m━\u001b[0m\u001b[92m━\u001b[0m\u001b[92m━\u001b[0m\u001b[92m━\u001b[0m\u001b[92m━\u001b[0m\u001b[92m━\u001b[0m\u001b[92m━\u001b[0m\u001b[92m━\u001b[0m\u001b[92m━\u001b[0m\u001b[92m━\u001b[0m\u001b[92m━\u001b[0m\u001b[92m━\u001b[0m\u001b[92m━\u001b[0m\u001b[92m━\u001b[0m\u001b[92m━\u001b[0m\u001b[92m━\u001b[0m\u001b[92m━\u001b[0m\u001b[92m━\u001b[0m\u001b[92m━\u001b[0m\u001b[92m━\u001b[0m 3s 456ms/step  - loss: 0.8450 - accuracy: 0.3421 - val_loss: 0.7325 - val_accuracy: 0.2776\n",
            "Epoch 3/10\n",
            "105/105 \u001b[92m✔️\u001b[0m \u001b[92m━\u001b[0m\u001b[92m━\u001b[0m\u001b[92m━\u001b[0m\u001b[92m━\u001b[0m\u001b[92m━\u001b[0m\u001b[92m━\u001b[0m\u001b[92m━\u001b[0m\u001b[92m━\u001b[0m\u001b[92m━\u001b[0m\u001b[92m━\u001b[0m\u001b[92m━\u001b[0m\u001b[92m━\u001b[0m\u001b[92m━\u001b[0m\u001b[92m━\u001b[0m\u001b[92m━\u001b[0m\u001b[92m━\u001b[0m\u001b[92m━\u001b[0m\u001b[92m━\u001b[0m\u001b[92m━\u001b[0m\u001b[92m━\u001b[0m 4s 513ms/step  - loss: 0.6207 - accuracy: 0.3421 - val_loss: 0.5982 - val_accuracy: 0.2865\n",
            "Epoch 4/10\n",
            "105/105 \u001b[92m✔️\u001b[0m \u001b[92m━\u001b[0m\u001b[92m━\u001b[0m\u001b[92m━\u001b[0m\u001b[92m━\u001b[0m\u001b[92m━\u001b[0m\u001b[92m━\u001b[0m\u001b[92m━\u001b[0m\u001b[92m━\u001b[0m\u001b[92m━\u001b[0m\u001b[92m━\u001b[0m\u001b[92m━\u001b[0m\u001b[92m━\u001b[0m\u001b[92m━\u001b[0m\u001b[92m━\u001b[0m\u001b[92m━\u001b[0m\u001b[92m━\u001b[0m\u001b[92m━\u001b[0m\u001b[92m━\u001b[0m\u001b[92m━\u001b[0m\u001b[92m━\u001b[0m 6s 963ms/step  - loss: 0.4888 - accuracy: 0.3406 - val_loss: 0.5006 - val_accuracy: 0.3797\n",
            "Epoch 5/10\n",
            "105/105 \u001b[92m✔️\u001b[0m \u001b[92m━\u001b[0m\u001b[92m━\u001b[0m\u001b[92m━\u001b[0m\u001b[92m━\u001b[0m\u001b[92m━\u001b[0m\u001b[92m━\u001b[0m\u001b[92m━\u001b[0m\u001b[92m━\u001b[0m\u001b[92m━\u001b[0m\u001b[92m━\u001b[0m\u001b[92m━\u001b[0m\u001b[92m━\u001b[0m\u001b[92m━\u001b[0m\u001b[92m━\u001b[0m\u001b[92m━\u001b[0m\u001b[92m━\u001b[0m\u001b[92m━\u001b[0m\u001b[92m━\u001b[0m\u001b[92m━\u001b[0m\u001b[92m━\u001b[0m 3s 306ms/step  - loss: 0.4145 - accuracy: 0.3588 - val_loss: 0.4220 - val_accuracy: 0.3909\n",
            "Epoch 6/10\n",
            "105/105 \u001b[92m✔️\u001b[0m \u001b[92m━\u001b[0m\u001b[92m━\u001b[0m\u001b[92m━\u001b[0m\u001b[92m━\u001b[0m\u001b[92m━\u001b[0m\u001b[92m━\u001b[0m\u001b[92m━\u001b[0m\u001b[92m━\u001b[0m\u001b[92m━\u001b[0m\u001b[92m━\u001b[0m\u001b[92m━\u001b[0m\u001b[92m━\u001b[0m\u001b[92m━\u001b[0m\u001b[92m━\u001b[0m\u001b[92m━\u001b[0m\u001b[92m━\u001b[0m\u001b[92m━\u001b[0m\u001b[92m━\u001b[0m\u001b[92m━\u001b[0m\u001b[92m━\u001b[0m 1s 166ms/step  - loss: 0.3621 - accuracy: 0.3582 - val_loss: 0.3606 - val_accuracy: 0.3952\n",
            "Epoch 7/10\n",
            "105/105 \u001b[92m✔️\u001b[0m \u001b[92m━\u001b[0m\u001b[92m━\u001b[0m\u001b[92m━\u001b[0m\u001b[92m━\u001b[0m\u001b[92m━\u001b[0m\u001b[92m━\u001b[0m\u001b[92m━\u001b[0m\u001b[92m━\u001b[0m\u001b[92m━\u001b[0m\u001b[92m━\u001b[0m\u001b[92m━\u001b[0m\u001b[92m━\u001b[0m\u001b[92m━\u001b[0m\u001b[92m━\u001b[0m\u001b[92m━\u001b[0m\u001b[92m━\u001b[0m\u001b[92m━\u001b[0m\u001b[92m━\u001b[0m\u001b[92m━\u001b[0m\u001b[92m━\u001b[0m 1s 669ms/step  - loss: 0.3196 - accuracy: 0.3580 - val_loss: 0.3098 - val_accuracy: 0.3958\n",
            "Epoch 8/10\n",
            "105/105 \u001b[92m✔️\u001b[0m \u001b[92m━\u001b[0m\u001b[92m━\u001b[0m\u001b[92m━\u001b[0m\u001b[92m━\u001b[0m\u001b[92m━\u001b[0m\u001b[92m━\u001b[0m\u001b[92m━\u001b[0m\u001b[92m━\u001b[0m\u001b[92m━\u001b[0m\u001b[92m━\u001b[0m\u001b[92m━\u001b[0m\u001b[92m━\u001b[0m\u001b[92m━\u001b[0m\u001b[92m━\u001b[0m\u001b[92m━\u001b[0m\u001b[92m━\u001b[0m\u001b[92m━\u001b[0m\u001b[92m━\u001b[0m\u001b[92m━\u001b[0m\u001b[92m━\u001b[0m 3s 188ms/step  - loss: 0.2828 - accuracy: 0.3580 - val_loss: 0.2668 - val_accuracy: 0.3958\n",
            "Epoch 9/10\n",
            "105/105 \u001b[92m✔️\u001b[0m \u001b[92m━\u001b[0m\u001b[92m━\u001b[0m\u001b[92m━\u001b[0m\u001b[92m━\u001b[0m\u001b[92m━\u001b[0m\u001b[92m━\u001b[0m\u001b[92m━\u001b[0m\u001b[92m━\u001b[0m\u001b[92m━\u001b[0m\u001b[92m━\u001b[0m\u001b[92m━\u001b[0m\u001b[92m━\u001b[0m\u001b[92m━\u001b[0m\u001b[92m━\u001b[0m\u001b[92m━\u001b[0m\u001b[92m━\u001b[0m\u001b[92m━\u001b[0m\u001b[92m━\u001b[0m\u001b[92m━\u001b[0m\u001b[92m━\u001b[0m 1s 186ms/step  - loss: 0.2521 - accuracy: 0.3573 - val_loss: 0.2317 - val_accuracy: 0.3958\n",
            "Epoch 10/10\n",
            "105/105 \u001b[92m✔️\u001b[0m \u001b[92m━\u001b[0m\u001b[92m━\u001b[0m\u001b[92m━\u001b[0m\u001b[92m━\u001b[0m\u001b[92m━\u001b[0m\u001b[92m━\u001b[0m\u001b[92m━\u001b[0m\u001b[92m━\u001b[0m\u001b[92m━\u001b[0m\u001b[92m━\u001b[0m\u001b[92m━\u001b[0m\u001b[92m━\u001b[0m\u001b[92m━\u001b[0m\u001b[92m━\u001b[0m\u001b[92m━\u001b[0m\u001b[92m━\u001b[0m\u001b[92m━\u001b[0m\u001b[92m━\u001b[0m\u001b[92m━\u001b[0m\u001b[92m━\u001b[0m 1s 233ms/step  - loss: 0.2254 - accuracy: 0.3572 - val_loss: 0.2029 - val_accuracy: 0.3958\n"
          ]
        }
      ],
      "source": [
        "iris_model = Sequential([\n",
        "    nn.Linear(4, 16),\n",
        "    nn.ReLU(),\n",
        "    nn.Linear(16, 16),\n",
        "    nn.ReLU(),\n",
        "    nn.Linear(16, 3)\n",
        "])\n",
        "\n",
        "iris_model.compile(\n",
        "    optimizer=Adam(),\n",
        "    loss=CrossEntropyLoss(),\n",
        "    metrics=['accuracy']\n",
        "            # Precision(average=\"weighted\"),\n",
        "            # Recall(average=\"weighted\")]\n",
        "    )\n",
        "\n",
        "history = iris_model.fit(x, y, epochs=10, validation_split=0.30)"
      ]
    },
    {
      "cell_type": "code",
      "execution_count": null,
      "metadata": {
        "colab": {
          "base_uri": "https://localhost:8080/"
        },
        "id": "GQC6UOaSsBVA",
        "outputId": "9ff8c100-8721-4620-a29b-559a323aad05"
      },
      "outputs": [
        {
          "data": {
            "text/plain": [
              "{'accuracy': [0.3335,\n",
              "  0.3421,\n",
              "  0.3421,\n",
              "  0.3406,\n",
              "  0.3588,\n",
              "  0.3582,\n",
              "  0.358,\n",
              "  0.358,\n",
              "  0.3573,\n",
              "  0.3572],\n",
              " 'val_accuracy': [0.2776,\n",
              "  0.2776,\n",
              "  0.2865,\n",
              "  0.3797,\n",
              "  0.3909,\n",
              "  0.3952,\n",
              "  0.3958,\n",
              "  0.3958,\n",
              "  0.3958,\n",
              "  0.3958],\n",
              " 'loss': [1.0634,\n",
              "  0.845,\n",
              "  0.6207,\n",
              "  0.4888,\n",
              "  0.4145,\n",
              "  0.3621,\n",
              "  0.3196,\n",
              "  0.2828,\n",
              "  0.2521,\n",
              "  0.2254],\n",
              " 'val_loss': [0.9272,\n",
              "  0.7325,\n",
              "  0.5982,\n",
              "  0.5006,\n",
              "  0.422,\n",
              "  0.3606,\n",
              "  0.3098,\n",
              "  0.2668,\n",
              "  0.2317,\n",
              "  0.2029]}"
            ]
          },
          "execution_count": 6,
          "metadata": {},
          "output_type": "execute_result"
        }
      ],
      "source": [
        "history.history"
      ]
    },
    {
      "cell_type": "markdown",
      "metadata": {
        "id": "xACzq7f0tVFI"
      },
      "source": [
        "## **Wine Dataset**"
      ]
    },
    {
      "cell_type": "code",
      "execution_count": 7,
      "metadata": {
        "colab": {
          "base_uri": "https://localhost:8080/"
        },
        "id": "IYp1BqUytTkU",
        "outputId": "add4a832-cacb-4e9b-ac05-6574227194ab"
      },
      "outputs": [
        {
          "data": {
            "text/plain": [
              "((178, 13), (178,))"
            ]
          },
          "execution_count": 7,
          "metadata": {},
          "output_type": "execute_result"
        }
      ],
      "source": [
        "w_x, w_y = load_wine(return_X_y=True)\n",
        "w_x.shape, w_y.shape"
      ]
    },
    {
      "cell_type": "code",
      "execution_count": 8,
      "metadata": {
        "colab": {
          "base_uri": "https://localhost:8080/"
        },
        "id": "nrkYyIBtt6eT",
        "outputId": "620f668f-eb10-4236-be2b-93b1b26514c1"
      },
      "outputs": [
        {
          "data": {
            "text/plain": [
              "{0, 1, 2}"
            ]
          },
          "execution_count": 8,
          "metadata": {},
          "output_type": "execute_result"
        }
      ],
      "source": [
        "set(w_y)"
      ]
    },
    {
      "cell_type": "code",
      "execution_count": 9,
      "metadata": {
        "colab": {
          "base_uri": "https://localhost:8080/",
          "height": 356
        },
        "id": "kUe24PgcuMO7",
        "outputId": "24288b89-83b9-4efa-9e36-0e8c6f823de9"
      },
      "outputs": [
        {
          "name": "stdout",
          "output_type": "stream",
          "text": [
            "\n",
            "Epoch 1/10\n",
            "134/134 \u001b[92m✔️\u001b[0m \u001b[92m━\u001b[0m\u001b[92m━\u001b[0m\u001b[92m━\u001b[0m\u001b[92m━\u001b[0m\u001b[92m━\u001b[0m\u001b[92m━\u001b[0m\u001b[92m━\u001b[0m\u001b[92m━\u001b[0m\u001b[92m━\u001b[0m\u001b[92m━\u001b[0m\u001b[92m━\u001b[0m\u001b[92m━\u001b[0m\u001b[92m━\u001b[0m\u001b[92m━\u001b[0m\u001b[92m━\u001b[0m\u001b[92m━\u001b[0m\u001b[92m━\u001b[0m\u001b[92m━\u001b[0m\u001b[92m━\u001b[0m\u001b[92m━\u001b[0m 14s 200ms/step  - loss: 34.3560 - accuracy: 0.3553 - val_loss: 3.2153 - val_accuracy: 0.1971\n",
            "Epoch 2/10\n",
            "134/134 \u001b[92m✔️\u001b[0m \u001b[92m━\u001b[0m\u001b[92m━\u001b[0m\u001b[92m━\u001b[0m\u001b[92m━\u001b[0m\u001b[92m━\u001b[0m\u001b[92m━\u001b[0m\u001b[92m━\u001b[0m\u001b[92m━\u001b[0m\u001b[92m━\u001b[0m\u001b[92m━\u001b[0m\u001b[92m━\u001b[0m\u001b[92m━\u001b[0m\u001b[92m━\u001b[0m\u001b[92m━\u001b[0m\u001b[92m━\u001b[0m\u001b[92m━\u001b[0m\u001b[92m━\u001b[0m\u001b[92m━\u001b[0m\u001b[92m━\u001b[0m\u001b[92m━\u001b[0m 2s 114ms/step  - loss: 1.9630 - accuracy: 0.3667 - val_loss: 0.6352 - val_accuracy: 0.3543\n",
            "Epoch 3/10\n",
            "134/134 \u001b[92m✔️\u001b[0m \u001b[92m━\u001b[0m\u001b[92m━\u001b[0m\u001b[92m━\u001b[0m\u001b[92m━\u001b[0m\u001b[92m━\u001b[0m\u001b[92m━\u001b[0m\u001b[92m━\u001b[0m\u001b[92m━\u001b[0m\u001b[92m━\u001b[0m\u001b[92m━\u001b[0m\u001b[92m━\u001b[0m\u001b[92m━\u001b[0m\u001b[92m━\u001b[0m\u001b[92m━\u001b[0m\u001b[92m━\u001b[0m\u001b[92m━\u001b[0m\u001b[92m━\u001b[0m\u001b[92m━\u001b[0m\u001b[92m━\u001b[0m\u001b[92m━\u001b[0m 3s 139ms/step  - loss: 0.9942 - accuracy: 0.3583 - val_loss: 0.6102 - val_accuracy: 0.5170\n",
            "Epoch 4/10\n",
            "134/134 \u001b[92m✔️\u001b[0m \u001b[92m━\u001b[0m\u001b[92m━\u001b[0m\u001b[92m━\u001b[0m\u001b[92m━\u001b[0m\u001b[92m━\u001b[0m\u001b[92m━\u001b[0m\u001b[92m━\u001b[0m\u001b[92m━\u001b[0m\u001b[92m━\u001b[0m\u001b[92m━\u001b[0m\u001b[92m━\u001b[0m\u001b[92m━\u001b[0m\u001b[92m━\u001b[0m\u001b[92m━\u001b[0m\u001b[92m━\u001b[0m\u001b[92m━\u001b[0m\u001b[92m━\u001b[0m\u001b[92m━\u001b[0m\u001b[92m━\u001b[0m\u001b[92m━\u001b[0m 3s 216ms/step  - loss: 0.8130 - accuracy: 0.3391 - val_loss: 0.8717 - val_accuracy: 0.4458\n",
            "Epoch 5/10\n",
            "134/134 \u001b[92m✔️\u001b[0m \u001b[92m━\u001b[0m\u001b[92m━\u001b[0m\u001b[92m━\u001b[0m\u001b[92m━\u001b[0m\u001b[92m━\u001b[0m\u001b[92m━\u001b[0m\u001b[92m━\u001b[0m\u001b[92m━\u001b[0m\u001b[92m━\u001b[0m\u001b[92m━\u001b[0m\u001b[92m━\u001b[0m\u001b[92m━\u001b[0m\u001b[92m━\u001b[0m\u001b[92m━\u001b[0m\u001b[92m━\u001b[0m\u001b[92m━\u001b[0m\u001b[92m━\u001b[0m\u001b[92m━\u001b[0m\u001b[92m━\u001b[0m\u001b[92m━\u001b[0m 3s 213ms/step  - loss: 0.7394 - accuracy: 0.3537 - val_loss: 0.7870 - val_accuracy: 0.4458\n",
            "Epoch 6/10\n",
            "134/134 \u001b[92m✔️\u001b[0m \u001b[92m━\u001b[0m\u001b[92m━\u001b[0m\u001b[92m━\u001b[0m\u001b[92m━\u001b[0m\u001b[92m━\u001b[0m\u001b[92m━\u001b[0m\u001b[92m━\u001b[0m\u001b[92m━\u001b[0m\u001b[92m━\u001b[0m\u001b[92m━\u001b[0m\u001b[92m━\u001b[0m\u001b[92m━\u001b[0m\u001b[92m━\u001b[0m\u001b[92m━\u001b[0m\u001b[92m━\u001b[0m\u001b[92m━\u001b[0m\u001b[92m━\u001b[0m\u001b[92m━\u001b[0m\u001b[92m━\u001b[0m\u001b[92m━\u001b[0m 3s 215ms/step  - loss: 0.7461 - accuracy: 0.3501 - val_loss: 0.6955 - val_accuracy: 0.5119\n",
            "Epoch 7/10\n",
            "134/134 \u001b[92m✔️\u001b[0m \u001b[92m━\u001b[0m\u001b[92m━\u001b[0m\u001b[92m━\u001b[0m\u001b[92m━\u001b[0m\u001b[92m━\u001b[0m\u001b[92m━\u001b[0m\u001b[92m━\u001b[0m\u001b[92m━\u001b[0m\u001b[92m━\u001b[0m\u001b[92m━\u001b[0m\u001b[92m━\u001b[0m\u001b[92m━\u001b[0m\u001b[92m━\u001b[0m\u001b[92m━\u001b[0m\u001b[92m━\u001b[0m\u001b[92m━\u001b[0m\u001b[92m━\u001b[0m\u001b[92m━\u001b[0m\u001b[92m━\u001b[0m\u001b[92m━\u001b[0m 5s 209ms/step  - loss: 0.7531 - accuracy: 0.3523 - val_loss: 0.7101 - val_accuracy: 0.4489\n",
            "Epoch 8/10\n",
            "134/134 \u001b[92m✔️\u001b[0m \u001b[92m━\u001b[0m\u001b[92m━\u001b[0m\u001b[92m━\u001b[0m\u001b[92m━\u001b[0m\u001b[92m━\u001b[0m\u001b[92m━\u001b[0m\u001b[92m━\u001b[0m\u001b[92m━\u001b[0m\u001b[92m━\u001b[0m\u001b[92m━\u001b[0m\u001b[92m━\u001b[0m\u001b[92m━\u001b[0m\u001b[92m━\u001b[0m\u001b[92m━\u001b[0m\u001b[92m━\u001b[0m\u001b[92m━\u001b[0m\u001b[92m━\u001b[0m\u001b[92m━\u001b[0m\u001b[92m━\u001b[0m\u001b[92m━\u001b[0m 6s 214ms/step  - loss: 0.7261 - accuracy: 0.3517 - val_loss: 0.7616 - val_accuracy: 0.4469\n",
            "Epoch 9/10\n",
            "134/134 \u001b[92m✔️\u001b[0m \u001b[92m━\u001b[0m\u001b[92m━\u001b[0m\u001b[92m━\u001b[0m\u001b[92m━\u001b[0m\u001b[92m━\u001b[0m\u001b[92m━\u001b[0m\u001b[92m━\u001b[0m\u001b[92m━\u001b[0m\u001b[92m━\u001b[0m\u001b[92m━\u001b[0m\u001b[92m━\u001b[0m\u001b[92m━\u001b[0m\u001b[92m━\u001b[0m\u001b[92m━\u001b[0m\u001b[92m━\u001b[0m\u001b[92m━\u001b[0m\u001b[92m━\u001b[0m\u001b[92m━\u001b[0m\u001b[92m━\u001b[0m\u001b[92m━\u001b[0m 6s 252ms/step  - loss: 0.7455 - accuracy: 0.3567 - val_loss: 0.7019 - val_accuracy: 0.5111\n",
            "Epoch 10/10\n",
            "134/134 \u001b[92m✔️\u001b[0m \u001b[92m━\u001b[0m\u001b[92m━\u001b[0m\u001b[92m━\u001b[0m\u001b[92m━\u001b[0m\u001b[92m━\u001b[0m\u001b[92m━\u001b[0m\u001b[92m━\u001b[0m\u001b[92m━\u001b[0m\u001b[92m━\u001b[0m\u001b[92m━\u001b[0m\u001b[92m━\u001b[0m\u001b[92m━\u001b[0m\u001b[92m━\u001b[0m\u001b[92m━\u001b[0m\u001b[92m━\u001b[0m\u001b[92m━\u001b[0m\u001b[92m━\u001b[0m\u001b[92m━\u001b[0m\u001b[92m━\u001b[0m\u001b[92m━\u001b[0m 5s 226ms/step  - loss: 0.6980 - accuracy: 0.3531 - val_loss: 0.6900 - val_accuracy: 0.5596\n"
          ]
        },
        {
          "data": {
            "text/plain": [
              "<exttorch.history.History at 0x2e0219510>"
            ]
          },
          "execution_count": 9,
          "metadata": {},
          "output_type": "execute_result"
        }
      ],
      "source": [
        "wine_model = Sequential([\n",
        "    nn.Linear(13, 512),\n",
        "    nn.ReLU(),\n",
        "    nn.Linear(512, 512),\n",
        "    nn.ReLU(),\n",
        "    nn.Linear(512, 3)\n",
        "])\n",
        "\n",
        "wine_model.compile(\n",
        "    optimizer=Adam(),\n",
        "    loss=CrossEntropyLoss(),\n",
        "    metrics=['accuracy']\n",
        "    )\n",
        "\n",
        "wine_model.fit(w_x, w_y, epochs=10, validation_split=0.25)"
      ]
    },
    {
      "cell_type": "code",
      "execution_count": 16,
      "metadata": {},
      "outputs": [
        {
          "name": "stdout",
          "output_type": "stream",
          "text": [
            "178/178 \u001b[92m✔️\u001b[0m \u001b[92m━\u001b[0m\u001b[92m━\u001b[0m\u001b[92m━\u001b[0m\u001b[92m━\u001b[0m\u001b[92m━\u001b[0m\u001b[92m━\u001b[0m\u001b[92m━\u001b[0m\u001b[92m━\u001b[0m\u001b[92m━\u001b[0m\u001b[92m━\u001b[0m\u001b[92m━\u001b[0m\u001b[92m━\u001b[0m\u001b[92m━\u001b[0m\u001b[92m━\u001b[0m\u001b[92m━\u001b[0m\u001b[92m━\u001b[0m\u001b[92m━\u001b[0m\u001b[92m━\u001b[0m\u001b[92m━\u001b[0m\u001b[92m━\u001b[0m 1s 4ms/step  - val_loss: 0.7415 - val_accuracy: 0.5653\n"
          ]
        },
        {
          "data": {
            "text/plain": [
              "{'val_loss': 0.7415, 'val_accuracy': 0.5653}"
            ]
          },
          "execution_count": 16,
          "metadata": {},
          "output_type": "execute_result"
        }
      ],
      "source": [
        "wine_model.evaluate(w_x, w_y)"
      ]
    },
    {
      "cell_type": "code",
      "execution_count": 17,
      "metadata": {},
      "outputs": [
        {
          "ename": "ImportError",
          "evalue": "cannot import name 'SinglePredictionsFormat' from 'exttorch._data_handle' (/Volumes/Storage/DS/DL/exttorch/src/exttorch/_data_handle.py)",
          "output_type": "error",
          "traceback": [
            "\u001b[0;31m---------------------------------------------------------------------------\u001b[0m",
            "\u001b[0;31mImportError\u001b[0m                               Traceback (most recent call last)",
            "Cell \u001b[0;32mIn[17], line 1\u001b[0m\n\u001b[0;32m----> 1\u001b[0m \u001b[43mwine_model\u001b[49m\u001b[38;5;241;43m.\u001b[39;49m\u001b[43mpredict\u001b[49m\u001b[43m(\u001b[49m\u001b[43mw_x\u001b[49m\u001b[43m[\u001b[49m\u001b[43m:\u001b[49m\u001b[38;5;241;43m5\u001b[39;49m\u001b[43m]\u001b[49m\u001b[43m)\u001b[49m\n",
            "File \u001b[0;32m/Volumes/Storage/DS/DL/exttorch/src/exttorch/models.py:524\u001b[0m, in \u001b[0;36mSequential.predict\u001b[0;34m(self, X)\u001b[0m\n\u001b[1;32m    523\u001b[0m \u001b[38;5;28;01mdef\u001b[39;00m\u001b[38;5;250m \u001b[39m\u001b[38;5;21mpredict\u001b[39m(\u001b[38;5;28mself\u001b[39m, X):\n\u001b[0;32m--> 524\u001b[0m     \u001b[38;5;28;01mfrom\u001b[39;00m\u001b[38;5;250m \u001b[39m\u001b[38;5;21;01m.\u001b[39;00m\u001b[38;5;21;01m_data_handle\u001b[39;00m\u001b[38;5;250m \u001b[39m\u001b[38;5;28;01mimport\u001b[39;00m SinglePredictionsFormat\n\u001b[1;32m    526\u001b[0m     \u001b[38;5;66;03m# Get the probabilities of x\u001b[39;00m\n\u001b[1;32m    527\u001b[0m     proba \u001b[38;5;241m=\u001b[39m \u001b[38;5;28mself\u001b[39m\u001b[38;5;241m.\u001b[39mpredict_proba(X)\n",
            "\u001b[0;31mImportError\u001b[0m: cannot import name 'SinglePredictionsFormat' from 'exttorch._data_handle' (/Volumes/Storage/DS/DL/exttorch/src/exttorch/_data_handle.py)"
          ]
        }
      ],
      "source": [
        "wine_model.predict(w_x[:5])"
      ]
    }
  ],
  "metadata": {
    "colab": {
      "provenance": []
    },
    "kernelspec": {
      "display_name": "ds",
      "language": "python",
      "name": "python3"
    },
    "language_info": {
      "codemirror_mode": {
        "name": "ipython",
        "version": 3
      },
      "file_extension": ".py",
      "mimetype": "text/x-python",
      "name": "python",
      "nbconvert_exporter": "python",
      "pygments_lexer": "ipython3",
      "version": "3.10.16"
    }
  },
  "nbformat": 4,
  "nbformat_minor": 0
}
