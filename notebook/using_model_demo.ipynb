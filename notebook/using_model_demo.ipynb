{
  "cells": [
    {
      "cell_type": "code",
      "execution_count": 1,
      "metadata": {
        "colab": {
          "base_uri": "https://localhost:8080/"
        },
        "id": "yWT0cwZR7xLc",
        "outputId": "5d472905-597e-4c50-9135-3bf0d6b777b4"
      },
      "outputs": [],
      "source": [
        "# %pip install git+https://github.com/denis-spe/exttorch.git"
      ]
    },
    {
      "cell_type": "markdown",
      "metadata": {
        "id": "rcgz9yl--N5d"
      },
      "source": [
        "**Iris**"
      ]
    },
    {
      "cell_type": "code",
      "execution_count": 1,
      "metadata": {},
      "outputs": [],
      "source": [
        "import sys\n",
        "sys.path.append('/Volumes/Storage/DS/DL/exttorch/src/')"
      ]
    },
    {
      "cell_type": "code",
      "execution_count": 2,
      "metadata": {
        "id": "x9EienUE8Wlc"
      },
      "outputs": [],
      "source": [
        "import torch\n",
        "from torch import nn\n",
        "from torch.optim import Adam, SGD\n",
        "from exttorch.accelerator import TpuScope\n",
        "from sklearn.datasets import load_iris, load_wine\n",
        "from exttorch.models import Sequential\n",
        "from exttorch.metrics import Precision, Recall"
      ]
    },
    {
      "cell_type": "code",
      "execution_count": 3,
      "metadata": {},
      "outputs": [
        {
          "name": "stdout",
          "output_type": "stream",
          "text": [
            "<exttorch.tpu.TpuScope object at 0x2ea842260>\n",
            "hello\n"
          ]
        },
        {
          "ename": "TypeError",
          "evalue": "TpuScope.__exit__() takes 1 positional argument but 4 were given",
          "output_type": "error",
          "traceback": [
            "\u001b[0;31m---------------------------------------------------------------------------\u001b[0m",
            "\u001b[0;31mTypeError\u001b[0m                                 Traceback (most recent call last)",
            "Cell \u001b[0;32mIn[3], line 1\u001b[0m\n\u001b[0;32m----> 1\u001b[0m \u001b[38;5;28;01mwith\u001b[39;00m TpuScope():\n\u001b[1;32m      2\u001b[0m     \u001b[38;5;28mprint\u001b[39m(\u001b[38;5;124m\"\u001b[39m\u001b[38;5;124mhello\u001b[39m\u001b[38;5;124m\"\u001b[39m)\n",
            "\u001b[0;31mTypeError\u001b[0m: TpuScope.__exit__() takes 1 positional argument but 4 were given"
          ]
        }
      ],
      "source": [
        "with TpuScope():\n",
        "    print(\"hello\")"
      ]
    },
    {
      "cell_type": "code",
      "execution_count": 4,
      "metadata": {
        "colab": {
          "base_uri": "https://localhost:8080/"
        },
        "id": "v4BDflPy8wjA",
        "outputId": "85de8b82-cd13-43c0-9c16-dc8a4b463cd6"
      },
      "outputs": [
        {
          "name": "stdout",
          "output_type": "stream",
          "text": [
            "(150, 4) (150,)\n"
          ]
        }
      ],
      "source": [
        "x, y = load_iris(return_X_y=True)\n",
        "print(x.shape, y.shape)"
      ]
    },
    {
      "cell_type": "code",
      "execution_count": 5,
      "metadata": {
        "colab": {
          "base_uri": "https://localhost:8080/"
        },
        "id": "zNcalY089TM2",
        "outputId": "7b2c01d2-9d90-4ea0-821d-c301653662c9"
      },
      "outputs": [
        {
          "data": {
            "text/plain": [
              "{0, 1, 2}"
            ]
          },
          "execution_count": 5,
          "metadata": {},
          "output_type": "execute_result"
        }
      ],
      "source": [
        "set(y)"
      ]
    },
    {
      "cell_type": "code",
      "execution_count": 6,
      "metadata": {
        "colab": {
          "base_uri": "https://localhost:8080/"
        },
        "id": "rmIddsrr_UQo",
        "outputId": "fa672232-7845-4759-dd93-82857ea6d1c1"
      },
      "outputs": [
        {
          "name": "stdout",
          "output_type": "stream",
          "text": [
            "Epoch 1/10\n",
            "\u001b[1m105/105\u001b[0m \u001b[32m━━━━━━━━━━━━━━━━━━━━\u001b[0m\u001b[37m\u001b[0m \u001b[1m3s\u001b[0m 25ms/step - loss: 1.0842 - accuracy: 0.5143 - Precision: 1.0000 - Recall: 0.5143 - val_loss: 1.0615 - val_accuracy: 0.6000 - val_Precision: 1.0000 - val_Recall: 0.6000\n",
            "Epoch 2/10\n",
            "\u001b[1m105/105\u001b[0m \u001b[32m━━━━━━━━━━━━━━━━━━━━\u001b[0m\u001b[37m\u001b[0m \u001b[1m3s\u001b[0m 26ms/step - loss: 0.9988 - accuracy: 0.6952 - Precision: 1.0000 - Recall: 0.6952 - val_loss: 0.9694 - val_accuracy: 0.6000 - val_Precision: 1.0000 - val_Recall: 0.6000\n",
            "Epoch 3/10\n",
            "\u001b[1m105/105\u001b[0m \u001b[32m━━━━━━━━━━━━━━━━━━━━\u001b[0m\u001b[37m\u001b[0m \u001b[1m2s\u001b[0m 23ms/step - loss: 0.8387 - accuracy: 0.6952 - Precision: 1.0000 - Recall: 0.6952 - val_loss: 0.7750 - val_accuracy: 0.6000 - val_Precision: 1.0000 - val_Recall: 0.6000\n",
            "Epoch 4/10\n",
            "\u001b[1m105/105\u001b[0m \u001b[32m━━━━━━━━━━━━━━━━━━━━\u001b[0m\u001b[37m\u001b[0m \u001b[1m3s\u001b[0m 30ms/step - loss: 0.6135 - accuracy: 0.6952 - Precision: 1.0000 - Recall: 0.6952 - val_loss: 0.5989 - val_accuracy: 0.8222 - val_Precision: 1.0000 - val_Recall: 0.8222\n",
            "Epoch 5/10\n",
            "\u001b[1m105/105\u001b[0m \u001b[32m━━━━━━━━━━━━━━━━━━━━\u001b[0m\u001b[37m\u001b[0m \u001b[1m2s\u001b[0m 22ms/step - loss: 0.4782 - accuracy: 0.7714 - Precision: 1.0000 - Recall: 0.7714 - val_loss: 0.4913 - val_accuracy: 0.9333 - val_Precision: 1.0000 - val_Recall: 0.9333\n",
            "Epoch 6/10\n",
            "\u001b[1m105/105\u001b[0m \u001b[32m━━━━━━━━━━━━━━━━━━━━\u001b[0m\u001b[37m\u001b[0m \u001b[1m3s\u001b[0m 27ms/step - loss: 0.3986 - accuracy: 0.8952 - Precision: 1.0000 - Recall: 0.8952 - val_loss: 0.4132 - val_accuracy: 0.9111 - val_Precision: 1.0000 - val_Recall: 0.9111\n",
            "Epoch 7/10\n",
            "\u001b[1m105/105\u001b[0m \u001b[32m━━━━━━━━━━━━━━━━━━━━\u001b[0m\u001b[37m\u001b[0m \u001b[1m3s\u001b[0m 25ms/step - loss: 0.3412 - accuracy: 0.9238 - Precision: 1.0000 - Recall: 0.9238 - val_loss: 0.3541 - val_accuracy: 0.9556 - val_Precision: 1.0000 - val_Recall: 0.9556\n",
            "Epoch 8/10\n",
            "\u001b[1m105/105\u001b[0m \u001b[32m━━━━━━━━━━━━━━━━━━━━\u001b[0m\u001b[37m\u001b[0m \u001b[1m3s\u001b[0m 27ms/step - loss: 0.2943 - accuracy: 0.9238 - Precision: 1.0000 - Recall: 0.9238 - val_loss: 0.3044 - val_accuracy: 0.9556 - val_Precision: 1.0000 - val_Recall: 0.9556\n",
            "Epoch 9/10\n",
            "\u001b[1m105/105\u001b[0m \u001b[32m━━━━━━━━━━━━━━━━━━━━\u001b[0m\u001b[37m\u001b[0m \u001b[1m2s\u001b[0m 22ms/step - loss: 0.2550 - accuracy: 0.9429 - Precision: 1.0000 - Recall: 0.9429 - val_loss: 0.2631 - val_accuracy: 0.9556 - val_Precision: 1.0000 - val_Recall: 0.9556\n",
            "Epoch 10/10\n",
            "\u001b[1m105/105\u001b[0m \u001b[32m━━━━━━━━━━━━━━━━━━━━\u001b[0m\u001b[37m\u001b[0m \u001b[1m4s\u001b[0m 34ms/step - loss: 0.2225 - accuracy: 0.9429 - Precision: 1.0000 - Recall: 0.9429 - val_loss: 0.2296 - val_accuracy: 0.9556 - val_Precision: 1.0000 - val_Recall: 0.9556\n"
          ]
        },
        {
          "data": {
            "text/plain": [
              "<exttorch.history.History at 0x2dfbcf680>"
            ]
          },
          "execution_count": 6,
          "metadata": {},
          "output_type": "execute_result"
        }
      ],
      "source": [
        "iris_model = Sequential([\n",
        "    nn.Linear(4, 16),\n",
        "    nn.ReLU(),\n",
        "    nn.Linear(16, 16),\n",
        "    nn.ReLU(),\n",
        "    nn.Linear(16, 3)\n",
        "])\n",
        "\n",
        "iris_model.compile(\n",
        "    optimizer=Adam(iris_model.parameters()),\n",
        "    loss=nn.CrossEntropyLoss(),\n",
        "    metrics=['accuracy',\n",
        "             Precision(average=\"weighted\", zero_division=True),\n",
        "             Recall(average=\"weighted\", zero_division=True)]\n",
        "    )\n",
        "\n",
        "iris_model.fit(x, y, epochs=10, validation_split=0.30)"
      ]
    },
    {
      "cell_type": "markdown",
      "metadata": {
        "id": "xACzq7f0tVFI"
      },
      "source": [
        "## **Wine Dataset**"
      ]
    },
    {
      "cell_type": "code",
      "execution_count": 7,
      "metadata": {
        "colab": {
          "base_uri": "https://localhost:8080/"
        },
        "id": "IYp1BqUytTkU",
        "outputId": "d1bb7fcd-ba17-4ab8-9185-3856fa2afd29"
      },
      "outputs": [
        {
          "data": {
            "text/plain": [
              "((178, 13), (178,))"
            ]
          },
          "execution_count": 7,
          "metadata": {},
          "output_type": "execute_result"
        }
      ],
      "source": [
        "w_x, w_y = load_wine(return_X_y=True)\n",
        "w_x.shape, w_y.shape"
      ]
    },
    {
      "cell_type": "code",
      "execution_count": 8,
      "metadata": {
        "colab": {
          "base_uri": "https://localhost:8080/"
        },
        "id": "nrkYyIBtt6eT",
        "outputId": "9401e3f5-516b-447a-df7e-2c621b9f1c31"
      },
      "outputs": [
        {
          "data": {
            "text/plain": [
              "{0, 1, 2}"
            ]
          },
          "execution_count": 8,
          "metadata": {},
          "output_type": "execute_result"
        }
      ],
      "source": [
        "set(w_y)"
      ]
    },
    {
      "cell_type": "code",
      "execution_count": 9,
      "metadata": {
        "colab": {
          "base_uri": "https://localhost:8080/"
        },
        "id": "kUe24PgcuMO7",
        "outputId": "050870e2-1f84-4ba7-f305-674650e0e59f"
      },
      "outputs": [
        {
          "name": "stdout",
          "output_type": "stream",
          "text": [
            "Epoch 1/10\n",
            "\u001b[1m134/134\u001b[0m \u001b[32m━━━━━━━━━━━━━━━━━━━━\u001b[0m\u001b[37m\u001b[0m \u001b[1m9s\u001b[0m 64ms/step - loss: 19.4530 - accuracy: 0.3881 - Precision: 1.0000 - Recall: 0.3881 - val_loss: 0.7908 - val_accuracy: 0.6818 - val_Precision: 1.0000 - val_Recall: 0.6818\n",
            "Epoch 2/10\n",
            "\u001b[1m134/134\u001b[0m \u001b[32m━━━━━━━━━━━━━━━━━━━━\u001b[0m\u001b[37m\u001b[0m \u001b[1m9s\u001b[0m 68ms/step - loss: 1.6843 - accuracy: 0.5224 - Precision: 1.0000 - Recall: 0.5224 - val_loss: 0.9572 - val_accuracy: 0.5227 - val_Precision: 1.0000 - val_Recall: 0.5227\n",
            "Epoch 3/10\n",
            "\u001b[1m134/134\u001b[0m \u001b[32m━━━━━━━━━━━━━━━━━━━━\u001b[0m\u001b[37m\u001b[0m \u001b[1m8s\u001b[0m 63ms/step - loss: 1.2360 - accuracy: 0.5896 - Precision: 1.0000 - Recall: 0.5896 - val_loss: 1.4772 - val_accuracy: 0.4318 - val_Precision: 1.0000 - val_Recall: 0.4318\n",
            "Epoch 4/10\n",
            "\u001b[1m134/134\u001b[0m \u001b[32m━━━━━━━━━━━━━━━━━━━━\u001b[0m\u001b[37m\u001b[0m \u001b[1m11s\u001b[0m 80ms/step - loss: 0.9390 - accuracy: 0.5597 - Precision: 1.0000 - Recall: 0.5597 - val_loss: 0.8432 - val_accuracy: 0.5000 - val_Precision: 1.0000 - val_Recall: 0.5000\n",
            "Epoch 5/10\n",
            "\u001b[1m134/134\u001b[0m \u001b[32m━━━━━━━━━━━━━━━━━━━━\u001b[0m\u001b[37m\u001b[0m \u001b[1m9s\u001b[0m 69ms/step - loss: 0.7776 - accuracy: 0.6269 - Precision: 1.0000 - Recall: 0.6269 - val_loss: 0.7492 - val_accuracy: 0.6136 - val_Precision: 1.0000 - val_Recall: 0.6136\n",
            "Epoch 6/10\n",
            "\u001b[1m134/134\u001b[0m \u001b[32m━━━━━━━━━━━━━━━━━━━━\u001b[0m\u001b[37m\u001b[0m \u001b[1m8s\u001b[0m 60ms/step - loss: 0.8050 - accuracy: 0.6343 - Precision: 1.0000 - Recall: 0.6343 - val_loss: 0.6894 - val_accuracy: 0.6364 - val_Precision: 1.0000 - val_Recall: 0.6364\n",
            "Epoch 7/10\n",
            "\u001b[1m134/134\u001b[0m \u001b[32m━━━━━━━━━━━━━━━━━━━━\u001b[0m\u001b[37m\u001b[0m \u001b[1m10s\u001b[0m 72ms/step - loss: 0.8122 - accuracy: 0.6119 - Precision: 1.0000 - Recall: 0.6119 - val_loss: 0.7120 - val_accuracy: 0.6591 - val_Precision: 1.0000 - val_Recall: 0.6591\n",
            "Epoch 8/10\n",
            "\u001b[1m134/134\u001b[0m \u001b[32m━━━━━━━━━━━━━━━━━━━━\u001b[0m\u001b[37m\u001b[0m \u001b[1m11s\u001b[0m 76ms/step - loss: 0.8655 - accuracy: 0.6119 - Precision: 1.0000 - Recall: 0.6119 - val_loss: 0.7664 - val_accuracy: 0.7273 - val_Precision: 1.0000 - val_Recall: 0.7273\n",
            "Epoch 9/10\n",
            "\u001b[1m134/134\u001b[0m \u001b[32m━━━━━━━━━━━━━━━━━━━━\u001b[0m\u001b[37m\u001b[0m \u001b[1m10s\u001b[0m 75ms/step - loss: 0.7985 - accuracy: 0.6119 - Precision: 1.0000 - Recall: 0.6119 - val_loss: 0.7694 - val_accuracy: 0.5682 - val_Precision: 1.0000 - val_Recall: 0.5682\n",
            "Epoch 10/10\n",
            "\u001b[1m134/134\u001b[0m \u001b[32m━━━━━━━━━━━━━━━━━━━━\u001b[0m\u001b[37m\u001b[0m \u001b[1m14s\u001b[0m 101ms/step - loss: 0.7613 - accuracy: 0.6493 - Precision: 1.0000 - Recall: 0.6493 - val_loss: 0.7080 - val_accuracy: 0.6591 - val_Precision: 1.0000 - val_Recall: 0.6591\n"
          ]
        },
        {
          "data": {
            "text/plain": [
              "<exttorch.history.History at 0x30b6fce30>"
            ]
          },
          "execution_count": 9,
          "metadata": {},
          "output_type": "execute_result"
        }
      ],
      "source": [
        "wine_model = Sequential([\n",
        "    nn.Linear(13, 512),\n",
        "    nn.ReLU(),\n",
        "    nn.Linear(512, 512),\n",
        "    nn.ReLU(),\n",
        "    nn.Linear(512, 3)\n",
        "])\n",
        "\n",
        "wine_model.compile(\n",
        "    optimizer=Adam(wine_model.parameters()),\n",
        "    loss=nn.CrossEntropyLoss(),\n",
        "    metrics=['accuracy',\n",
        "             Precision(average=\"weighted\", zero_division=True),\n",
        "             Recall(average=\"weighted\", zero_division=True)]\n",
        "    )\n",
        "\n",
        "wine_model.fit(w_x, w_y, epochs=10, validation_split=0.25)"
      ]
    }
  ],
  "metadata": {
    "colab": {
      "provenance": []
    },
    "kernelspec": {
      "display_name": "ds",
      "language": "python",
      "name": "python3"
    },
    "language_info": {
      "codemirror_mode": {
        "name": "ipython",
        "version": 3
      },
      "file_extension": ".py",
      "mimetype": "text/x-python",
      "name": "python",
      "nbconvert_exporter": "python",
      "pygments_lexer": "ipython3",
      "version": "3.10.16"
    }
  },
  "nbformat": 4,
  "nbformat_minor": 0
}
