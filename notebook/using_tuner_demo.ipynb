{
  "cells": [
    {
      "cell_type": "code",
      "execution_count": null,
      "metadata": {
        "id": "Kf04-C1LtYdy"
      },
      "outputs": [],
      "source": [
        "#import sys\n",
        "#sys.path.append('/Volumes/Storage/DS/DL/exttorch/src/')"
      ]
    },
    {
      "cell_type": "code",
      "source": [
        "!pip install torch~=2.6.0 'torch_xla[tpu]~=2.6.0' \\\n",
        "  -f https://storage.googleapis.com/libtpu-releases/index.html \\\n",
        "  -f https://storage.googleapis.com/libtpu-wheels/index.html\n",
        "!pip install git+http://github.com/denis-spe/exttorch\n",
        "!pip install columnar"
      ],
      "metadata": {
        "id": "7psxj2dRtfpB",
        "outputId": "609b1a98-5906-4340-bf17-7ce283ee4208",
        "colab": {
          "base_uri": "https://localhost:8080/"
        }
      },
      "execution_count": 9,
      "outputs": [
        {
          "output_type": "stream",
          "name": "stdout",
          "text": [
            "Looking in links: https://storage.googleapis.com/libtpu-releases/index.html, https://storage.googleapis.com/libtpu-wheels/index.html\n",
            "Requirement already satisfied: torch~=2.6.0 in /usr/local/lib/python3.11/dist-packages (2.6.0)\n",
            "Requirement already satisfied: torch_xla~=2.6.0 in /usr/local/lib/python3.11/dist-packages (from torch_xla[tpu]~=2.6.0) (2.6.0)\n",
            "Requirement already satisfied: filelock in /usr/local/lib/python3.11/dist-packages (from torch~=2.6.0) (3.17.0)\n",
            "Requirement already satisfied: typing-extensions>=4.10.0 in /usr/local/lib/python3.11/dist-packages (from torch~=2.6.0) (4.12.2)\n",
            "Requirement already satisfied: networkx in /usr/local/lib/python3.11/dist-packages (from torch~=2.6.0) (3.4.2)\n",
            "Requirement already satisfied: jinja2 in /usr/local/lib/python3.11/dist-packages (from torch~=2.6.0) (3.1.5)\n",
            "Requirement already satisfied: fsspec in /usr/local/lib/python3.11/dist-packages (from torch~=2.6.0) (2024.10.0)\n",
            "Requirement already satisfied: nvidia-cuda-nvrtc-cu12==12.4.127 in /usr/local/lib/python3.11/dist-packages (from torch~=2.6.0) (12.4.127)\n",
            "Requirement already satisfied: nvidia-cuda-runtime-cu12==12.4.127 in /usr/local/lib/python3.11/dist-packages (from torch~=2.6.0) (12.4.127)\n",
            "Requirement already satisfied: nvidia-cuda-cupti-cu12==12.4.127 in /usr/local/lib/python3.11/dist-packages (from torch~=2.6.0) (12.4.127)\n",
            "Requirement already satisfied: nvidia-cudnn-cu12==9.1.0.70 in /usr/local/lib/python3.11/dist-packages (from torch~=2.6.0) (9.1.0.70)\n",
            "Requirement already satisfied: nvidia-cublas-cu12==12.4.5.8 in /usr/local/lib/python3.11/dist-packages (from torch~=2.6.0) (12.4.5.8)\n",
            "Requirement already satisfied: nvidia-cufft-cu12==11.2.1.3 in /usr/local/lib/python3.11/dist-packages (from torch~=2.6.0) (11.2.1.3)\n",
            "Requirement already satisfied: nvidia-curand-cu12==10.3.5.147 in /usr/local/lib/python3.11/dist-packages (from torch~=2.6.0) (10.3.5.147)\n",
            "Requirement already satisfied: nvidia-cusolver-cu12==11.6.1.9 in /usr/local/lib/python3.11/dist-packages (from torch~=2.6.0) (11.6.1.9)\n",
            "Requirement already satisfied: nvidia-cusparse-cu12==12.3.1.170 in /usr/local/lib/python3.11/dist-packages (from torch~=2.6.0) (12.3.1.170)\n",
            "Requirement already satisfied: nvidia-cusparselt-cu12==0.6.2 in /usr/local/lib/python3.11/dist-packages (from torch~=2.6.0) (0.6.2)\n",
            "Requirement already satisfied: nvidia-nccl-cu12==2.21.5 in /usr/local/lib/python3.11/dist-packages (from torch~=2.6.0) (2.21.5)\n",
            "Requirement already satisfied: nvidia-nvtx-cu12==12.4.127 in /usr/local/lib/python3.11/dist-packages (from torch~=2.6.0) (12.4.127)\n",
            "Requirement already satisfied: nvidia-nvjitlink-cu12==12.4.127 in /usr/local/lib/python3.11/dist-packages (from torch~=2.6.0) (12.4.127)\n",
            "Requirement already satisfied: triton==3.2.0 in /usr/local/lib/python3.11/dist-packages (from torch~=2.6.0) (3.2.0)\n",
            "Requirement already satisfied: sympy==1.13.1 in /usr/local/lib/python3.11/dist-packages (from torch~=2.6.0) (1.13.1)\n",
            "Requirement already satisfied: mpmath<1.4,>=1.1.0 in /usr/local/lib/python3.11/dist-packages (from sympy==1.13.1->torch~=2.6.0) (1.3.0)\n",
            "Requirement already satisfied: absl-py>=1.0.0 in /usr/local/lib/python3.11/dist-packages (from torch_xla~=2.6.0->torch_xla[tpu]~=2.6.0) (1.4.0)\n",
            "Requirement already satisfied: numpy in /usr/local/lib/python3.11/dist-packages (from torch_xla~=2.6.0->torch_xla[tpu]~=2.6.0) (1.26.4)\n",
            "Requirement already satisfied: pyyaml in /usr/local/lib/python3.11/dist-packages (from torch_xla~=2.6.0->torch_xla[tpu]~=2.6.0) (6.0.2)\n",
            "Requirement already satisfied: requests in /usr/local/lib/python3.11/dist-packages (from torch_xla~=2.6.0->torch_xla[tpu]~=2.6.0) (2.32.3)\n",
            "Requirement already satisfied: libtpu==0.0.7.1 in /usr/local/lib/python3.11/dist-packages (from torch_xla[tpu]~=2.6.0) (0.0.7.1)\n",
            "Requirement already satisfied: tpu-info in /usr/local/lib/python3.11/dist-packages (from torch_xla[tpu]~=2.6.0) (0.2.0)\n",
            "Requirement already satisfied: libtpu-nightly==0.1.dev20241010+nightly.cleanup in /usr/local/lib/python3.11/dist-packages (from torch_xla[tpu]~=2.6.0) (0.1.dev20241010+nightly.cleanup)\n",
            "Requirement already satisfied: MarkupSafe>=2.0 in /usr/local/lib/python3.11/dist-packages (from jinja2->torch~=2.6.0) (3.0.2)\n",
            "Requirement already satisfied: charset-normalizer<4,>=2 in /usr/local/lib/python3.11/dist-packages (from requests->torch_xla~=2.6.0->torch_xla[tpu]~=2.6.0) (3.4.1)\n",
            "Requirement already satisfied: idna<4,>=2.5 in /usr/local/lib/python3.11/dist-packages (from requests->torch_xla~=2.6.0->torch_xla[tpu]~=2.6.0) (3.10)\n",
            "Requirement already satisfied: urllib3<3,>=1.21.1 in /usr/local/lib/python3.11/dist-packages (from requests->torch_xla~=2.6.0->torch_xla[tpu]~=2.6.0) (2.3.0)\n",
            "Requirement already satisfied: certifi>=2017.4.17 in /usr/local/lib/python3.11/dist-packages (from requests->torch_xla~=2.6.0->torch_xla[tpu]~=2.6.0) (2025.1.31)\n",
            "Requirement already satisfied: grpcio>=1.65.5 in /usr/local/lib/python3.11/dist-packages (from tpu-info->torch_xla[tpu]~=2.6.0) (1.70.0)\n",
            "Requirement already satisfied: protobuf in /usr/local/lib/python3.11/dist-packages (from tpu-info->torch_xla[tpu]~=2.6.0) (4.25.6)\n",
            "Requirement already satisfied: rich in /usr/local/lib/python3.11/dist-packages (from tpu-info->torch_xla[tpu]~=2.6.0) (13.9.4)\n",
            "Requirement already satisfied: markdown-it-py>=2.2.0 in /usr/local/lib/python3.11/dist-packages (from rich->tpu-info->torch_xla[tpu]~=2.6.0) (3.0.0)\n",
            "Requirement already satisfied: pygments<3.0.0,>=2.13.0 in /usr/local/lib/python3.11/dist-packages (from rich->tpu-info->torch_xla[tpu]~=2.6.0) (2.18.0)\n",
            "Requirement already satisfied: mdurl~=0.1 in /usr/local/lib/python3.11/dist-packages (from markdown-it-py>=2.2.0->rich->tpu-info->torch_xla[tpu]~=2.6.0) (0.1.2)\n",
            "Collecting git+http://github.com/denis-spe/exttorch\n",
            "  Cloning http://github.com/denis-spe/exttorch to /tmp/pip-req-build-xpntud5w\n",
            "  Running command git clone --filter=blob:none --quiet http://github.com/denis-spe/exttorch /tmp/pip-req-build-xpntud5w\n",
            "  warning: redirecting to https://github.com/denis-spe/exttorch/\n",
            "  Resolved http://github.com/denis-spe/exttorch to commit 0d2d15f91720235860a50c4f14450229a438ff77\n",
            "  Installing build dependencies ... \u001b[?25l\u001b[?25hdone\n",
            "  Getting requirements to build wheel ... \u001b[?25l\u001b[?25hdone\n",
            "  Preparing metadata (pyproject.toml) ... \u001b[?25l\u001b[?25hdone\n",
            "Collecting columnar\n",
            "  Downloading Columnar-1.4.1-py3-none-any.whl.metadata (11 kB)\n",
            "Requirement already satisfied: toolz in /usr/local/lib/python3.11/dist-packages (from columnar) (0.12.1)\n",
            "Requirement already satisfied: wcwidth in /usr/local/lib/python3.11/dist-packages (from columnar) (0.2.13)\n",
            "Downloading Columnar-1.4.1-py3-none-any.whl (11 kB)\n",
            "Installing collected packages: columnar\n",
            "Successfully installed columnar-1.4.1\n"
          ]
        }
      ]
    },
    {
      "cell_type": "code",
      "execution_count": 15,
      "metadata": {
        "id": "mrhBsW5ftYd5",
        "outputId": "8d541a08-0583-4166-f3e8-679e82c8d4d7",
        "colab": {
          "base_uri": "https://localhost:8080/"
        }
      },
      "outputs": [
        {
          "output_type": "execute_result",
          "data": {
            "text/plain": [
              "['Accuracy',\n",
              " 'Auc',\n",
              " 'F1Score',\n",
              " 'Jaccard',\n",
              " 'MatthewsCorrcoef',\n",
              " 'MeanAbsoluteError',\n",
              " 'MeanSquaredError',\n",
              " 'Metric',\n",
              " 'Precision',\n",
              " 'R2',\n",
              " 'Recall',\n",
              " 'TopKAccuracy',\n",
              " 'ZeroOneLoss',\n",
              " '__abc__',\n",
              " '__abs__',\n",
              " '__builtins__',\n",
              " '__cached__',\n",
              " '__doc__',\n",
              " '__file__',\n",
              " '__loader__',\n",
              " '__name__',\n",
              " '__package__',\n",
              " '__spec__']"
            ]
          },
          "metadata": {},
          "execution_count": 15
        }
      ],
      "source": [
        "from sklearn.datasets import load_iris\n",
        "import torch\n",
        "from torch import nn\n",
        "from torch.optim import Adam\n",
        "from exttorch.accelerator import TpuScope\n",
        "from exttorch.models import Sequential\n",
        "from exttorch.callbacks import EarlyStopping\n",
        "from exttorch.hyperparameter import HyperParameters\n",
        "from exttorch import metrics\n",
        "from exttorch import tuner\n",
        "dir(metrics)"
      ]
    },
    {
      "cell_type": "code",
      "source": [
        "early_stopping = EarlyStopping(3)"
      ],
      "metadata": {
        "id": "pUKA5bmJxpRz"
      },
      "execution_count": 16,
      "outputs": []
    },
    {
      "cell_type": "code",
      "execution_count": 11,
      "metadata": {
        "id": "rbhdhLK2tYeA",
        "outputId": "4a0b99bf-e7f0-4049-ee5a-24ab4a9ba43d",
        "colab": {
          "base_uri": "https://localhost:8080/"
        }
      },
      "outputs": [
        {
          "output_type": "stream",
          "name": "stdout",
          "text": [
            "\u001b[1mIteration-2/2\u001b[0m\n",
            "\u001b[1mSummary\u001b[0m\n",
            "| Previous val_loss: 2.7685\n",
            "| Best val_loss so far: 2.7685\n",
            "\n",
            "|             |                |            |\n",
            "| Param Names | Previous param | Best param |\n",
            "|===========================================|\n",
            "|features     |512             |128         |\n",
            "|             |                |            |\n",
            "|h_features   |824             |8           |\n",
            "|             |                |            |\n",
            "|lr           |0.00061         |0.0001      |\n",
            "|             |                |            |\n",
            "|deep_learning|False           |False       |\n",
            "|             |                |            |\n",
            "\n",
            "\n",
            "\u001b[4m ---------------------------------------- \u001b[0m\n",
            "\n",
            "Epoch 1/5\n",
            "\u001b[1m151/150\u001b[0m \u001b[32m━━━━━━━━━━━━━━━━━━━━\u001b[0m\u001b[37m\u001b[0m \u001b[1m2s\u001b[0m 11ms/step - loss: 1.1973 - accuracy: 0.3333 - val_loss: 1.1979 - val_accuracy: 0.3333\n",
            "Epoch 2/5\n",
            "\u001b[1m151/150\u001b[0m \u001b[32m━━━━━━━━━━━━━━━━━━━━\u001b[0m\u001b[37m\u001b[0m \u001b[1m2s\u001b[0m 12ms/step - loss: 1.1973 - accuracy: 0.3333 - val_loss: 1.1979 - val_accuracy: 0.3333\n",
            "Epoch 3/5\n",
            "\u001b[1m151/150\u001b[0m \u001b[32m━━━━━━━━━━━━━━━━━━━━\u001b[0m\u001b[37m\u001b[0m \u001b[1m2s\u001b[0m 12ms/step - loss: 1.1973 - accuracy: 0.3333 - val_loss: 1.1979 - val_accuracy: 0.3333\n",
            "Epoch 4/5\n",
            "\u001b[1m151/150\u001b[0m \u001b[32m━━━━━━━━━━━━━━━━━━━━\u001b[0m\u001b[37m\u001b[0m \u001b[1m2s\u001b[0m 12ms/step - loss: 1.1973 - accuracy: 0.3333 - val_loss: 1.1979 - val_accuracy: 0.3333\n",
            "Epoch 5/5\n",
            "\u001b[1m151/150\u001b[0m \u001b[32m━━━━━━━━━━━━━━━━━━━━\u001b[0m\u001b[37m\u001b[0m \u001b[1m2s\u001b[0m 15ms/step - loss: 1.1973 - accuracy: 0.3333 - val_loss: 1.1979 - val_accuracy: 0.3333\n"
          ]
        }
      ],
      "source": [
        "i_x, i_y = load_iris(return_X_y=True)\n",
        "\n",
        "def tuned_model(hp: HyperParameters):\n",
        "    features = hp.Choice('features', [128, 256, 512, 1062])\n",
        "    h_features = hp.Int('h_features', 8, 1062, step=16)\n",
        "    lr = hp.Float('lr', 0.0001, 0.001)\n",
        "\n",
        "    with TpuScope():\n",
        "        if hp.Boolean('deep_learning'):\n",
        "            model = Sequential([\n",
        "                nn.Linear(4, features),\n",
        "                nn.Linear(features, h_features),\n",
        "                nn.Linear(h_features, 3)])\n",
        "        else:\n",
        "            model = Sequential([\n",
        "                nn.Linear(4, features),\n",
        "                nn.Linear(features, 3)])\n",
        "\n",
        "        model.compile(\n",
        "             loss = nn.CrossEntropyLoss(),\n",
        "             optimizer = Adam(model.parameters(), lr=lr),\n",
        "             metrics = [\"accuracy\"]\n",
        "        )\n",
        "\n",
        "    return model\n",
        "\n",
        "# Initialize the random search\n",
        "random_search = tuner.RandomSearchTune(\n",
        "                    tuned_model,\n",
        "                    random_state=42,\n",
        "                    objective = 'val_loss',\n",
        "                    iterations=2\n",
        "                )\n",
        "\n",
        "# Search the parameters\n",
        "random_search.search(\n",
        "                i_x, i_y,\n",
        "                epochs=5,\n",
        "                #generator=torch.Generator().manual_seed(42),\n",
        "                validation_data = (i_x, i_y)\n",
        "            )"
      ]
    },
    {
      "cell_type": "code",
      "execution_count": 12,
      "metadata": {
        "id": "K5Tb8W9ctYeE",
        "outputId": "ce6cea5c-5850-4187-cf06-7908f672ef38",
        "colab": {
          "base_uri": "https://localhost:8080/"
        }
      },
      "outputs": [
        {
          "output_type": "stream",
          "name": "stdout",
          "text": [
            "\u001b[1mBest Score\u001b[0m\n",
            "val_loss: 1.1979\n"
          ]
        }
      ],
      "source": [
        "random_search.best_score"
      ]
    },
    {
      "cell_type": "code",
      "execution_count": 22,
      "metadata": {
        "id": "_CDoI-eBtYeG",
        "outputId": "cc902cc6-3eb3-464a-82d9-7819e8dfe997",
        "colab": {
          "base_uri": "https://localhost:8080/"
        }
      },
      "outputs": [
        {
          "output_type": "stream",
          "name": "stdout",
          "text": [
            "\u001b[1mIteration-16/16\u001b[0m\n",
            "\u001b[1mSummary\u001b[0m\n",
            "| Previous val_loss: 0.54071\n",
            "| Best val_loss so far: 0.50286\n",
            "\n",
            "|             |                |            |\n",
            "| Param Names | Previous param | Best param |\n",
            "|===========================================|\n",
            "|features     |256             |128         |\n",
            "|             |                |            |\n",
            "|h_features   |11              |10          |\n",
            "|             |                |            |\n",
            "|deep_learning|False           |False       |\n",
            "|             |                |            |\n",
            "\n",
            "\n",
            "\u001b[4m ---------------------------------------- \u001b[0m\n",
            "\n",
            "Epoch 1/100000\n",
            "\u001b[1m151/150\u001b[0m \u001b[32m━━━━━━━━━━━━━━━━━━━━\u001b[0m\u001b[37m\u001b[0m \u001b[1m0s\u001b[0m 2ms/step - loss: 1.0984 - accuracy: 0.8333 - val_loss: 5.9256 - val_accuracy: 0.3333\n",
            "Epoch 2/100000\n",
            "\u001b[1m151/150\u001b[0m \u001b[32m━━━━━━━━━━━━━━━━━━━━\u001b[0m\u001b[37m\u001b[0m \u001b[1m0s\u001b[0m 2ms/step - loss: 1.0661 - accuracy: 0.7600 - val_loss: 3.1871 - val_accuracy: 0.3333\n",
            "Epoch 3/100000\n",
            "\u001b[1m151/150\u001b[0m \u001b[32m━━━━━━━━━━━━━━━━━━━━\u001b[0m\u001b[37m\u001b[0m \u001b[1m0s\u001b[0m 2ms/step - loss: 0.6900 - accuracy: 0.8000 - val_loss: 2.3194 - val_accuracy: 0.6667\n",
            "Epoch 4/100000\n",
            "\u001b[1m151/150\u001b[0m \u001b[32m━━━━━━━━━━━━━━━━━━━━\u001b[0m\u001b[37m\u001b[0m \u001b[1m0s\u001b[0m 2ms/step - loss: 0.7424 - accuracy: 0.8267 - val_loss: 1.6833 - val_accuracy: 0.6667\n",
            "Epoch 5/100000\n",
            "\u001b[1m151/150\u001b[0m \u001b[32m━━━━━━━━━━━━━━━━━━━━\u001b[0m\u001b[37m\u001b[0m \u001b[1m0s\u001b[0m 2ms/step - loss: 0.5724 - accuracy: 0.8333 - val_loss: 1.2437 - val_accuracy: 0.6667\n",
            "Epoch 6/100000\n",
            "\u001b[1m151/150\u001b[0m \u001b[32m━━━━━━━━━━━━━━━━━━━━\u001b[0m\u001b[37m\u001b[0m \u001b[1m0s\u001b[0m 2ms/step - loss: 0.4226 - accuracy: 0.8400 - val_loss: 1.0265 - val_accuracy: 0.6667\n",
            "Epoch 7/100000\n",
            "\u001b[1m151/150\u001b[0m \u001b[32m━━━━━━━━━━━━━━━━━━━━\u001b[0m\u001b[37m\u001b[0m \u001b[1m0s\u001b[0m 2ms/step - loss: 0.3577 - accuracy: 0.8600 - val_loss: 0.8733 - val_accuracy: 0.6733\n",
            "Epoch 8/100000\n",
            "\u001b[1m151/150\u001b[0m \u001b[32m━━━━━━━━━━━━━━━━━━━━\u001b[0m\u001b[37m\u001b[0m \u001b[1m0s\u001b[0m 2ms/step - loss: 0.2890 - accuracy: 0.8800 - val_loss: 0.7807 - val_accuracy: 0.6800\n",
            "Epoch 9/100000\n",
            "\u001b[1m151/150\u001b[0m \u001b[32m━━━━━━━━━━━━━━━━━━━━\u001b[0m\u001b[37m\u001b[0m \u001b[1m0s\u001b[0m 2ms/step - loss: 0.2477 - accuracy: 0.8933 - val_loss: 0.7031 - val_accuracy: 0.6867\n",
            "Epoch 10/100000\n",
            "\u001b[1m151/150\u001b[0m \u001b[32m━━━━━━━━━━━━━━━━━━━━\u001b[0m\u001b[37m\u001b[0m \u001b[1m0s\u001b[0m 2ms/step - loss: 0.2167 - accuracy: 0.9067 - val_loss: 0.6385 - val_accuracy: 0.7000\n",
            "Epoch 11/100000\n",
            "\u001b[1m151/150\u001b[0m \u001b[32m━━━━━━━━━━━━━━━━━━━━\u001b[0m\u001b[37m\u001b[0m \u001b[1m0s\u001b[0m 2ms/step - loss: 0.2128 - accuracy: 0.9133 - val_loss: 0.6240 - val_accuracy: 0.7067\n",
            "Epoch 12/100000\n",
            "\u001b[1m151/150\u001b[0m \u001b[32m━━━━━━━━━━━━━━━━━━━━\u001b[0m\u001b[37m\u001b[0m \u001b[1m0s\u001b[0m 3ms/step - loss: 0.1812 - accuracy: 0.9267 - val_loss: 0.5489 - val_accuracy: 0.7600\n",
            "Epoch 13/100000\n",
            "\u001b[1m151/150\u001b[0m \u001b[32m━━━━━━━━━━━━━━━━━━━━\u001b[0m\u001b[37m\u001b[0m \u001b[1m0s\u001b[0m 3ms/step - loss: 0.1585 - accuracy: 0.9267 - val_loss: 0.5006 - val_accuracy: 0.7600\n",
            "Epoch 14/100000\n",
            "\u001b[1m151/150\u001b[0m \u001b[32m━━━━━━━━━━━━━━━━━━━━\u001b[0m\u001b[37m\u001b[0m \u001b[1m0s\u001b[0m 3ms/step - loss: 0.1423 - accuracy: 0.9333 - val_loss: 0.4658 - val_accuracy: 0.7867\n",
            "Epoch 15/100000\n",
            "\u001b[1m151/150\u001b[0m \u001b[32m━━━━━━━━━━━━━━━━━━━━\u001b[0m\u001b[37m\u001b[0m \u001b[1m1s\u001b[0m 3ms/step - loss: 0.1306 - accuracy: 0.9333 - val_loss: 0.4358 - val_accuracy: 0.8000\n",
            "Epoch 16/100000\n",
            "\u001b[1m151/150\u001b[0m \u001b[32m━━━━━━━━━━━━━━━━━━━━\u001b[0m\u001b[37m\u001b[0m \u001b[1m0s\u001b[0m 3ms/step - loss: 0.1201 - accuracy: 0.9333 - val_loss: 0.4080 - val_accuracy: 0.8200\n",
            "Epoch 17/100000\n",
            "\u001b[1m151/150\u001b[0m \u001b[32m━━━━━━━━━━━━━━━━━━━━\u001b[0m\u001b[37m\u001b[0m \u001b[1m0s\u001b[0m 2ms/step - loss: 0.1116 - accuracy: 0.9467 - val_loss: 0.3837 - val_accuracy: 0.8267\n",
            "Epoch 18/100000\n",
            "\u001b[1m151/150\u001b[0m \u001b[32m━━━━━━━━━━━━━━━━━━━━\u001b[0m\u001b[37m\u001b[0m \u001b[1m0s\u001b[0m 2ms/step - loss: 0.1039 - accuracy: 0.9467 - val_loss: 0.3621 - val_accuracy: 0.8400\n",
            "Epoch 19/100000\n",
            "\u001b[1m151/150\u001b[0m \u001b[32m━━━━━━━━━━━━━━━━━━━━\u001b[0m\u001b[37m\u001b[0m \u001b[1m0s\u001b[0m 2ms/step - loss: 0.0971 - accuracy: 0.9533 - val_loss: 0.3415 - val_accuracy: 0.8467\n",
            "Epoch 20/100000\n",
            "\u001b[1m151/150\u001b[0m \u001b[32m━━━━━━━━━━━━━━━━━━━━\u001b[0m\u001b[37m\u001b[0m \u001b[1m0s\u001b[0m 2ms/step - loss: 0.0911 - accuracy: 0.9533 - val_loss: 0.3285 - val_accuracy: 0.8533\n",
            "Epoch 21/100000\n",
            "\u001b[1m151/150\u001b[0m \u001b[32m━━━━━━━━━━━━━━━━━━━━\u001b[0m\u001b[37m\u001b[0m \u001b[1m0s\u001b[0m 2ms/step - loss: 0.0869 - accuracy: 0.9667 - val_loss: 0.3105 - val_accuracy: 0.8600\n",
            "Epoch 22/100000\n",
            "\u001b[1m151/150\u001b[0m \u001b[32m━━━━━━━━━━━━━━━━━━━━\u001b[0m\u001b[37m\u001b[0m \u001b[1m0s\u001b[0m 2ms/step - loss: 0.0814 - accuracy: 0.9733 - val_loss: 0.2996 - val_accuracy: 0.8600\n",
            "Epoch 23/100000\n",
            "\u001b[1m151/150\u001b[0m \u001b[32m━━━━━━━━━━━━━━━━━━━━\u001b[0m\u001b[37m\u001b[0m \u001b[1m0s\u001b[0m 2ms/step - loss: 0.0780 - accuracy: 0.9733 - val_loss: 0.2850 - val_accuracy: 0.8733\n",
            "Epoch 24/100000\n",
            "\u001b[1m151/150\u001b[0m \u001b[32m━━━━━━━━━━━━━━━━━━━━\u001b[0m\u001b[37m\u001b[0m \u001b[1m0s\u001b[0m 2ms/step - loss: 0.0739 - accuracy: 0.9733 - val_loss: 0.2769 - val_accuracy: 0.8867\n",
            "Epoch 25/100000\n",
            "\u001b[1m151/150\u001b[0m \u001b[32m━━━━━━━━━━━━━━━━━━━━\u001b[0m\u001b[37m\u001b[0m \u001b[1m0s\u001b[0m 2ms/step - loss: 0.0719 - accuracy: 0.9733 - val_loss: 0.2673 - val_accuracy: 0.8867\n",
            "Epoch 26/100000\n",
            "\u001b[1m151/150\u001b[0m \u001b[32m━━━━━━━━━━━━━━━━━━━━\u001b[0m\u001b[37m\u001b[0m \u001b[1m0s\u001b[0m 2ms/step - loss: 0.0695 - accuracy: 0.9733 - val_loss: 0.2598 - val_accuracy: 0.8933\n",
            "Epoch 27/100000\n",
            "\u001b[1m151/150\u001b[0m \u001b[32m━━━━━━━━━━━━━━━━━━━━\u001b[0m\u001b[37m\u001b[0m \u001b[1m0s\u001b[0m 2ms/step - loss: 0.0679 - accuracy: 0.9733 - val_loss: 0.2512 - val_accuracy: 0.9067\n",
            "Epoch 28/100000\n",
            "\u001b[1m151/150\u001b[0m \u001b[32m━━━━━━━━━━━━━━━━━━━━\u001b[0m\u001b[37m\u001b[0m \u001b[1m0s\u001b[0m 2ms/step - loss: 0.0661 - accuracy: 0.9733 - val_loss: 0.2453 - val_accuracy: 0.9067\n",
            "Epoch 29/100000\n",
            "\u001b[1m151/150\u001b[0m \u001b[32m━━━━━━━━━━━━━━━━━━━━\u001b[0m\u001b[37m\u001b[0m \u001b[1m0s\u001b[0m 2ms/step - loss: 0.0648 - accuracy: 0.9733 - val_loss: 0.2364 - val_accuracy: 0.9200\n",
            "Epoch 30/100000\n",
            "\u001b[1m151/150\u001b[0m \u001b[32m━━━━━━━━━━━━━━━━━━━━\u001b[0m\u001b[37m\u001b[0m \u001b[1m0s\u001b[0m 2ms/step - loss: 0.0639 - accuracy: 0.9733 - val_loss: 0.2306 - val_accuracy: 0.9200\n",
            "Epoch 31/100000\n",
            "\u001b[1m151/150\u001b[0m \u001b[32m━━━━━━━━━━━━━━━━━━━━\u001b[0m\u001b[37m\u001b[0m \u001b[1m0s\u001b[0m 2ms/step - loss: 0.0625 - accuracy: 0.9733 - val_loss: 0.2247 - val_accuracy: 0.9267\n",
            "Epoch 32/100000\n",
            "\u001b[1m151/150\u001b[0m \u001b[32m━━━━━━━━━━━━━━━━━━━━\u001b[0m\u001b[37m\u001b[0m \u001b[1m0s\u001b[0m 2ms/step - loss: 0.0623 - accuracy: 0.9733 - val_loss: 0.2202 - val_accuracy: 0.9267\n",
            "Epoch 33/100000\n",
            "\u001b[1m151/150\u001b[0m \u001b[32m━━━━━━━━━━━━━━━━━━━━\u001b[0m\u001b[37m\u001b[0m \u001b[1m0s\u001b[0m 2ms/step - loss: 0.0619 - accuracy: 0.9733 - val_loss: 0.2120 - val_accuracy: 0.9267\n",
            "Epoch 34/100000\n",
            "\u001b[1m151/150\u001b[0m \u001b[32m━━━━━━━━━━━━━━━━━━━━\u001b[0m\u001b[37m\u001b[0m \u001b[1m0s\u001b[0m 2ms/step - loss: 0.0615 - accuracy: 0.9800 - val_loss: 0.2080 - val_accuracy: 0.9267\n",
            "Epoch 35/100000\n",
            "\u001b[1m151/150\u001b[0m \u001b[32m━━━━━━━━━━━━━━━━━━━━\u001b[0m\u001b[37m\u001b[0m \u001b[1m0s\u001b[0m 2ms/step - loss: 0.0614 - accuracy: 0.9800 - val_loss: 0.2008 - val_accuracy: 0.9267\n",
            "Epoch 36/100000\n",
            "\u001b[1m151/150\u001b[0m \u001b[32m━━━━━━━━━━━━━━━━━━━━\u001b[0m\u001b[37m\u001b[0m \u001b[1m0s\u001b[0m 2ms/step - loss: 0.0621 - accuracy: 0.9800 - val_loss: 0.1952 - val_accuracy: 0.9267\n",
            "Epoch 37/100000\n",
            "\u001b[1m151/150\u001b[0m \u001b[32m━━━━━━━━━━━━━━━━━━━━\u001b[0m\u001b[37m\u001b[0m \u001b[1m0s\u001b[0m 2ms/step - loss: 0.0618 - accuracy: 0.9733 - val_loss: 0.1894 - val_accuracy: 0.9333\n",
            "Epoch 38/100000\n",
            "\u001b[1m151/150\u001b[0m \u001b[32m━━━━━━━━━━━━━━━━━━━━\u001b[0m\u001b[37m\u001b[0m \u001b[1m0s\u001b[0m 3ms/step - loss: 0.0623 - accuracy: 0.9733 - val_loss: 0.1852 - val_accuracy: 0.9333\n",
            "Restoring model weights from the end of the best epoch.\n",
            "Epoch 38: early stopping\n"
          ]
        }
      ],
      "source": [
        "def tuned_model(hp: HyperParameters):\n",
        "    features = hp.Choice('features', [128, 256])\n",
        "    h_features = hp.Int('h_features', 8, 12, step=1)\n",
        "\n",
        "    if hp.Boolean('deep_learning'):\n",
        "        model = Sequential([\n",
        "            nn.Linear(4, features),\n",
        "            nn.LayerNorm(features),\n",
        "            nn.ReLU(),\n",
        "            nn.Linear(features, h_features),\n",
        "            nn.LayerNorm(h_features),\n",
        "            nn.Linear(h_features, 3)])\n",
        "    else:\n",
        "        model = Sequential([\n",
        "        nn.Linear(4, features),\n",
        "        nn.ReLU(),\n",
        "        nn.Linear(features, 3)])\n",
        "\n",
        "    model.compile(\n",
        "        loss = nn.CrossEntropyLoss(),\n",
        "        optimizer = Adam(model.parameters()),\n",
        "        metrics = [\"accuracy\"]\n",
        "    )\n",
        "\n",
        "    return model\n",
        "\n",
        "# Initialize the random search\n",
        "random_search = tuner.GridSearchTune(\n",
        "                    tuned_model,\n",
        "                    objective = 'val_loss'\n",
        "                )\n",
        "\n",
        "# Search the parameters\n",
        "random_search.search(\n",
        "                i_x, i_y,\n",
        "                epochs=100000,\n",
        "                validation_data = (i_x, i_y),\n",
        "                callbacks=[early_stopping]\n",
        "            )"
      ]
    },
    {
      "cell_type": "code",
      "source": [
        "random_search.best_scores"
      ],
      "metadata": {
        "id": "gZKq8lKFzAHi",
        "outputId": "b030f5f8-cdc0-4df3-adf3-eabaf260d034",
        "colab": {
          "base_uri": "https://localhost:8080/"
        }
      },
      "execution_count": 23,
      "outputs": [
        {
          "output_type": "stream",
          "name": "stdout",
          "text": [
            "\u001b[1mOverall Score\u001b[0m\n",
            "accuracy: 0.92264\n",
            "val_accuracy: 0.81167\n",
            "loss: 0.20482\n",
            "val_loss: 0.50286\n"
          ]
        }
      ]
    }
  ],
  "metadata": {
    "kernelspec": {
      "display_name": "DL",
      "language": "python",
      "name": "python3"
    },
    "language_info": {
      "codemirror_mode": {
        "name": "ipython",
        "version": 3
      },
      "file_extension": ".py",
      "mimetype": "text/x-python",
      "name": "python",
      "nbconvert_exporter": "python",
      "pygments_lexer": "ipython3",
      "version": "3.12.3"
    },
    "colab": {
      "provenance": []
    }
  },
  "nbformat": 4,
  "nbformat_minor": 0
}