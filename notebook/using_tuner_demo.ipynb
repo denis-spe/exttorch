{
 "cells": [
  {
   "cell_type": "code",
   "execution_count": 1,
   "metadata": {},
   "outputs": [],
   "source": [
    "import sys\n",
    "sys.path.append('/Volumes/Storage/DS/DL/exttorch/src/')"
   ]
  },
  {
   "cell_type": "code",
   "execution_count": 15,
   "metadata": {},
   "outputs": [
    {
     "data": {
      "text/plain": [
       "['Accuracy',\n",
       " 'Auc',\n",
       " 'F1Score',\n",
       " 'Jaccard',\n",
       " 'MatthewsCorrcoef',\n",
       " 'MeanAbsoluteError',\n",
       " 'MeanSquaredError',\n",
       " 'Metric',\n",
       " 'Precision',\n",
       " 'R2',\n",
       " 'Recall',\n",
       " 'TopKAccuracy',\n",
       " 'ZeroOneLoss',\n",
       " '__abc__',\n",
       " '__abs__',\n",
       " '__builtins__',\n",
       " '__cached__',\n",
       " '__doc__',\n",
       " '__file__',\n",
       " '__loader__',\n",
       " '__name__',\n",
       " '__package__',\n",
       " '__spec__']"
      ]
     },
     "execution_count": 15,
     "metadata": {},
     "output_type": "execute_result"
    }
   ],
   "source": [
    "from sklearn.datasets import load_iris\n",
    "import torch\n",
    "from torch import nn\n",
    "from torch.optim import Adam\n",
    "from exttorch.models import Sequential\n",
    "from exttorch.hyperparameter import HyperParameters\n",
    "from exttorch import metrics\n",
    "from exttorch import tuner\n",
    "dir(metrics)"
   ]
  },
  {
   "cell_type": "code",
   "execution_count": null,
   "metadata": {},
   "outputs": [
    {
     "data": {
      "text/plain": [
       "<torch._C.Generator at 0x126d9d510>"
      ]
     },
     "execution_count": 26,
     "metadata": {},
     "output_type": "execute_result"
    }
   ],
   "source": []
  },
  {
   "cell_type": "code",
   "execution_count": null,
   "metadata": {},
   "outputs": [
    {
     "name": "stdout",
     "output_type": "stream",
     "text": [
      "\u001b[1mIteration-2/2\u001b[0m\n",
      "\u001b[1mSummary\u001b[0m\n",
      "| Previous val_loss: 0.92356\n",
      "| Best val_loss so far: 0.92356\n",
      "\n",
      "|             |                |            |\n",
      "| Param Names | Previous param | Best param |\n",
      "|===========================================|\n",
      "|features     |512             |128         |\n",
      "|             |                |            |\n",
      "|h_features   |824             |8           |\n",
      "|             |                |            |\n",
      "|lr           |0.00061         |0.0001      |\n",
      "|             |                |            |\n",
      "|deep_learning|False           |False       |\n",
      "|             |                |            |\n",
      "\n",
      "\n",
      "\u001b[4m ---------------------------------------- \u001b[0m\n",
      "Epoch 1/5\n",
      "\u001b[1m150/150\u001b[0m \u001b[32m━━━━━━━━━━━━━━━━━━━━\u001b[0m\u001b[37m\u001b[0m \u001b[1m2s\u001b[0m 11ms/step - loss: 0.9170 - accuracy: 0.8667 - val_loss: 13.2749 - val_accuracy: 0.3333\n",
      "Epoch 2/5\n",
      "\u001b[1m150/150\u001b[0m \u001b[32m━━━━━━━━━━━━━━━━━━━━\u001b[0m\u001b[37m\u001b[0m \u001b[1m1s\u001b[0m 9ms/step - loss: 4.3575 - accuracy: 0.7800 - val_loss: 6.8712 - val_accuracy: 0.3333\n",
      "Epoch 3/5\n",
      "\u001b[1m150/150\u001b[0m \u001b[32m━━━━━━━━━━━━━━━━━━━━\u001b[0m\u001b[37m\u001b[0m \u001b[1m6s\u001b[0m 38ms/step - loss: 1.4296 - accuracy: 0.8067 - val_loss: 5.5626 - val_accuracy: 0.6667\n",
      "Epoch 4/5\n",
      "\u001b[1m150/150\u001b[0m \u001b[32m━━━━━━━━━━━━━━━━━━━━\u001b[0m\u001b[37m\u001b[0m \u001b[1m3s\u001b[0m 18ms/step - loss: 1.2296 - accuracy: 0.8267 - val_loss: 4.2994 - val_accuracy: 0.6667\n",
      "Epoch 5/5\n",
      "\u001b[1m150/150\u001b[0m \u001b[32m━━━━━━━━━━━━━━━━━━━━\u001b[0m\u001b[37m\u001b[0m \u001b[1m2s\u001b[0m 15ms/step - loss: 0.9332 - accuracy: 0.8400 - val_loss: 3.2548 - val_accuracy: 0.6667\n"
     ]
    }
   ],
   "source": [
    "i_x, i_y = load_iris(return_X_y=True)\n",
    "\n",
    "def tuned_model(hp: HyperParameters):\n",
    "    features = hp.Choice('features', [128, 256, 512, 1062])\n",
    "    h_features = hp.Int('h_features', 8, 1062, step=16)\n",
    "    lr = hp.Float('lr', 0.0001, 0.001)\n",
    "\n",
    "    if hp.Boolean('deep_learning'):\n",
    "        model = Sequential([\n",
    "            nn.Linear(4, features),\n",
    "            nn.Linear(features, h_features),\n",
    "            nn.Linear(h_features, 3)])\n",
    "    else:\n",
    "        model = Sequential([\n",
    "        nn.Linear(4, features),\n",
    "        nn.Linear(features, 3)])\n",
    "\n",
    "    model.compile(\n",
    "        loss = nn.CrossEntropyLoss(),\n",
    "        optimizer = Adam(model.parameters(), lr=lr),\n",
    "        metrics = [\"accuracy\"]\n",
    "    )\n",
    "\n",
    "    return model\n",
    "\n",
    "# Initialize the random search\n",
    "random_search = tuner.RandomSearchTune(\n",
    "                    tuned_model,\n",
    "                    random_state=42,\n",
    "                    objective = 'val_loss',\n",
    "                    iterations=2\n",
    "                )\n",
    "\n",
    "# Search the parameters\n",
    "random_search.search(\n",
    "                i_x, i_y,\n",
    "                epochs=5,\n",
    "                generator=torch.Generator().manual_seed(42),\n",
    "                validation_data = (i_x, i_y)\n",
    "            )"
   ]
  },
  {
   "cell_type": "code",
   "execution_count": 24,
   "metadata": {},
   "outputs": [
    {
     "name": "stdout",
     "output_type": "stream",
     "text": [
      "\u001b[1mBest Score\u001b[0m\n",
      "val_loss: 0.99172\n"
     ]
    }
   ],
   "source": [
    "random_search.best_score"
   ]
  },
  {
   "cell_type": "code",
   "execution_count": 4,
   "metadata": {},
   "outputs": [
    {
     "name": "stdout",
     "output_type": "stream",
     "text": [
      "\u001b[1mIteration-16/16\u001b[0m\n",
      "\u001b[1mSummary\u001b[0m\n",
      "| Previous val_loss: 4.77844\n",
      "| Best val_loss so far: 2.26178\n",
      "\n",
      "|             |                |            |\n",
      "| Param Names | Previous param | Best param |\n",
      "|===========================================|\n",
      "|features     |256             |128         |\n",
      "|             |                |            |\n",
      "|h_features   |11              |11          |\n",
      "|             |                |            |\n",
      "|deep_learning|False           |True        |\n",
      "|             |                |            |\n",
      "\n",
      "\n",
      "\u001b[4m ---------------------------------------- \u001b[0m\n",
      "Epoch 1/5\n",
      "\u001b[1m150/150\u001b[0m \u001b[32m━━━━━━━━━━━━━━━━━━━━\u001b[0m\u001b[37m\u001b[0m \u001b[1m2s\u001b[0m 13ms/step - loss: 0.8057 - accuracy: 0.8600 - val_loss: 9.7349 - val_accuracy: 0.3333\n",
      "Epoch 2/5\n",
      "\u001b[1m150/150\u001b[0m \u001b[32m━━━━━━━━━━━━━━━━━━━━\u001b[0m\u001b[37m\u001b[0m \u001b[1m2s\u001b[0m 15ms/step - loss: 2.8711 - accuracy: 0.7800 - val_loss: 4.2831 - val_accuracy: 0.3333\n",
      "Epoch 3/5\n",
      "\u001b[1m150/150\u001b[0m \u001b[32m━━━━━━━━━━━━━━━━━━━━\u001b[0m\u001b[37m\u001b[0m \u001b[1m3s\u001b[0m 22ms/step - loss: 1.0314 - accuracy: 0.8067 - val_loss: 3.1036 - val_accuracy: 0.6667\n",
      "Epoch 4/5\n",
      "\u001b[1m150/150\u001b[0m \u001b[32m━━━━━━━━━━━━━━━━━━━━\u001b[0m\u001b[37m\u001b[0m \u001b[1m2s\u001b[0m 14ms/step - loss: 0.6909 - accuracy: 0.8267 - val_loss: 2.0862 - val_accuracy: 0.6667\n",
      "Epoch 5/5\n",
      "\u001b[1m150/150\u001b[0m \u001b[32m━━━━━━━━━━━━━━━━━━━━\u001b[0m\u001b[37m\u001b[0m \u001b[1m2s\u001b[0m 14ms/step - loss: 0.4555 - accuracy: 0.8400 - val_loss: 1.5388 - val_accuracy: 0.6667\n"
     ]
    }
   ],
   "source": [
    "def tuned_model(hp: HyperParameters):\n",
    "    features = hp.Choice('features', [128, 256])\n",
    "    h_features = hp.Int('h_features', 8, 12, step=1)\n",
    "\n",
    "    if hp.Boolean('deep_learning'):\n",
    "        model = Sequential([\n",
    "            nn.Linear(4, features),\n",
    "            nn.Linear(features, h_features),\n",
    "            nn.Linear(h_features, 3)])\n",
    "    else:\n",
    "        model = Sequential([\n",
    "        nn.Linear(4, features),\n",
    "        nn.Linear(features, 3)])\n",
    "\n",
    "    model.compile(\n",
    "        loss = nn.CrossEntropyLoss(),\n",
    "        optimizer = Adam(model.parameters()),\n",
    "        metrics = [\"accuracy\"]\n",
    "    )\n",
    "\n",
    "    return model\n",
    "\n",
    "# Initialize the random search\n",
    "random_search = tuner.GridSearchTune(\n",
    "                    tuned_model,\n",
    "                    objective = 'val_loss'\n",
    "                )\n",
    "\n",
    "# Search the parameters\n",
    "random_search.search(\n",
    "                i_x, i_y,\n",
    "                epochs=5,\n",
    "                validation_data = (i_x, i_y)\n",
    "            )"
   ]
  }
 ],
 "metadata": {
  "kernelspec": {
   "display_name": "DL",
   "language": "python",
   "name": "python3"
  },
  "language_info": {
   "codemirror_mode": {
    "name": "ipython",
    "version": 3
   },
   "file_extension": ".py",
   "mimetype": "text/x-python",
   "name": "python",
   "nbconvert_exporter": "python",
   "pygments_lexer": "ipython3",
   "version": "3.12.3"
  }
 },
 "nbformat": 4,
 "nbformat_minor": 2
}
