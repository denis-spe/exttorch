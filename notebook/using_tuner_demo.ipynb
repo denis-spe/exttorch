{
 "cells": [
  {
   "cell_type": "code",
   "execution_count": 2,
   "metadata": {},
   "outputs": [],
   "source": [
    "import sys\n",
    "sys.path.append('/Volumes/Storage/DS/DL/exttorch/src/')"
   ]
  },
  {
   "cell_type": "code",
   "execution_count": 3,
   "metadata": {},
   "outputs": [
    {
     "data": {
      "text/plain": [
       "['Accuracy',\n",
       " 'Auc',\n",
       " 'F1Score',\n",
       " 'Jaccard',\n",
       " 'MatthewsCorrcoef',\n",
       " 'MeanAbsoluteError',\n",
       " 'MeanSquaredError',\n",
       " 'Metric',\n",
       " 'Precision',\n",
       " 'R2',\n",
       " 'Recall',\n",
       " 'TopKAccuracy',\n",
       " 'ZeroOneLoss',\n",
       " '__abc__',\n",
       " '__abs__',\n",
       " '__builtins__',\n",
       " '__cached__',\n",
       " '__doc__',\n",
       " '__file__',\n",
       " '__loader__',\n",
       " '__name__',\n",
       " '__package__',\n",
       " '__spec__']"
      ]
     },
     "execution_count": 3,
     "metadata": {},
     "output_type": "execute_result"
    }
   ],
   "source": [
    "from sklearn.datasets import load_iris\n",
    "from torch import nn\n",
    "from torch.optim import Adam\n",
    "from exttorch.models import Sequential\n",
    "from exttorch.hyperparameter import HyperParameters\n",
    "from exttorch import metrics\n",
    "from exttorch import tuner\n",
    "dir(metrics)"
   ]
  },
  {
   "cell_type": "code",
   "execution_count": 4,
   "metadata": {},
   "outputs": [
    {
     "name": "stdout",
     "output_type": "stream",
     "text": [
      "\u001b[1mIteration-10/10\u001b[0m\n",
      "\u001b[1mSummary\u001b[0m\n",
      "| Previous val_loss: 6.31916\n",
      "| Best val_loss so far: 0.8976\n",
      "\n",
      "|             |                |            |\n",
      "| Param Names | Previous param | Best param |\n",
      "|===========================================|\n",
      "|features     |512             |128         |\n",
      "|             |                |            |\n",
      "|h_features   |824             |8           |\n",
      "|             |                |            |\n",
      "|lr           |0.00061         |0.0001      |\n",
      "|             |                |            |\n",
      "|deep_learning|False           |False       |\n",
      "|             |                |            |\n",
      "\n",
      "\n",
      "\u001b[4m ---------------------------------------- \u001b[0m\n",
      "Epoch 1/5\n",
      "\u001b[1m150/150\u001b[0m \u001b[32m━━━━━━━━━━━━━━━━━━━━\u001b[0m\u001b[37m\u001b[0m \u001b[1m2s\u001b[0m 15ms/step - loss: 0.9910 - accuracy: 0.8667 - val_loss: 14.0320 - val_accuracy: 0.3333\n",
      "Epoch 2/5\n",
      "\u001b[1m150/150\u001b[0m \u001b[32m━━━━━━━━━━━━━━━━━━━━\u001b[0m\u001b[37m\u001b[0m \u001b[1m2s\u001b[0m 10ms/step - loss: 4.8934 - accuracy: 0.7800 - val_loss: 6.7617 - val_accuracy: 0.3333\n",
      "Epoch 3/5\n",
      "\u001b[1m150/150\u001b[0m \u001b[32m━━━━━━━━━━━━━━━━━━━━\u001b[0m\u001b[37m\u001b[0m \u001b[1m1s\u001b[0m 9ms/step - loss: 1.4921 - accuracy: 0.8000 - val_loss: 5.6435 - val_accuracy: 0.6667\n",
      "Epoch 4/5\n",
      "\u001b[1m150/150\u001b[0m \u001b[32m━━━━━━━━━━━━━━━━━━━━\u001b[0m\u001b[37m\u001b[0m \u001b[1m3s\u001b[0m 19ms/step - loss: 1.2467 - accuracy: 0.8267 - val_loss: 4.3863 - val_accuracy: 0.6667\n",
      "Epoch 5/5\n",
      "\u001b[1m150/150\u001b[0m \u001b[32m━━━━━━━━━━━━━━━━━━━━\u001b[0m\u001b[37m\u001b[0m \u001b[1m2s\u001b[0m 15ms/step - loss: 0.9558 - accuracy: 0.8333 - val_loss: 3.3860 - val_accuracy: 0.6667\n"
     ]
    }
   ],
   "source": [
    "i_x, i_y = load_iris(return_X_y=True)\n",
    "\n",
    "def tuned_model(hp: HyperParameters):\n",
    "    features = hp.Choice('features', [128, 256, 512, 1062])\n",
    "    h_features = hp.Int('h_features', 8, 1062, step=16)\n",
    "    lr = hp.Float('lr', 0.0001, 0.001)\n",
    "\n",
    "    if hp.Boolean('deep_learning'):\n",
    "        model = Sequential([\n",
    "            nn.Linear(4, features),\n",
    "            nn.Linear(features, h_features),\n",
    "            nn.Linear(h_features, 3)])\n",
    "    else:\n",
    "        model = Sequential([\n",
    "        nn.Linear(4, features),\n",
    "        nn.Linear(features, 3)])\n",
    "\n",
    "    model.compile(\n",
    "        loss = nn.CrossEntropyLoss(),\n",
    "        optimizer = Adam(model.parameters(), lr=lr),\n",
    "        metrics = [\"accuracy\"]\n",
    "    )\n",
    "\n",
    "    return model\n",
    "\n",
    "# Initialize the random search\n",
    "random_search = tuner.RandomSearchTune(\n",
    "                    tuned_model,\n",
    "                    random_state=42,\n",
    "                    objective = 'val_loss',\n",
    "                    iterations=10\n",
    "                )\n",
    "\n",
    "# Search the parameters\n",
    "random_search.search(\n",
    "                i_x, i_y,\n",
    "                epochs=5,\n",
    "                validation_data = (i_x, i_y)\n",
    "            )"
   ]
  },
  {
   "cell_type": "code",
   "execution_count": 5,
   "metadata": {},
   "outputs": [
    {
     "name": "stdout",
     "output_type": "stream",
     "text": [
      "\u001b[1mIteration-16/16\u001b[0m\n",
      "\u001b[1mSummary\u001b[0m\n",
      "| Previous val_loss: 4.18256\n",
      "| Best val_loss so far: 1.69336\n",
      "\n",
      "|             |                |            |\n",
      "| Param Names | Previous param | Best param |\n",
      "|===========================================|\n",
      "|features     |256             |128         |\n",
      "|             |                |            |\n",
      "|h_features   |11              |8           |\n",
      "|             |                |            |\n",
      "|deep_learning|False           |True        |\n",
      "|             |                |            |\n",
      "\n",
      "\n",
      "\u001b[4m ---------------------------------------- \u001b[0m\n",
      "Epoch 1/5\n",
      "\u001b[1m150/150\u001b[0m \u001b[32m━━━━━━━━━━━━━━━━━━━━\u001b[0m\u001b[37m\u001b[0m \u001b[1m1s\u001b[0m 8ms/step - loss: 0.9135 - accuracy: 0.8533 - val_loss: 10.1456 - val_accuracy: 0.3333\n",
      "Epoch 2/5\n",
      "\u001b[1m150/150\u001b[0m \u001b[32m━━━━━━━━━━━━━━━━━━━━\u001b[0m\u001b[37m\u001b[0m \u001b[1m2s\u001b[0m 13ms/step - loss: 3.1345 - accuracy: 0.7867 - val_loss: 4.3058 - val_accuracy: 0.3333\n",
      "Epoch 3/5\n",
      "\u001b[1m150/150\u001b[0m \u001b[32m━━━━━━━━━━━━━━━━━━━━\u001b[0m\u001b[37m\u001b[0m \u001b[1m2s\u001b[0m 11ms/step - loss: 1.0958 - accuracy: 0.8000 - val_loss: 3.1257 - val_accuracy: 0.6667\n",
      "Epoch 4/5\n",
      "\u001b[1m150/150\u001b[0m \u001b[32m━━━━━━━━━━━━━━━━━━━━\u001b[0m\u001b[37m\u001b[0m \u001b[1m2s\u001b[0m 11ms/step - loss: 0.6876 - accuracy: 0.8267 - val_loss: 2.0285 - val_accuracy: 0.6667\n",
      "Epoch 5/5\n",
      "\u001b[1m150/150\u001b[0m \u001b[32m━━━━━━━━━━━━━━━━━━━━\u001b[0m\u001b[37m\u001b[0m \u001b[1m2s\u001b[0m 12ms/step - loss: 0.4361 - accuracy: 0.8400 - val_loss: 1.3991 - val_accuracy: 0.6667\n"
     ]
    }
   ],
   "source": [
    "def tuned_model(hp: HyperParameters):\n",
    "    features = hp.Choice('features', [128, 256])\n",
    "    h_features = hp.Int('h_features', 8, 12, step=1)\n",
    "\n",
    "    if hp.Boolean('deep_learning'):\n",
    "        model = Sequential([\n",
    "            nn.Linear(4, features),\n",
    "            nn.Linear(features, h_features),\n",
    "            nn.Linear(h_features, 3)])\n",
    "    else:\n",
    "        model = Sequential([\n",
    "        nn.Linear(4, features),\n",
    "        nn.Linear(features, 3)])\n",
    "\n",
    "    model.compile(\n",
    "        loss = nn.CrossEntropyLoss(),\n",
    "        optimizer = Adam(model.parameters()),\n",
    "        metrics = [\"accuracy\"]\n",
    "    )\n",
    "\n",
    "    return model\n",
    "\n",
    "# Initialize the random search\n",
    "random_search = tuner.GridSearchTune(\n",
    "                    tuned_model,\n",
    "                    objective = 'val_loss'\n",
    "                )\n",
    "\n",
    "# Search the parameters\n",
    "random_search.search(\n",
    "                i_x, i_y,\n",
    "                epochs=5,\n",
    "                validation_data = (i_x, i_y)\n",
    "            )"
   ]
  }
 ],
 "metadata": {
  "kernelspec": {
   "display_name": "torch",
   "language": "python",
   "name": "python3"
  },
  "language_info": {
   "codemirror_mode": {
    "name": "ipython",
    "version": 3
   },
   "file_extension": ".py",
   "mimetype": "text/x-python",
   "name": "python",
   "nbconvert_exporter": "python",
   "pygments_lexer": "ipython3",
   "version": "3.12.4"
  }
 },
 "nbformat": 4,
 "nbformat_minor": 2
}
