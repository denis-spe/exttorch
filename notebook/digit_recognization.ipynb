{
  "cells": [
    {
      "cell_type": "code",
      "source": [
        "%pip install git+https://github.com/denis-spe/exttorch.git"
      ],
      "metadata": {
        "id": "SM9RHLTdUdYr",
        "outputId": "887382f6-2892-47c9-b2ef-991310795a8a",
        "colab": {
          "base_uri": "https://localhost:8080/"
        }
      },
      "execution_count": 19,
      "outputs": [
        {
          "output_type": "stream",
          "name": "stdout",
          "text": [
            "Collecting git+https://github.com/denis-spe/exttorch.git\n",
            "  Cloning https://github.com/denis-spe/exttorch.git to /tmp/pip-req-build-qmod77y8\n",
            "  Running command git clone --filter=blob:none --quiet https://github.com/denis-spe/exttorch.git /tmp/pip-req-build-qmod77y8\n",
            "  Resolved https://github.com/denis-spe/exttorch.git to commit 535d92c10847058ace35731c1dc947716f52c48a\n",
            "  Installing build dependencies ... \u001b[?25l\u001b[?25hdone\n",
            "  Getting requirements to build wheel ... \u001b[?25l\u001b[?25hdone\n",
            "  Preparing metadata (pyproject.toml) ... \u001b[?25l\u001b[?25hdone\n"
          ]
        }
      ]
    },
    {
      "cell_type": "code",
      "execution_count": 31,
      "metadata": {
        "id": "Ml25Mu4MT84r"
      },
      "outputs": [],
      "source": [
        "\n",
        "import torch\n",
        "import os\n",
        "import sys\n",
        "import numpy as np\n",
        "# sys.path.append('../src/')\n",
        "from exttorch.models import Sequential\n",
        "from exttorch.callbacks import EarlyStopping\n",
        "import torch.nn as nn\n",
        "from torch.utils.data import DataLoader, Dataset\n",
        "from torchvision import transforms\n",
        "from torch.optim import Adam\n",
        "from exttorch.metrics import Accuracy\n",
        "import pandas as pd\n",
        "from exttorch._data_handle import DataHandler"
      ]
    },
    {
      "cell_type": "code",
      "source": [
        "try:\n",
        "    from google.colab import drive\n",
        "    drive.mount('/content/drive')\n",
        "    train_df = pd.read_csv('./drive/MyDrive/Datasets/MNIST/train.csv')\n",
        "    test_df = pd.read_csv('./drive/MyDrive/Datasets/MNIST/test.csv')\n",
        "except:\n",
        "    train_df = pd.read_csv('/Volumes/Storage/DS/DL/exttorch/datasets/digit-recognizer/train.csv')\n",
        "    test_df = pd.read_csv('/Volumes/Storage/DS/DL/exttorch/datasets/digit-recognizer/test.csv')"
      ],
      "metadata": {
        "id": "xstGaWwAU5Bi",
        "outputId": "3a17406a-6fbd-4a25-916a-351519d962ee",
        "colab": {
          "base_uri": "https://localhost:8080/"
        }
      },
      "execution_count": 21,
      "outputs": [
        {
          "output_type": "stream",
          "name": "stdout",
          "text": [
            "Drive already mounted at /content/drive; to attempt to forcibly remount, call drive.mount(\"/content/drive\", force_remount=True).\n"
          ]
        }
      ]
    },
    {
      "cell_type": "code",
      "execution_count": 22,
      "metadata": {
        "id": "xVhV1KhbT84u",
        "outputId": "490b291e-fc6b-4db5-89b5-f583c0f58588",
        "colab": {
          "base_uri": "https://localhost:8080/"
        }
      },
      "outputs": [
        {
          "output_type": "stream",
          "name": "stdout",
          "text": [
            "Train_data Shape (32998, 785)\n",
            "Valid_data: (9002, 785)\n"
          ]
        }
      ],
      "source": [
        "mask = np.random.randn(len(train_df)) <= 0.8\n",
        "train_data = train_df[mask]\n",
        "valid_data = train_df[~mask]\n",
        "print(f\"Train_data Shape {train_data.shape}\\nValid_data: {valid_data.shape}\")"
      ]
    },
    {
      "cell_type": "code",
      "execution_count": 23,
      "metadata": {
        "id": "F1QkEBOqT84w"
      },
      "outputs": [],
      "source": [
        "class CreateDataset(Dataset):\n",
        "    def __init__(self, df: pd.DataFrame, transforms: transforms = None,\n",
        "                 train: bool =True, normalize: bool = True):\n",
        "        self.transforms = transforms\n",
        "        self.train = train\n",
        "        self.df = df\n",
        "        self.len = self.df.shape[0]\n",
        "        self.normalize = normalize\n",
        "\n",
        "    def __len__(self):\n",
        "        return self.len\n",
        "\n",
        "    def __getitem__(self, index: int):\n",
        "        if 'label' in self.df.columns:\n",
        "            image = self.df.iloc[index, 1:].values.reshape(28, 28)\n",
        "            if self.normalize:\n",
        "                image = self.df.iloc[index, 1:].values.reshape(28, 28) / 255\n",
        "            label = self.df.iloc[index, 0]\n",
        "            if self.transforms:\n",
        "                image = self.transforms(image).type(torch.float)\n",
        "            return image, label\n",
        "        else:\n",
        "            image = self.df.iloc[index, :].values.reshape(28, 28)\n",
        "            if self.normalize:\n",
        "                image = self.df.iloc[index, :].values.reshape(28, 28) / 255\n",
        "            if self.transforms:\n",
        "                image = self.transforms(image).type(torch.float)\n",
        "            return image"
      ]
    },
    {
      "cell_type": "code",
      "execution_count": 24,
      "metadata": {
        "id": "LyekZfNlT84w"
      },
      "outputs": [],
      "source": [
        "# Construct Datasets train_X_set\n",
        "train_X_set = CreateDataset(\n",
        "    train_data,\n",
        "    transforms=transforms.Compose([transforms.ToTensor()]))\n",
        "\n",
        "# Construct valid_X_set dataset\n",
        "valid_X_set = CreateDataset(\n",
        "    valid_data,\n",
        "    transforms=transforms.Compose([transforms.ToTensor()]))\n",
        "\n",
        "# Construct test_data\n",
        "test_data = CreateDataset(\n",
        "    test_df,\n",
        "    transforms=transforms.Compose([transforms.ToTensor()]))"
      ]
    },
    {
      "cell_type": "code",
      "execution_count": 25,
      "metadata": {
        "id": "XIY97BX_T84x"
      },
      "outputs": [],
      "source": [
        "BATCH_SIZE=64"
      ]
    },
    {
      "cell_type": "code",
      "execution_count": 26,
      "metadata": {
        "id": "MTru-ZHkT84x"
      },
      "outputs": [],
      "source": [
        "# Coupling Datasets with dataloader function\n",
        "train_dataloader = DataLoader(train_X_set, batch_size=BATCH_SIZE, shuffle=True)\n",
        "valid_dataloader = DataLoader(valid_X_set, batch_size=BATCH_SIZE, shuffle=True)\n",
        "\n",
        "test_dataloader = DataLoader(test_data, batch_size=BATCH_SIZE, shuffle=False)"
      ]
    },
    {
      "cell_type": "code",
      "execution_count": 27,
      "metadata": {
        "id": "5h47kzWIT84z"
      },
      "outputs": [],
      "source": [
        "model = Sequential([\n",
        "    # Transpose Input data\n",
        "    nn.Flatten(),\n",
        "\n",
        "    # Input layer\n",
        "    nn.Linear(in_features=28 * 28, out_features=256),\n",
        "    nn.ReLU(),  # Activation function\n",
        "    nn.Dropout(.4),  # Drop same pixel\n",
        "\n",
        "    nn.Linear(in_features=256, out_features=256),\n",
        "    nn.ReLU(),  # Activation function\n",
        "    nn.Dropout(.4),  # Drop same pixel\n",
        "\n",
        "    # Output layer\n",
        "    nn.Linear(in_features=256, out_features=10),\n",
        "    nn.Softmax(dim=1)\n",
        "])\n",
        "\n",
        ""
      ]
    },
    {
      "cell_type": "code",
      "execution_count": 32,
      "metadata": {
        "id": "SI0EzqKbT840",
        "outputId": "3f5338e8-cde5-4875-b796-f677f393811d",
        "colab": {
          "base_uri": "https://localhost:8080/"
        }
      },
      "outputs": [
        {
          "output_type": "stream",
          "name": "stdout",
          "text": [
            "\n",
            "Epoch 1/120\n",
            "\u001b[1m517/516\u001b[0m \u001b[32m━━━━━━━━━━━━━━━━━━━━\u001b[0m\u001b[37m\u001b[0m \u001b[1m23s\u001b[0m 44ms/step - loss: 1.4987 - Accuracy: 0.9631 - val_loss: 1.4970 - val_Accuracy: 0.9647\n",
            "Epoch 2/120\n",
            "\u001b[1m517/516\u001b[0m \u001b[32m━━━━━━━━━━━━━━━━━━━━\u001b[0m\u001b[37m\u001b[0m \u001b[1m22s\u001b[0m 42ms/step - loss: 1.5003 - Accuracy: 0.9606 - val_loss: 1.4958 - val_Accuracy: 0.9659\n",
            "Epoch 3/120\n",
            "\u001b[1m517/516\u001b[0m \u001b[32m━━━━━━━━━━━━━━━━━━━━\u001b[0m\u001b[37m\u001b[0m \u001b[1m24s\u001b[0m 47ms/step - loss: 1.4983 - Accuracy: 0.9635 - val_loss: 1.4929 - val_Accuracy: 0.9689\n",
            "Epoch 4/120\n",
            "\u001b[1m517/516\u001b[0m \u001b[32m━━━━━━━━━━━━━━━━━━━━\u001b[0m\u001b[37m\u001b[0m \u001b[1m22s\u001b[0m 43ms/step - loss: 1.4965 - Accuracy: 0.9651 - val_loss: 1.4953 - val_Accuracy: 0.9658\n",
            "Epoch 5/120\n",
            "\u001b[1m517/516\u001b[0m \u001b[32m━━━━━━━━━━━━━━━━━━━━\u001b[0m\u001b[37m\u001b[0m \u001b[1m22s\u001b[0m 42ms/step - loss: 1.4954 - Accuracy: 0.9658 - val_loss: 1.4926 - val_Accuracy: 0.9690\n",
            "Epoch 6/120\n",
            "\u001b[1m517/516\u001b[0m \u001b[32m━━━━━━━━━━━━━━━━━━━━\u001b[0m\u001b[37m\u001b[0m \u001b[1m23s\u001b[0m 44ms/step - loss: 1.4937 - Accuracy: 0.9679 - val_loss: 1.4951 - val_Accuracy: 0.9658\n",
            "Epoch 7/120\n",
            "\u001b[1m517/516\u001b[0m \u001b[32m━━━━━━━━━━━━━━━━━━━━\u001b[0m\u001b[37m\u001b[0m \u001b[1m23s\u001b[0m 44ms/step - loss: 1.4943 - Accuracy: 0.9672 - val_loss: 1.4937 - val_Accuracy: 0.9679\n",
            "Epoch 8/120\n",
            "\u001b[1m517/516\u001b[0m \u001b[32m━━━━━━━━━━━━━━━━━━━━\u001b[0m\u001b[37m\u001b[0m \u001b[1m23s\u001b[0m 44ms/step - loss: 1.4933 - Accuracy: 0.9677 - val_loss: 1.4914 - val_Accuracy: 0.9697\n",
            "Epoch 9/120\n",
            "\u001b[1m517/516\u001b[0m \u001b[32m━━━━━━━━━━━━━━━━━━━━\u001b[0m\u001b[37m\u001b[0m \u001b[1m21s\u001b[0m 41ms/step - loss: 1.4936 - Accuracy: 0.9677 - val_loss: 1.4937 - val_Accuracy: 0.9678\n",
            "Epoch 10/120\n",
            "\u001b[1m517/516\u001b[0m \u001b[32m━━━━━━━━━━━━━━━━━━━━\u001b[0m\u001b[37m\u001b[0m \u001b[1m22s\u001b[0m 43ms/step - loss: 1.4927 - Accuracy: 0.9682 - val_loss: 1.4933 - val_Accuracy: 0.9678\n",
            "Epoch 11/120\n",
            "\u001b[1m517/516\u001b[0m \u001b[32m━━━━━━━━━━━━━━━━━━━━\u001b[0m\u001b[37m\u001b[0m \u001b[1m22s\u001b[0m 42ms/step - loss: 1.4922 - Accuracy: 0.9689 - val_loss: 1.4925 - val_Accuracy: 0.9688\n",
            "Epoch 12/120\n",
            "\u001b[1m517/516\u001b[0m \u001b[32m━━━━━━━━━━━━━━━━━━━━\u001b[0m\u001b[37m\u001b[0m \u001b[1m22s\u001b[0m 42ms/step - loss: 1.4922 - Accuracy: 0.9689 - val_loss: 1.4942 - val_Accuracy: 0.9669\n",
            "Epoch 13/120\n",
            "\u001b[1m517/516\u001b[0m \u001b[32m━━━━━━━━━━━━━━━━━━━━\u001b[0m\u001b[37m\u001b[0m \u001b[1m23s\u001b[0m 44ms/step - loss: 1.4913 - Accuracy: 0.9698 - val_loss: 1.4905 - val_Accuracy: 0.9709\n",
            "Epoch 14/120\n",
            "\u001b[1m517/516\u001b[0m \u001b[32m━━━━━━━━━━━━━━━━━━━━\u001b[0m\u001b[37m\u001b[0m \u001b[1m23s\u001b[0m 45ms/step - loss: 1.4918 - Accuracy: 0.9691 - val_loss: 1.4922 - val_Accuracy: 0.9688\n",
            "Epoch 15/120\n",
            "\u001b[1m517/516\u001b[0m \u001b[32m━━━━━━━━━━━━━━━━━━━━\u001b[0m\u001b[37m\u001b[0m \u001b[1m23s\u001b[0m 44ms/step - loss: 1.4915 - Accuracy: 0.9697 - val_loss: 1.4902 - val_Accuracy: 0.9709\n",
            "Epoch 16/120\n",
            "\u001b[1m517/516\u001b[0m \u001b[32m━━━━━━━━━━━━━━━━━━━━\u001b[0m\u001b[37m\u001b[0m \u001b[1m21s\u001b[0m 41ms/step - loss: 1.4900 - Accuracy: 0.9708 - val_loss: 1.4898 - val_Accuracy: 0.9715\n",
            "Epoch 17/120\n",
            "\u001b[1m517/516\u001b[0m \u001b[32m━━━━━━━━━━━━━━━━━━━━\u001b[0m\u001b[37m\u001b[0m \u001b[1m23s\u001b[0m 44ms/step - loss: 1.4896 - Accuracy: 0.9717 - val_loss: 1.4882 - val_Accuracy: 0.9728\n",
            "Epoch 18/120\n",
            "\u001b[1m517/516\u001b[0m \u001b[32m━━━━━━━━━━━━━━━━━━━━\u001b[0m\u001b[37m\u001b[0m \u001b[1m21s\u001b[0m 41ms/step - loss: 1.4902 - Accuracy: 0.9711 - val_loss: 1.4886 - val_Accuracy: 0.9726\n",
            "Epoch 19/120\n",
            "\u001b[1m517/516\u001b[0m \u001b[32m━━━━━━━━━━━━━━━━━━━━\u001b[0m\u001b[37m\u001b[0m \u001b[1m23s\u001b[0m 44ms/step - loss: 1.4915 - Accuracy: 0.9697 - val_loss: 1.4895 - val_Accuracy: 0.9720\n",
            "Epoch 20/120\n",
            "\u001b[1m517/516\u001b[0m \u001b[32m━━━━━━━━━━━━━━━━━━━━\u001b[0m\u001b[37m\u001b[0m \u001b[1m24s\u001b[0m 46ms/step - loss: 1.4897 - Accuracy: 0.9715 - val_loss: 1.4900 - val_Accuracy: 0.9714\n",
            "Restoring model weights from the end of the best epoch.\n",
            "Epoch 20: early stopping\n"
          ]
        }
      ],
      "source": [
        "\n",
        "model.compile(\n",
        "    optimizer=Adam(model.parameters()),\n",
        "    loss=nn.CrossEntropyLoss(),\n",
        "    metrics=[Accuracy()]\n",
        ")\n",
        "\n",
        "history = model.fit(\n",
        "    train_dataloader,\n",
        "    epochs=120,\n",
        "    validation_data=valid_dataloader,\n",
        "    callbacks=[EarlyStopping(patience=3)]\n",
        "    )"
      ]
    },
    {
      "cell_type": "code",
      "execution_count": 33,
      "metadata": {
        "id": "rxm6mEa4T841",
        "outputId": "ca654000-353b-4aa2-9831-fe7e2e0e3ba8",
        "colab": {
          "base_uri": "https://localhost:8080/"
        }
      },
      "outputs": [
        {
          "output_type": "execute_result",
          "data": {
            "text/plain": [
              "{'Accuracy': [0.9631,\n",
              "  0.9606,\n",
              "  0.9635,\n",
              "  0.9651,\n",
              "  0.9658,\n",
              "  0.9679,\n",
              "  0.9672,\n",
              "  0.9677,\n",
              "  0.9677,\n",
              "  0.9682,\n",
              "  0.9689,\n",
              "  0.9689,\n",
              "  0.9698,\n",
              "  0.9691,\n",
              "  0.9697,\n",
              "  0.9708,\n",
              "  0.9717,\n",
              "  0.9711,\n",
              "  0.9697,\n",
              "  0.9715],\n",
              " 'val_Accuracy': [0.9647,\n",
              "  0.9659,\n",
              "  0.9689,\n",
              "  0.9658,\n",
              "  0.969,\n",
              "  0.9658,\n",
              "  0.9679,\n",
              "  0.9697,\n",
              "  0.9678,\n",
              "  0.9678,\n",
              "  0.9688,\n",
              "  0.9669,\n",
              "  0.9709,\n",
              "  0.9688,\n",
              "  0.9709,\n",
              "  0.9715,\n",
              "  0.9728,\n",
              "  0.9726,\n",
              "  0.972,\n",
              "  0.9714],\n",
              " 'loss': [1.4986,\n",
              "  1.5003,\n",
              "  1.4983,\n",
              "  1.4965,\n",
              "  1.4955,\n",
              "  1.4937,\n",
              "  1.4943,\n",
              "  1.4932,\n",
              "  1.4936,\n",
              "  1.4927,\n",
              "  1.4922,\n",
              "  1.4922,\n",
              "  1.4913,\n",
              "  1.4918,\n",
              "  1.4915,\n",
              "  1.4902,\n",
              "  1.4896,\n",
              "  1.4902,\n",
              "  1.4914,\n",
              "  1.4897],\n",
              " 'val_loss': [1.497,\n",
              "  1.4958,\n",
              "  1.4929,\n",
              "  1.4953,\n",
              "  1.4926,\n",
              "  1.4951,\n",
              "  1.4937,\n",
              "  1.4914,\n",
              "  1.4937,\n",
              "  1.4933,\n",
              "  1.4925,\n",
              "  1.4942,\n",
              "  1.4905,\n",
              "  1.4922,\n",
              "  1.4902,\n",
              "  1.4898,\n",
              "  1.4882,\n",
              "  1.4886,\n",
              "  1.4895,\n",
              "  1.49]}"
            ]
          },
          "metadata": {},
          "execution_count": 33
        }
      ],
      "source": [
        "history.history"
      ]
    },
    {
      "cell_type": "code",
      "source": [],
      "metadata": {
        "id": "n4mQAUW-eeNF"
      },
      "execution_count": null,
      "outputs": []
    }
  ],
  "metadata": {
    "kernelspec": {
      "display_name": "DL",
      "language": "python",
      "name": "python3"
    },
    "language_info": {
      "codemirror_mode": {
        "name": "ipython",
        "version": 3
      },
      "file_extension": ".py",
      "mimetype": "text/x-python",
      "name": "python",
      "nbconvert_exporter": "python",
      "pygments_lexer": "ipython3",
      "version": "3.12.3"
    },
    "colab": {
      "provenance": []
    }
  },
  "nbformat": 4,
  "nbformat_minor": 0
}