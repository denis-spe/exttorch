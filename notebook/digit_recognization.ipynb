{
 "cells": [
  {
   "cell_type": "code",
   "execution_count": 1,
   "metadata": {},
   "outputs": [],
   "source": [
    "\n",
    "import torch\n",
    "import os\n",
    "import sys\n",
    "import numpy as np\n",
    "sys.path.append('../src/')\n",
    "from exttorch.models import Sequential\n",
    "import torch.nn as nn\n",
    "from torch.utils.data import DataLoader, Dataset\n",
    "from torchvision import transforms\n",
    "from torch.optim import Adam\n",
    "from exttorch.metrics import Accuracy\n",
    "import pandas as pd\n",
    "from exttorch._data_handle import DataHandler"
   ]
  },
  {
   "cell_type": "code",
   "execution_count": 2,
   "metadata": {},
   "outputs": [],
   "source": [
    "train_df = pd.read_csv('/Volumes/Storage/DS/DL/exttorch/datasets/digit-recognizer/train.csv')\n",
    "test_df = pd.read_csv('/Volumes/Storage/DS/DL/exttorch/datasets/digit-recognizer/test.csv')"
   ]
  },
  {
   "cell_type": "code",
   "execution_count": 3,
   "metadata": {},
   "outputs": [
    {
     "name": "stdout",
     "output_type": "stream",
     "text": [
      "Train_data Shape (33120, 785)\n",
      "Valid_data: (8880, 785)\n"
     ]
    }
   ],
   "source": [
    "mask = np.random.randn(len(train_df)) <= 0.8\n",
    "train_data = train_df[mask]\n",
    "valid_data = train_df[~mask]\n",
    "print(f\"Train_data Shape {train_data.shape}\\nValid_data: {valid_data.shape}\")"
   ]
  },
  {
   "cell_type": "code",
   "execution_count": 4,
   "metadata": {},
   "outputs": [],
   "source": [
    "class CreateDataset(Dataset):\n",
    "    def __init__(self, df: pd.DataFrame, transforms: transforms = None,\n",
    "                 train: bool =True, normalize: bool = True):\n",
    "        self.transforms = transforms\n",
    "        self.train = train\n",
    "        self.df = df\n",
    "        self.len = self.df.shape[0]\n",
    "        self.normalize = normalize\n",
    "\n",
    "    def __len__(self):\n",
    "        return self.len\n",
    "\n",
    "    def __getitem__(self, index: int):\n",
    "        if 'label' in self.df.columns:\n",
    "            image = self.df.iloc[index, 1:].values.reshape(28, 28)\n",
    "            if self.normalize:\n",
    "                image = self.df.iloc[index, 1:].values.reshape(28, 28) / 255\n",
    "            label = self.df.iloc[index, 0]\n",
    "            if self.transforms:\n",
    "                image = self.transforms(image).type(torch.float)\n",
    "            return image, label\n",
    "        else:\n",
    "            image = self.df.iloc[index, :].values.reshape(28, 28)\n",
    "            if self.normalize:\n",
    "                image = self.df.iloc[index, :].values.reshape(28, 28) / 255\n",
    "            if self.transforms:\n",
    "                image = self.transforms(image).type(torch.float)\n",
    "            return image"
   ]
  },
  {
   "cell_type": "code",
   "execution_count": 5,
   "metadata": {},
   "outputs": [],
   "source": [
    "# Construct Datasets train_X_set\n",
    "train_X_set = CreateDataset(\n",
    "    train_data,\n",
    "    transforms=transforms.Compose([transforms.ToTensor()]))\n",
    "\n",
    "# Construct valid_X_set dataset\n",
    "valid_X_set = CreateDataset(\n",
    "    valid_data,\n",
    "    transforms=transforms.Compose([transforms.ToTensor()]))\n",
    "\n",
    "# Construct test_data\n",
    "test_data = CreateDataset(\n",
    "    test_df,\n",
    "    transforms=transforms.Compose([transforms.ToTensor()]))"
   ]
  },
  {
   "cell_type": "code",
   "execution_count": 6,
   "metadata": {},
   "outputs": [],
   "source": [
    "BATCH_SIZE=64"
   ]
  },
  {
   "cell_type": "code",
   "execution_count": 7,
   "metadata": {},
   "outputs": [],
   "source": [
    "# Coupling Datasets with dataloader function\n",
    "train_dataloader = DataLoader(train_X_set, batch_size=BATCH_SIZE, shuffle=True)\n",
    "valid_dataloader = DataLoader(valid_X_set, batch_size=BATCH_SIZE, shuffle=True)\n",
    "\n",
    "test_dataloader = DataLoader(test_data, batch_size=BATCH_SIZE, shuffle=False)"
   ]
  },
  {
   "cell_type": "code",
   "execution_count": 12,
   "metadata": {},
   "outputs": [],
   "source": [
    "model = Sequential([\n",
    "    # Transpose Input data\n",
    "    nn.Flatten(),\n",
    "\n",
    "    # Input layer\n",
    "    nn.Linear(in_features=28 * 28, out_features=256),\n",
    "    nn.ReLU(),  # Activation function\n",
    "    nn.Dropout(.4),  # Drop same pixel\n",
    "\n",
    "    nn.Linear(in_features=256, out_features=256),\n",
    "    nn.ReLU(),  # Activation function\n",
    "    nn.Dropout(.4),  # Drop same pixel\n",
    "\n",
    "    # Output layer\n",
    "    nn.Linear(in_features=256, out_features=10),\n",
    "    nn.Softmax(dim=1)\n",
    "])\n",
    "\n",
    "        "
   ]
  },
  {
   "cell_type": "code",
   "execution_count": 14,
   "metadata": {},
   "outputs": [
    {
     "name": "stdout",
     "output_type": "stream",
     "text": [
      "Epoch 1/10\n",
      "\u001b[1m518/518\u001b[0m \u001b[32m━━━━━━━━━━━━━━━━━━━━\u001b[0m\u001b[37m\u001b[0m \u001b[1m45s\u001b[0m 87ms/step - loss: 1.5547 - Accuracy: 0.9194 - val_loss: 1.5226 - val_Accuracy: 0.9399\n",
      "Epoch 2/10\n",
      "\u001b[1m518/518\u001b[0m \u001b[32m━━━━━━━━━━━━━━━━━━━━\u001b[0m\u001b[37m\u001b[0m \u001b[1m58s\u001b[0m 112ms/step - loss: 1.5305 - Accuracy: 0.9360 - val_loss: 1.5106 - val_Accuracy: 0.9512\n",
      "Epoch 3/10\n",
      "\u001b[1m518/518\u001b[0m \u001b[32m━━━━━━━━━━━━━━━━━━━━\u001b[0m\u001b[37m\u001b[0m \u001b[1m71s\u001b[0m 138ms/step - loss: 1.5197 - Accuracy: 0.9442 - val_loss: 1.5076 - val_Accuracy: 0.9542\n",
      "Epoch 4/10\n",
      "\u001b[1m518/518\u001b[0m \u001b[32m━━━━━━━━━━━━━━━━━━━━\u001b[0m\u001b[37m\u001b[0m \u001b[1m66s\u001b[0m 128ms/step - loss: 1.5155 - Accuracy: 0.9494 - val_loss: 1.5015 - val_Accuracy: 0.9604\n",
      "Epoch 5/10\n",
      "\u001b[1m518/518\u001b[0m \u001b[32m━━━━━━━━━━━━━━━━━━━━\u001b[0m\u001b[37m\u001b[0m \u001b[1m74s\u001b[0m 143ms/step - loss: 1.5063 - Accuracy: 0.9544 - val_loss: 1.5003 - val_Accuracy: 0.9611\n",
      "Epoch 6/10\n",
      "\u001b[1m518/518\u001b[0m \u001b[32m━━━━━━━━━━━━━━━━━━━━\u001b[0m\u001b[37m\u001b[0m \u001b[1m129s\u001b[0m 249ms/step - loss: 1.5057 - Accuracy: 0.9554 - val_loss: 1.4987 - val_Accuracy: 0.9632\n",
      "Epoch 7/10\n",
      "\u001b[1m518/518\u001b[0m \u001b[32m━━━━━━━━━━━━━━━━━━━━\u001b[0m\u001b[37m\u001b[0m \u001b[1m108s\u001b[0m 209ms/step - loss: 1.5031 - Accuracy: 0.9559 - val_loss: 1.4979 - val_Accuracy: 0.9636\n",
      "Epoch 8/10\n",
      "\u001b[1m518/518\u001b[0m \u001b[32m━━━━━━━━━━━━━━━━━━━━\u001b[0m\u001b[37m\u001b[0m \u001b[1m80s\u001b[0m 154ms/step - loss: 1.5022 - Accuracy: 0.9594 - val_loss: 1.4979 - val_Accuracy: 0.9630\n",
      "Epoch 9/10\n",
      "\u001b[1m518/518\u001b[0m \u001b[32m━━━━━━━━━━━━━━━━━━━━\u001b[0m\u001b[37m\u001b[0m \u001b[1m77s\u001b[0m 149ms/step - loss: 1.5012 - Accuracy: 0.9617 - val_loss: 1.4999 - val_Accuracy: 0.9610\n",
      "Epoch 10/10\n",
      "\u001b[1m518/518\u001b[0m \u001b[32m━━━━━━━━━━━━━━━━━━━━\u001b[0m\u001b[37m\u001b[0m \u001b[1m71s\u001b[0m 138ms/step - loss: 1.4974 - Accuracy: 0.9633 - val_loss: 1.4949 - val_Accuracy: 0.9668\n"
     ]
    }
   ],
   "source": [
    "model.compile(\n",
    "    optimizer=Adam(model.parameters()),\n",
    "    loss=nn.CrossEntropyLoss(),\n",
    "    metrics=[Accuracy()]\n",
    ")\n",
    "\n",
    "history = model.fit(train_dataloader, epochs=10, validation_data=valid_dataloader)"
   ]
  },
  {
   "cell_type": "code",
   "execution_count": 15,
   "metadata": {},
   "outputs": [
    {
     "name": "stdout",
     "output_type": "stream",
     "text": [
      "{'Accuracy': [0.9194, 0.936, 0.9442, 0.9494, 0.9544, 0.9554, 0.9559, 0.9594, 0.9617, 0.9633], 'val_Accuracy': [0.9399, 0.9512, 0.9542, 0.9604, 0.9611, 0.9632, 0.9636, 0.963, 0.961, 0.9668], 'loss': [1.5458, 1.5279, 1.5187, 1.5133, 1.5077, 1.5065, 1.5058, 1.5022, 1.4999, 1.4984], 'val_loss': [1.5226, 1.5106, 1.5076, 1.5015, 1.5003, 1.4987, 1.4979, 1.4979, 1.4999, 1.4949]}\n"
     ]
    }
   ],
   "source": [
    "print(history.history)"
   ]
  }
 ],
 "metadata": {
  "kernelspec": {
   "display_name": "DL",
   "language": "python",
   "name": "python3"
  },
  "language_info": {
   "codemirror_mode": {
    "name": "ipython",
    "version": 3
   },
   "file_extension": ".py",
   "mimetype": "text/x-python",
   "name": "python",
   "nbconvert_exporter": "python",
   "pygments_lexer": "ipython3",
   "version": "3.12.3"
  }
 },
 "nbformat": 4,
 "nbformat_minor": 2
}
